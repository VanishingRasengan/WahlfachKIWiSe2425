{
  "cells": [
    {
      "cell_type": "markdown",
      "metadata": {
        "id": "view-in-github",
        "colab_type": "text"
      },
      "source": [
        "<a href=\"https://colab.research.google.com/github/VanishingRasengan/WahlfachKIWiSe2324/blob/main/Hausaufgabe1.ipynb\" target=\"_parent\"><img src=\"https://colab.research.google.com/assets/colab-badge.svg\" alt=\"Open In Colab\"/></a>"
      ]
    },
    {
      "metadata": {
        "dc": {
          "key": "4"
        },
        "deletable": false,
        "editable": false,
        "run_control": {
          "frozen": true
        },
        "tags": [
          "context"
        ],
        "id": "d2NzDe2zyLGp"
      },
      "cell_type": "markdown",
      "source": [
        "## 1. Laden der Daten in ein dictionary\n",
        "\n",
        "Netflix! Was 1997 als DVD-Verleih begann, hat sich seither zum größten Unterhaltungs- und Medienunternehmen nach Marktkapitalisierung entwickelt, das im Januar 2021 über 200 Millionen Abonnenten hatte.\n",
        "\n",
        "Angesichts der großen Anzahl von Filmen und Serien, die auf der Plattform verfügbar sind, ist dies eine perfekte Gelegenheit, unsere Fähigkeiten in der Datenmanipulation zu testen, die wir in den ersten zwei Wahlfachterminen erlernt haben!\n",
        "\n",
        "Im folgenden werden wir mit einer CSV-Datei mit Netflix-Daten arbeiten und analysieren, ob die durchschnittliche Dauer von Filmen abgenommen hat.\n",
        "\n",
        "Als Beweis dafür haben wir folgende Informationen zur Verfügung: Für die Jahre 2011 bis 2020 liegt die durchschnittliche Filmdauer bei 103, 101, 99, 100, 100, 95, 95, 96, 93 bzw. 90.\n",
        "\n",
        "Datenanalyse und -manipulation geht am einfachsten mit der pandas library. Aber zuerst müssen wir ein DataFrame von Grund auf erstellen. Beginnen wir daher zunächst mit der Erstellung eines Python-Objekts: einem Wörterbuch!"
      ]
    },
    {
      "metadata": {
        "dc": {
          "key": "4"
        },
        "tags": [
          "sample_code"
        ],
        "trusted": false,
        "id": "QOfylg-tyLGr"
      },
      "cell_type": "code",
      "source": [
        "# Create the years and durations lists\n",
        "years = ...\n",
        "durations = ...\n",
        "\n",
        "# Create a dictionary with the two lists\n",
        "movie_dict = ...\n",
        "\n",
        "# Print the dictionary\n",
        "movie_dict"
      ],
      "execution_count": null,
      "outputs": []
    },
    {
      "metadata": {
        "dc": {
          "key": "11"
        },
        "deletable": false,
        "editable": false,
        "run_control": {
          "frozen": true
        },
        "tags": [
          "context"
        ],
        "id": "4iaNv30syLGs"
      },
      "cell_type": "markdown",
      "source": [
        "## 2. Erstellen eines DataFrame aus einem Wörterbuch\n",
        "\n",
        "Um unser dictionary movie_dict in einen Pandas DataFrame zu konvertieren, müssen wir zunächst die library unter ihrem üblichen Alias importieren. Außerdem müssen wir unseren DataFrame überprüfen, um sicherzustellen, dass dieser korrekt erstellt wurde:"
      ]
    },
    {
      "metadata": {
        "dc": {
          "key": "11"
        },
        "tags": [
          "sample_code"
        ],
        "trusted": false,
        "collapsed": true,
        "id": "hSjXCC3MyLGs"
      },
      "cell_type": "code",
      "source": [
        "# Import pandas under its usual alias\n",
        "...\n",
        "\n",
        "# Create a DataFrame from the dictionary\n",
        "durations_df = ...\n",
        "\n",
        "# Print the DataFrame\n",
        "..."
      ],
      "execution_count": null,
      "outputs": []
    },
    {
      "metadata": {
        "dc": {
          "key": "18"
        },
        "deletable": false,
        "editable": false,
        "run_control": {
          "frozen": true
        },
        "tags": [
          "context"
        ],
        "id": "dI8pSGdMyLGt"
      },
      "cell_type": "markdown",
      "source": [
        "## 3. Visuelle Darstellung unserer Daten\n",
        "Sehr gut, wir haben jetzt einen Pandas DataFrame, die gängigste Art, mit tabular data in Python zu arbeiten. Nun zurück zu unserer Aufgabe. Wir wollen der Behauptung nachgehen, dass die Filmlänge im Laufe der Zeit abgenommen hat. Durch eine Visualisierung der Daten können wir einene ersten Trend abschätzen.\n",
        "\n",
        "Da es sich um kontinuierliche Daten handelt, wäre ein line plot eine gute Wahl, bei dem die years auf der x-Achse und die durations in Minuten auf der y-Achse dargestellt werden. Auf diese Weise lassen sich Trends in der Filmdauer leicht erkennen. Es gibt viele Möglichkeiten, Daten in Python zu visualisieren, aber matploblib.pyplot ist eines der gebräuchlichsten Pakete, um dies zu tun.\n",
        "\n",
        "Hinweis: Damit wir Ihre Darstellung korrekt testen können, müsst ihr ein matplotlib.pyplot Figure-Objekt initialisieren, das ich euch bereits in der Zelle unten bereitgestellt habe."
      ]
    },
    {
      "metadata": {
        "dc": {
          "key": "18"
        },
        "tags": [
          "sample_code"
        ],
        "trusted": false,
        "id": "opztQla7yLGt"
      },
      "cell_type": "code",
      "source": [
        "# Import matplotlib.pyplot under its usual alias and create a figure\n",
        "...\n",
        "fig = plt.figure()\n",
        "\n",
        "# Draw a line plot of release_years and durations\n",
        "...\n",
        "\n",
        "# Create a title\n",
        "...\n",
        "\n",
        "# Show the plot\n",
        "..."
      ],
      "execution_count": null,
      "outputs": []
    },
    {
      "metadata": {
        "dc": {
          "key": "25"
        },
        "deletable": false,
        "editable": false,
        "run_control": {
          "frozen": true
        },
        "tags": [
          "context"
        ],
        "id": "K5gBJ6vOyLGu"
      },
      "cell_type": "markdown",
      "source": [
        "## 4. Laden der restlichen Daten aus einer CSV-Datei\n",
        "\n",
        "Es sieht tatsächlich danach aus, als ob etwas an der These dran ist, dass die Filmlänge in den letzten zehn Jahren abgenommen hat! Um dieser These weiter nachzugehen, müssen wir die Analysen ausweiten.\n",
        "\n",
        "Wir haben nun Zugriff auf die CSV-Datei, die deutlich mehr Spielraum für Analysen bietet. Wir erstellen nun einen weiteren DataFrame und werfen einen ersten Blick auf diesen, indem wir die ersten fünf Zeilen ausgeben lassen."
      ]
    },
    {
      "metadata": {
        "dc": {
          "key": "25"
        },
        "tags": [
          "sample_code"
        ],
        "trusted": false,
        "collapsed": true,
        "colab": {
          "base_uri": "https://localhost:8080/",
          "height": 206
        },
        "id": "W2PiWB7myLGu",
        "outputId": "86dec25a-c9f9-4daf-b080-fa5f58ba434e"
      },
      "cell_type": "code",
      "source": [
        "# Read in the CSV as a DataFrame\n",
        "url = 'https://raw.githubusercontent.com/VanishingRasengan/WahlfachKISoSe23/main/datasets/netflix_data.csv'\n",
        "netflix_df = pd.read_csv(url)\n",
        "\n",
        "# Print the first five rows of the DataFrame\n",
        "..."
      ],
      "execution_count": null,
      "outputs": [
        {
          "output_type": "execute_result",
          "data": {
            "text/plain": [
              "  show_id     type  title           director  \\\n",
              "0      s1  TV Show     3%                NaN   \n",
              "1      s2    Movie   7:19  Jorge Michel Grau   \n",
              "2      s3    Movie  23:59       Gilbert Chan   \n",
              "3      s4    Movie      9        Shane Acker   \n",
              "4      s5    Movie     21     Robert Luketic   \n",
              "\n",
              "                                                cast        country  \\\n",
              "0  João Miguel, Bianca Comparato, Michel Gomes, R...         Brazil   \n",
              "1  Demián Bichir, Héctor Bonilla, Oscar Serrano, ...         Mexico   \n",
              "2  Tedd Chan, Stella Chung, Henley Hii, Lawrence ...      Singapore   \n",
              "3  Elijah Wood, John C. Reilly, Jennifer Connelly...  United States   \n",
              "4  Jim Sturgess, Kevin Spacey, Kate Bosworth, Aar...  United States   \n",
              "\n",
              "          date_added  release_year  duration  \\\n",
              "0    August 14, 2020          2020         4   \n",
              "1  December 23, 2016          2016        93   \n",
              "2  December 20, 2018          2011        78   \n",
              "3  November 16, 2017          2009        80   \n",
              "4    January 1, 2020          2008       123   \n",
              "\n",
              "                                         description             genre  \n",
              "0  In a future where the elite inhabit an island ...  International TV  \n",
              "1  After a devastating earthquake hits Mexico Cit...            Dramas  \n",
              "2  When an army recruit is found dead, his fellow...     Horror Movies  \n",
              "3  In a postapocalyptic world, rag-doll robots hi...            Action  \n",
              "4  A brilliant group of students become card-coun...            Dramas  "
            ],
            "text/html": [
              "\n",
              "  <div id=\"df-b473ccf0-89de-4d98-9752-20020f283b37\">\n",
              "    <div class=\"colab-df-container\">\n",
              "      <div>\n",
              "<style scoped>\n",
              "    .dataframe tbody tr th:only-of-type {\n",
              "        vertical-align: middle;\n",
              "    }\n",
              "\n",
              "    .dataframe tbody tr th {\n",
              "        vertical-align: top;\n",
              "    }\n",
              "\n",
              "    .dataframe thead th {\n",
              "        text-align: right;\n",
              "    }\n",
              "</style>\n",
              "<table border=\"1\" class=\"dataframe\">\n",
              "  <thead>\n",
              "    <tr style=\"text-align: right;\">\n",
              "      <th></th>\n",
              "      <th>show_id</th>\n",
              "      <th>type</th>\n",
              "      <th>title</th>\n",
              "      <th>director</th>\n",
              "      <th>cast</th>\n",
              "      <th>country</th>\n",
              "      <th>date_added</th>\n",
              "      <th>release_year</th>\n",
              "      <th>duration</th>\n",
              "      <th>description</th>\n",
              "      <th>genre</th>\n",
              "    </tr>\n",
              "  </thead>\n",
              "  <tbody>\n",
              "    <tr>\n",
              "      <th>0</th>\n",
              "      <td>s1</td>\n",
              "      <td>TV Show</td>\n",
              "      <td>3%</td>\n",
              "      <td>NaN</td>\n",
              "      <td>João Miguel, Bianca Comparato, Michel Gomes, R...</td>\n",
              "      <td>Brazil</td>\n",
              "      <td>August 14, 2020</td>\n",
              "      <td>2020</td>\n",
              "      <td>4</td>\n",
              "      <td>In a future where the elite inhabit an island ...</td>\n",
              "      <td>International TV</td>\n",
              "    </tr>\n",
              "    <tr>\n",
              "      <th>1</th>\n",
              "      <td>s2</td>\n",
              "      <td>Movie</td>\n",
              "      <td>7:19</td>\n",
              "      <td>Jorge Michel Grau</td>\n",
              "      <td>Demián Bichir, Héctor Bonilla, Oscar Serrano, ...</td>\n",
              "      <td>Mexico</td>\n",
              "      <td>December 23, 2016</td>\n",
              "      <td>2016</td>\n",
              "      <td>93</td>\n",
              "      <td>After a devastating earthquake hits Mexico Cit...</td>\n",
              "      <td>Dramas</td>\n",
              "    </tr>\n",
              "    <tr>\n",
              "      <th>2</th>\n",
              "      <td>s3</td>\n",
              "      <td>Movie</td>\n",
              "      <td>23:59</td>\n",
              "      <td>Gilbert Chan</td>\n",
              "      <td>Tedd Chan, Stella Chung, Henley Hii, Lawrence ...</td>\n",
              "      <td>Singapore</td>\n",
              "      <td>December 20, 2018</td>\n",
              "      <td>2011</td>\n",
              "      <td>78</td>\n",
              "      <td>When an army recruit is found dead, his fellow...</td>\n",
              "      <td>Horror Movies</td>\n",
              "    </tr>\n",
              "    <tr>\n",
              "      <th>3</th>\n",
              "      <td>s4</td>\n",
              "      <td>Movie</td>\n",
              "      <td>9</td>\n",
              "      <td>Shane Acker</td>\n",
              "      <td>Elijah Wood, John C. Reilly, Jennifer Connelly...</td>\n",
              "      <td>United States</td>\n",
              "      <td>November 16, 2017</td>\n",
              "      <td>2009</td>\n",
              "      <td>80</td>\n",
              "      <td>In a postapocalyptic world, rag-doll robots hi...</td>\n",
              "      <td>Action</td>\n",
              "    </tr>\n",
              "    <tr>\n",
              "      <th>4</th>\n",
              "      <td>s5</td>\n",
              "      <td>Movie</td>\n",
              "      <td>21</td>\n",
              "      <td>Robert Luketic</td>\n",
              "      <td>Jim Sturgess, Kevin Spacey, Kate Bosworth, Aar...</td>\n",
              "      <td>United States</td>\n",
              "      <td>January 1, 2020</td>\n",
              "      <td>2008</td>\n",
              "      <td>123</td>\n",
              "      <td>A brilliant group of students become card-coun...</td>\n",
              "      <td>Dramas</td>\n",
              "    </tr>\n",
              "  </tbody>\n",
              "</table>\n",
              "</div>\n",
              "      <button class=\"colab-df-convert\" onclick=\"convertToInteractive('df-b473ccf0-89de-4d98-9752-20020f283b37')\"\n",
              "              title=\"Convert this dataframe to an interactive table.\"\n",
              "              style=\"display:none;\">\n",
              "        \n",
              "  <svg xmlns=\"http://www.w3.org/2000/svg\" height=\"24px\"viewBox=\"0 0 24 24\"\n",
              "       width=\"24px\">\n",
              "    <path d=\"M0 0h24v24H0V0z\" fill=\"none\"/>\n",
              "    <path d=\"M18.56 5.44l.94 2.06.94-2.06 2.06-.94-2.06-.94-.94-2.06-.94 2.06-2.06.94zm-11 1L8.5 8.5l.94-2.06 2.06-.94-2.06-.94L8.5 2.5l-.94 2.06-2.06.94zm10 10l.94 2.06.94-2.06 2.06-.94-2.06-.94-.94-2.06-.94 2.06-2.06.94z\"/><path d=\"M17.41 7.96l-1.37-1.37c-.4-.4-.92-.59-1.43-.59-.52 0-1.04.2-1.43.59L10.3 9.45l-7.72 7.72c-.78.78-.78 2.05 0 2.83L4 21.41c.39.39.9.59 1.41.59.51 0 1.02-.2 1.41-.59l7.78-7.78 2.81-2.81c.8-.78.8-2.07 0-2.86zM5.41 20L4 18.59l7.72-7.72 1.47 1.35L5.41 20z\"/>\n",
              "  </svg>\n",
              "      </button>\n",
              "      \n",
              "  <style>\n",
              "    .colab-df-container {\n",
              "      display:flex;\n",
              "      flex-wrap:wrap;\n",
              "      gap: 12px;\n",
              "    }\n",
              "\n",
              "    .colab-df-convert {\n",
              "      background-color: #E8F0FE;\n",
              "      border: none;\n",
              "      border-radius: 50%;\n",
              "      cursor: pointer;\n",
              "      display: none;\n",
              "      fill: #1967D2;\n",
              "      height: 32px;\n",
              "      padding: 0 0 0 0;\n",
              "      width: 32px;\n",
              "    }\n",
              "\n",
              "    .colab-df-convert:hover {\n",
              "      background-color: #E2EBFA;\n",
              "      box-shadow: 0px 1px 2px rgba(60, 64, 67, 0.3), 0px 1px 3px 1px rgba(60, 64, 67, 0.15);\n",
              "      fill: #174EA6;\n",
              "    }\n",
              "\n",
              "    [theme=dark] .colab-df-convert {\n",
              "      background-color: #3B4455;\n",
              "      fill: #D2E3FC;\n",
              "    }\n",
              "\n",
              "    [theme=dark] .colab-df-convert:hover {\n",
              "      background-color: #434B5C;\n",
              "      box-shadow: 0px 1px 3px 1px rgba(0, 0, 0, 0.15);\n",
              "      filter: drop-shadow(0px 1px 2px rgba(0, 0, 0, 0.3));\n",
              "      fill: #FFFFFF;\n",
              "    }\n",
              "  </style>\n",
              "\n",
              "      <script>\n",
              "        const buttonEl =\n",
              "          document.querySelector('#df-b473ccf0-89de-4d98-9752-20020f283b37 button.colab-df-convert');\n",
              "        buttonEl.style.display =\n",
              "          google.colab.kernel.accessAllowed ? 'block' : 'none';\n",
              "\n",
              "        async function convertToInteractive(key) {\n",
              "          const element = document.querySelector('#df-b473ccf0-89de-4d98-9752-20020f283b37');\n",
              "          const dataTable =\n",
              "            await google.colab.kernel.invokeFunction('convertToInteractive',\n",
              "                                                     [key], {});\n",
              "          if (!dataTable) return;\n",
              "\n",
              "          const docLinkHtml = 'Like what you see? Visit the ' +\n",
              "            '<a target=\"_blank\" href=https://colab.research.google.com/notebooks/data_table.ipynb>data table notebook</a>'\n",
              "            + ' to learn more about interactive tables.';\n",
              "          element.innerHTML = '';\n",
              "          dataTable['output_type'] = 'display_data';\n",
              "          await google.colab.output.renderOutput(dataTable, element);\n",
              "          const docLink = document.createElement('div');\n",
              "          docLink.innerHTML = docLinkHtml;\n",
              "          element.appendChild(docLink);\n",
              "        }\n",
              "      </script>\n",
              "    </div>\n",
              "  </div>\n",
              "  "
            ]
          },
          "metadata": {},
          "execution_count": 33
        }
      ]
    },
    {
      "metadata": {
        "dc": {
          "key": "32"
        },
        "deletable": false,
        "editable": false,
        "run_control": {
          "frozen": true
        },
        "tags": [
          "context"
        ],
        "id": "C2Ik0EjGyLGu"
      },
      "cell_type": "markdown",
      "source": [
        "## 5. Filtern nach Filmen!\n",
        "\n",
        "Super, endlich haben wir unsere Daten! Jetzt können wir eintauchen und uns die Filmlängen genauer anschauen.\n",
        "\n",
        "Oder können wir das? Wenn wir uns die ersten fünf Zeilen unseres neuen DataFrame ansehen, fällt uns die Spalte \"type\" auf. Beim Betrachten der Spalte wird deutlich, dass der Datensatz auch Fernsehsendungen enthält! Außerdem scheint die Spalte \"duration\", die wir verwenden wollten, unterschiedliche Werte zu repräsentieren, je nachdem, ob es sich bei der Zeile um einen Film oder eine Serie handelt (vielleicht die Anzahl der Minuten oder die Anzahl der Staffeln)?\n",
        "\n",
        "Glücklicherweise ermöglicht ein DataFrame das schnelle Filtern von Daten, und wir können Zeilen auswählen, deren type \"Movie\" ist. Wenn wir schon dabei sind: Wir brauchen auch nicht die Informationen aus allen Spalten, also erstellen wir einen neuen DataFrame netflix_movies, der nur 'title', 'country', 'genre', 'release_year', 'duration' enthält.\n",
        "\n",
        "Lassen Sie uns unsere data subsetting skills einsetzen!"
      ]
    },
    {
      "metadata": {
        "dc": {
          "key": "32"
        },
        "tags": [
          "sample_code"
        ],
        "trusted": false,
        "id": "Nu1PUaRiyLGu"
      },
      "cell_type": "code",
      "source": [
        "# Subset the DataFrame for type \"Movie\"\n",
        "netflix_df_movies_only = ...\n",
        "\n",
        "# Select only the columns of interest\n",
        "netflix_movies_col_subset = ...\n",
        "\n",
        "# Print the first five rows of the new DataFrame\n",
        "..."
      ],
      "execution_count": null,
      "outputs": []
    },
    {
      "metadata": {
        "dc": {
          "key": "39"
        },
        "deletable": false,
        "editable": false,
        "run_control": {
          "frozen": true
        },
        "tags": [
          "context"
        ],
        "id": "NmuhJ0YDyLGu"
      },
      "cell_type": "markdown",
      "source": [
        "## 6. Creating a scatter plot\n",
        "Okay, jetzt kommen wir weiter. Wir haben die Rohdaten eingelesen, Filmzeilen ausgewählt und unseren DataFrame auf die für uns interessanten Spalten beschränkt. Versuchen wir nun, die Daten erneut zu visualisieren, um die Daten über einen längeren Zeitraum zu untersuchen.\n",
        "\n",
        "Diesmal arbeiten wir nicht mehr mit \"aggregierten Daten\", sondern mit einzelnen Filmen. Ein  line plot ist für unsere Daten daher nicht mehr geeignet, also versuchen wir es stattdessen mit einem scatter plot. Wir werden wieder das Jahr der Veröffentlichung auf der x-Achse und die Filmdauer auf der y-Achse darstellen."
      ]
    },
    {
      "metadata": {
        "dc": {
          "key": "39"
        },
        "tags": [
          "sample_code"
        ],
        "trusted": false,
        "id": "QYcOdQA2yLGv"
      },
      "cell_type": "code",
      "source": [
        "# Create a figure and increase the figure size\n",
        "fig = plt.figure(figsize=(12,8))\n",
        "\n",
        "# Create a scatter plot of duration versus year\n",
        "...\n",
        "\n",
        "# Create a title\n",
        "...\n",
        "\n",
        "# Show the plot\n",
        "..."
      ],
      "execution_count": null,
      "outputs": []
    },
    {
      "metadata": {
        "dc": {
          "key": "46"
        },
        "deletable": false,
        "editable": false,
        "run_control": {
          "frozen": true
        },
        "tags": [
          "context"
        ],
        "id": "mEAH_yeGyLGv"
      },
      "cell_type": "markdown",
      "source": [
        "## 7. Weiter geht's\n",
        "Das ist schon viel aufschlussreicher als die einfache Grafik, die wir zu Beginn erstellt haben. Wir können auch sehen, dass neuere Filme auf der Plattform überrepräsentiert sind und viele Kurzfilme in den letzten zwei Jahrzehnten veröffentlicht wurden.\n",
        "\n",
        "Bei näherer Betrachtung fällt noch etwas anderes auf: Einige dieser Filme sind weniger als eine Stunde lang! Filtern wir unseren DataFrame nach Filmen mit einer Dauer von weniger als 60 Minuten und sehen wir uns die Genres an. Dies könnte uns Aufschluss darüber geben, was den Durchschnitt nach unten zieht."
      ]
    },
    {
      "metadata": {
        "dc": {
          "key": "46"
        },
        "tags": [
          "sample_code"
        ],
        "trusted": false,
        "id": "5waHpp1EyLGv"
      },
      "cell_type": "code",
      "source": [
        "# Filter for durations shorter than 60 minutes\n",
        "short_movies = ...\n",
        "\n",
        "# Print the first 20 rows of short_movies\n",
        "..."
      ],
      "execution_count": null,
      "outputs": []
    },
    {
      "metadata": {
        "dc": {
          "key": "53"
        },
        "deletable": false,
        "editable": false,
        "run_control": {
          "frozen": true
        },
        "tags": [
          "context"
        ],
        "id": "yq8HjaO7yLGw"
      },
      "cell_type": "markdown",
      "source": [
        "## 8. Marking non-feature films\n",
        "Interessant! Es sieht so aus, als ob viele der Filme, die weniger als 60 Minuten lang sind, in Genres wie \"Kinder\", \"Stand-Up\" und \"Dokumentarfilme\" fallen. Dies ist ein logisches Ergebnis, da diese Arten von Filmen wahrscheinlich oft kürzer sind als 90-minütige Hollywood-Blockbuster.\n",
        "\n",
        "Wir könnten diese Zeilen aus unserem DataFrame eliminieren und die Werte erneut darstellen. Eine andere interessante Möglichkeit, die Auswirkungen dieser Genres auf unsere Daten zu untersuchen, wäre es, sie zwar miteinzubeziehen, sie jedoch mit einer anderen Farbe zu markieren.\n",
        "\n",
        "In Python gibt es dafür viele Möglichkeiten, aber ihr sollt das am besten mit einer Schleife üben, um eine Liste von Farben basierend auf dem Inhalt der Genre-Spalte zu erzeugen. Dieser Liste können wir dann in einem späteren Schritt an unsere Plotting-Funktion übergeben, um alle untypischen Genres in einer anderen Farbe zu markieren!"
      ]
    },
    {
      "metadata": {
        "dc": {
          "key": "53"
        },
        "tags": [
          "sample_code"
        ],
        "trusted": false,
        "collapsed": true,
        "id": "FtyYkm9YyLGw"
      },
      "cell_type": "code",
      "source": [
        "# Define an empty list\n",
        "colors = ...\n",
        "\n",
        "# Iterate over rows of netflix_movies_col_subset\n",
        "for ..., ... in ... :\n",
        "    if ... :\n",
        "        ...\n",
        "    elif ... :\n",
        "        ...\n",
        "    elif ... :\n",
        "        ...\n",
        "    else:\n",
        "        ...\n",
        "\n",
        "# Inspect the first 10 values in your list\n",
        "..."
      ],
      "execution_count": null,
      "outputs": []
    },
    {
      "metadata": {
        "dc": {
          "key": "60"
        },
        "deletable": false,
        "editable": false,
        "run_control": {
          "frozen": true
        },
        "tags": [
          "context"
        ],
        "id": "D-cLXkFNyLGw"
      },
      "cell_type": "markdown",
      "source": [
        "## 9. Plotting with color!\n",
        "Hervorragend! Jetzt haben wir eine Farbliste, die wir an unseren scatter plot übergeben können. Damit können wir visuell überprüfen, ob diese Genres für den Rückgang der durchschnittlichen Filmdauer verantwortlich sein könnten.\n",
        "\n",
        "Diesmal werden wir auch unser Diagramm mit einigen zusätzlichen Achsenbeschriftungen und einem neuen theme mit plt.style.use() aufhübschen."
      ]
    },
    {
      "metadata": {
        "dc": {
          "key": "60"
        },
        "tags": [
          "sample_code"
        ],
        "trusted": false,
        "id": "3AfBVk_PyLGw"
      },
      "cell_type": "code",
      "source": [
        "# Set the figure style and initalize a new figure\n",
        "plt.style.use('fivethirtyeight')\n",
        "fig = plt.figure(figsize=(12,8))\n",
        "\n",
        "# Create a scatter plot of duration versus release_year\n",
        "...\n",
        "\n",
        "# Create a title and axis labels\n",
        "...\n",
        "...\n",
        "...\n",
        "\n",
        "# Show the plot\n",
        "..."
      ],
      "execution_count": null,
      "outputs": []
    },
    {
      "metadata": {
        "dc": {
          "key": "67"
        },
        "deletable": false,
        "editable": false,
        "run_control": {
          "frozen": true
        },
        "tags": [
          "context"
        ],
        "id": "b5A1XdboyLGx"
      },
      "cell_type": "markdown",
      "source": [
        "## 10. Ausblick\n",
        "Wie wir vermutet haben, sind die non-typical Genres wie Kinderfilme und Dokumentarfilme alle in der unteren Hälfte des Diagramms angesiedelt. Um unsere These aber wirklich zu beweisen, müssten wir statistische Tests durchführen - aber das ist fast schon ein eigenes Wahlfachthema Wert ;).\n",
        "\n",
        "Nächste Woche wird es richtig spannend: Wir lernen, lernen was machine-learning überhaupt ist und versuchen einen ersten Algorithmus zu programmieren. Seid gespannt!"
      ]
    }
  ],
  "metadata": {
    "kernelspec": {
      "name": "python3",
      "display_name": "Python 3",
      "language": "python"
    },
    "language_info": {
      "name": "python",
      "version": "3.6.7",
      "mimetype": "text/x-python",
      "codemirror_mode": {
        "name": "ipython",
        "version": 3
      },
      "pygments_lexer": "ipython3",
      "nbconvert_exporter": "python",
      "file_extension": ".py"
    },
    "colab": {
      "provenance": [],
      "toc_visible": true,
      "include_colab_link": true
    }
  },
  "nbformat": 4,
  "nbformat_minor": 0
}