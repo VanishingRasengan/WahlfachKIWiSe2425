{
  "nbformat": 4,
  "nbformat_minor": 0,
  "metadata": {
    "colab": {
      "provenance": [],
      "collapsed_sections": [
        "vlDOZfW1uKAn",
        "qmSs2gb9uKAu",
        "Jebhxy_-uKAr",
        "IiFzHRxAuKAh",
        "TqwSryb15u3b",
        "HoEFK1oCXUYh",
        "EphZCIVnZtE5",
        "rNMKr7J0blP5",
        "lZdy_OnXekvR",
        "9PHT3MDYe1pl",
        "SFgKRMRhjn-i",
        "gWc33_6sk9UC"
      ],
      "authorship_tag": "ABX9TyPcIcln+PirCnznKXMG0a0h",
      "include_colab_link": true
    },
    "kernelspec": {
      "name": "python3",
      "display_name": "Python 3"
    },
    "language_info": {
      "name": "python"
    }
  },
  "cells": [
    {
      "cell_type": "markdown",
      "metadata": {
        "id": "view-in-github",
        "colab_type": "text"
      },
      "source": [
        "<a href=\"https://colab.research.google.com/github/VanishingRasengan/WahlfachKIWiSe2324/blob/main/Lektion_1_CrashkursPython_L%C3%B6sungsversion.ipynb\" target=\"_parent\"><img src=\"https://colab.research.google.com/assets/colab-badge.svg\" alt=\"Open In Colab\"/></a>"
      ]
    },
    {
      "cell_type": "markdown",
      "source": [
        "# What is Python?\n",
        "\n",
        "Python is a modern, robust, high level programming language. It is very easy to pick up even if you are completely new to programming.\n",
        "\n",
        "- The most recent major version of Python is Python 3, which we shall be using in this tutorial.\n",
        "- Python has a simple syntax similar to the English language.\n",
        "- Python uses new lines to complete a command.\n",
        "- Python relies on indentation, using whitespace, to define scope; such as the scope of loops, functions and classes."
      ],
      "metadata": {
        "id": "f9qDa2hUzge5"
      }
    },
    {
      "cell_type": "markdown",
      "metadata": {
        "id": "asFyxzN8uKAY"
      },
      "source": [
        "# Python Syntax\n",
        "\n",
        "It is important to know how to write lines of code in Python.\n"
      ]
    },
    {
      "cell_type": "markdown",
      "source": [
        "## Indentation\n",
        "\n",
        "Indentation refers to the spaces at the beginning of a code line.\n",
        "\n",
        "Where in other programming languages the indentation in code is for readability only, the indentation in Python is very important.\n",
        "\n",
        "Python uses indentation to indicate a block of code."
      ],
      "metadata": {
        "id": "6cebcVLj0-1J"
      }
    },
    {
      "cell_type": "code",
      "execution_count": null,
      "metadata": {
        "id": "fpL_nlIcuKAZ",
        "outputId": "dc2ee1b0-84d0-47b3-bc71-4b6849ecdc57",
        "colab": {
          "base_uri": "https://localhost:8080/"
        }
      },
      "outputs": [
        {
          "output_type": "stream",
          "name": "stdout",
          "text": [
            "Five is greater than two!\n"
          ]
        }
      ],
      "source": [
        "if 5 > 2:\n",
        "    print(\"Five is greater than two!\")"
      ]
    },
    {
      "cell_type": "markdown",
      "metadata": {
        "id": "oJ_JdIkvuKAZ"
      },
      "source": [
        "Python will give you an error if you skip the indentation:"
      ]
    },
    {
      "cell_type": "code",
      "execution_count": null,
      "metadata": {
        "id": "5YIVU-ZmuKAb",
        "outputId": "7ba6c227-e670-4bd6-8c24-833d72b9d4aa",
        "colab": {
          "base_uri": "https://localhost:8080/",
          "height": 143
        }
      },
      "outputs": [
        {
          "output_type": "error",
          "ename": "IndentationError",
          "evalue": "ignored",
          "traceback": [
            "\u001b[0;36m  File \u001b[0;32m\"<ipython-input-2-a314491c53bb>\"\u001b[0;36m, line \u001b[0;32m2\u001b[0m\n\u001b[0;31m    print(\"Five is greater than two!\")\u001b[0m\n\u001b[0m    ^\u001b[0m\n\u001b[0;31mIndentationError\u001b[0m\u001b[0;31m:\u001b[0m expected an indented block after 'if' statement on line 1\n"
          ]
        }
      ],
      "source": [
        "if 5 > 2:\n",
        "print(\"Five is greater than two!\")"
      ]
    },
    {
      "cell_type": "markdown",
      "metadata": {
        "id": "3HdhQiHPuKAb"
      },
      "source": [
        "## Comments\n",
        "\n",
        "Python has commenting capability for the purpose of in-code documentation.\n",
        "\n",
        "Comments start with a **#**, and Python will render the rest of the line as a comment:"
      ]
    },
    {
      "cell_type": "code",
      "execution_count": null,
      "metadata": {
        "id": "daYsBBqMuKAc",
        "colab": {
          "base_uri": "https://localhost:8080/"
        },
        "outputId": "203df191-3063-462b-fa76-0cb74c4c0447"
      },
      "outputs": [
        {
          "output_type": "stream",
          "name": "stdout",
          "text": [
            "Hello, World!\n"
          ]
        }
      ],
      "source": [
        "#This is a comment.\n",
        "print(\"Hello, World!\")"
      ]
    },
    {
      "cell_type": "markdown",
      "metadata": {
        "id": "6WYhH5ufuKAc"
      },
      "source": [
        "# Python Variables\n",
        "\n",
        "Variables are reserved memory locations to store values. This means that when you create a variable you reserve some space in your computer memory.\n",
        "\n",
        "Python variables do not need explicit declaration to reserve memory space. The declaration happens automatically when you assign a value to a variable. The equal sign (=) is used to assign values to variables.\n",
        "\n",
        "The operand to the left of the = operator is the name of the variable and the operand to the right of the = operator is the value stored in the variable."
      ]
    },
    {
      "cell_type": "code",
      "execution_count": null,
      "metadata": {
        "id": "U6_8uaUWuKAd",
        "outputId": "315463a3-0bd0-40f2-8c78-de40e8dd6ac5",
        "colab": {
          "base_uri": "https://localhost:8080/"
        }
      },
      "outputs": [
        {
          "output_type": "stream",
          "name": "stdout",
          "text": [
            "5\n",
            "John\n"
          ]
        }
      ],
      "source": [
        "x = 5\n",
        "y = \"John\"\n",
        "\n",
        "print(x)\n",
        "print(y)"
      ]
    },
    {
      "cell_type": "markdown",
      "metadata": {
        "id": "1KNUVGjNuKAd"
      },
      "source": [
        "Variables can be str(Strings), int(integers), float(decimal point numbers) and many more.\n",
        "\n",
        "We show a few common examples.\n"
      ]
    },
    {
      "cell_type": "code",
      "execution_count": null,
      "metadata": {
        "id": "auXxOzXUuKAe",
        "outputId": "15e09e46-7d4b-4b64-96e2-944fc38cc07e",
        "colab": {
          "base_uri": "https://localhost:8080/"
        }
      },
      "outputs": [
        {
          "output_type": "stream",
          "name": "stdout",
          "text": [
            "4\n",
            "Sally\n",
            "4.0\n"
          ]
        }
      ],
      "source": [
        "x = 4 # x is of type int\n",
        "y = \"Sally\" # y is of type str\n",
        "z = 4.0 # z is of type float\n",
        "\n",
        "print(x)\n",
        "print(y)\n",
        "print(z)"
      ]
    },
    {
      "cell_type": "markdown",
      "metadata": {
        "id": "QC8swoNpuKAe"
      },
      "source": [
        "Variables do not need to be declared with any particular type and can even change type after they have been set."
      ]
    },
    {
      "cell_type": "code",
      "execution_count": null,
      "metadata": {
        "id": "Q2sJH59TuKAe",
        "outputId": "14501870-368f-41a6-ebe0-ef73a2dd528c",
        "colab": {
          "base_uri": "https://localhost:8080/"
        }
      },
      "outputs": [
        {
          "output_type": "stream",
          "name": "stdout",
          "text": [
            "Sally\n"
          ]
        }
      ],
      "source": [
        "x = 4 # x is of type int\n",
        "x = \"Sally\" # x is now of type str\n",
        "print(x)"
      ]
    },
    {
      "cell_type": "markdown",
      "metadata": {
        "id": "W8lL0C-kuKAf"
      },
      "source": [
        "**Note**\n",
        "\n",
        "To declare a string you can use either \"...\" or '...'.\n",
        "\n",
        "Single (') and double (\") quotes are equivalent in Python."
      ]
    },
    {
      "cell_type": "markdown",
      "source": [
        "## Exercise\n",
        "You can also do some calculations with variables:\n",
        "\n",
        "- Create a variable growth_multiplier, equal to 1.1.\n",
        "- Create a variable, result, equal to the amount of money you saved after 7 years.\n",
        "- Print out the value of result.\n"
      ],
      "metadata": {
        "id": "HLWMNMPDI1RF"
      }
    },
    {
      "cell_type": "code",
      "source": [
        "# Create a variable savings\n",
        "savings = 100\n",
        "\n",
        "# Create a variable growth_multiplier\n",
        "growth_multiplier = 1.1\n",
        "\n",
        "# Calculate result\n",
        "result = savings * growth_multiplier**7\n",
        "\n",
        "# Print out result\n",
        "print(result)"
      ],
      "metadata": {
        "id": "5u0d6N1uJFcd",
        "outputId": "91e8d35d-a402-4487-c818-d02f2be54383",
        "colab": {
          "base_uri": "https://localhost:8080/"
        }
      },
      "execution_count": null,
      "outputs": [
        {
          "output_type": "stream",
          "name": "stdout",
          "text": [
            "194.87171000000012\n"
          ]
        }
      ]
    },
    {
      "cell_type": "markdown",
      "metadata": {
        "id": "b_1VLCPuuKAf"
      },
      "source": [
        "# The Print Statement\n",
        "\n",
        "A **function** is a set of statements that take inputs, do some specific computation and produces output. More about it is explained in the Lists section.\n",
        "\n",
        "The print() is a built in function  which displays all of its inputs as strings, separated by spaces and follows by a linebreak:"
      ]
    },
    {
      "cell_type": "code",
      "execution_count": null,
      "metadata": {
        "id": "ddlltkcvuKAf",
        "outputId": "c298a6d0-5f79-430a-e7b4-b15a70395db4",
        "colab": {
          "base_uri": "https://localhost:8080/"
        }
      },
      "outputs": [
        {
          "output_type": "stream",
          "name": "stdout",
          "text": [
            "Hello World\n"
          ]
        }
      ],
      "source": [
        "print(\"Hello\",\"World\")"
      ]
    },
    {
      "cell_type": "markdown",
      "metadata": {
        "id": "Sxv2WrFzuKAg"
      },
      "source": [
        "## Printing variables"
      ]
    },
    {
      "cell_type": "code",
      "execution_count": null,
      "metadata": {
        "id": "KW36TRTyuKAg",
        "outputId": "5e0b9d5f-24e7-42d9-e7d8-d2ca844f7c77",
        "colab": {
          "base_uri": "https://localhost:8080/"
        }
      },
      "outputs": [
        {
          "output_type": "stream",
          "name": "stdout",
          "text": [
            "Hello World!\n"
          ]
        }
      ],
      "source": [
        "string1='World'\n",
        "string2='!'\n",
        "print('Hello ' + string1 + string2)"
      ]
    },
    {
      "cell_type": "markdown",
      "metadata": {
        "id": "aWbWb6V-uKAg"
      },
      "source": [
        "A easy way to print variables is by using .format() function. This is also a built in python function.\n",
        "\n"
      ]
    },
    {
      "cell_type": "code",
      "execution_count": null,
      "metadata": {
        "id": "oTHf0TS0uKAg",
        "outputId": "6e074706-5e6c-4509-f2de-179b09c7d44d",
        "colab": {
          "base_uri": "https://localhost:8080/"
        }
      },
      "outputs": [
        {
          "output_type": "stream",
          "name": "stdout",
          "text": [
            " Hello, I am Tobias\n"
          ]
        }
      ],
      "source": [
        "name = \"Tobias\"\n",
        "\n",
        "print(\" Hello, I am {}\".format(name))"
      ]
    },
    {
      "cell_type": "markdown",
      "metadata": {
        "id": "DNSRY3sHuKAh"
      },
      "source": [
        "## Exercise\n",
        "\n",
        "Try to store your name and age in variables and print the output. Fill out the missing parts to run the two cells below successufully."
      ]
    },
    {
      "cell_type": "code",
      "execution_count": null,
      "metadata": {
        "id": "G2XltdTVuKAh"
      },
      "outputs": [],
      "source": [
        "name = \"Sai\"\n",
        "age = \"23\""
      ]
    },
    {
      "cell_type": "code",
      "execution_count": null,
      "metadata": {
        "id": "xVgRca5duKAh",
        "outputId": "3bc6dd36-8623-4fff-cd9d-47b4c34ee479",
        "colab": {
          "base_uri": "https://localhost:8080/"
        }
      },
      "outputs": [
        {
          "output_type": "stream",
          "name": "stdout",
          "text": [
            "I am Sai and my age is 23\n"
          ]
        }
      ],
      "source": [
        "print(\"I am {} and my age is {}\".format(name, age))"
      ]
    },
    {
      "cell_type": "markdown",
      "metadata": {
        "id": "-qt4JDYvuKAk"
      },
      "source": [
        "# Lists\n",
        "\n",
        "Lists are the most commonly used data structure. Think of it as a sequence of data that is enclosed in square brackets and data are separated by a comma. Each of these data can be accessed by calling it's index value.\n",
        "\n",
        "Lists are declared by just equating a variable to '[ ]' or list."
      ]
    },
    {
      "cell_type": "code",
      "execution_count": null,
      "metadata": {
        "id": "4DD8MMtwuKAk",
        "outputId": "01c7bd77-ad3c-485f-d569-66ee23ddcc8a",
        "colab": {
          "base_uri": "https://localhost:8080/"
        }
      },
      "outputs": [
        {
          "output_type": "execute_result",
          "data": {
            "text/plain": [
              "list"
            ]
          },
          "metadata": {},
          "execution_count": 14
        }
      ],
      "source": [
        "a = []\n",
        "\n",
        "type(a)"
      ]
    },
    {
      "cell_type": "markdown",
      "metadata": {
        "id": "F_0IiIiouKAk"
      },
      "source": [
        "## Indexing\n",
        "\n",
        "In python, indexing starts from 0 as already seen for strings. Thus now the list x, which has two elements will have apple at 0 index and orange at 1 index."
      ]
    },
    {
      "cell_type": "code",
      "execution_count": null,
      "metadata": {
        "id": "7iB8lj25uKAl",
        "outputId": "b06884d4-9393-47e7-a5f5-c4c9b638deda",
        "colab": {
          "base_uri": "https://localhost:8080/",
          "height": 35
        }
      },
      "outputs": [
        {
          "output_type": "execute_result",
          "data": {
            "text/plain": [
              "'apple'"
            ],
            "application/vnd.google.colaboratory.intrinsic+json": {
              "type": "string"
            }
          },
          "metadata": {},
          "execution_count": 15
        }
      ],
      "source": [
        "x = ['apple', 'orange']\n",
        "\n",
        "x[0]"
      ]
    },
    {
      "cell_type": "markdown",
      "metadata": {
        "id": "RjOHgcE6uKAl"
      },
      "source": [
        "Indexing can also be done in reverse order. That is the last element can be accessed first. Here, indexing starts from -1. Thus index value -1 will be orange and index -2 will be apple."
      ]
    },
    {
      "cell_type": "code",
      "execution_count": null,
      "metadata": {
        "id": "dbRTUni7uKAl",
        "outputId": "3b8fca8a-bab1-4fb6-90f0-0c0d13257719",
        "colab": {
          "base_uri": "https://localhost:8080/",
          "height": 35
        }
      },
      "outputs": [
        {
          "output_type": "execute_result",
          "data": {
            "text/plain": [
              "'orange'"
            ],
            "application/vnd.google.colaboratory.intrinsic+json": {
              "type": "string"
            }
          },
          "metadata": {},
          "execution_count": 16
        }
      ],
      "source": [
        "x[-1]"
      ]
    },
    {
      "cell_type": "markdown",
      "metadata": {
        "id": "Qh_a5VTruKAl"
      },
      "source": [
        "## Slicing\n",
        "\n",
        "Slicing means accessing a sequence of data inside the list.\n",
        "\n",
        "Slicing is done by defining the index values of the first element and the last element from the parent list that is required in the sliced list. It is written as parentlist[ a : b ] where a,b are the index values from the parent list. If a or b is not defined then the index value is considered to be the first value for a if a is not defined and the last value for b when b is not defined."
      ]
    },
    {
      "cell_type": "code",
      "execution_count": null,
      "metadata": {
        "id": "xA_JHO3HuKAl",
        "outputId": "be863e1a-700f-42cf-88fe-afdbbe41c2b7",
        "colab": {
          "base_uri": "https://localhost:8080/"
        }
      },
      "outputs": [
        {
          "output_type": "stream",
          "name": "stdout",
          "text": [
            "[0, 1, 2, 3]\n",
            "[4, 5, 6, 7, 8, 9]\n"
          ]
        }
      ],
      "source": [
        "num = [0,1,2,3,4,5,6,7,8,9]\n",
        "print(num[0:4])\n",
        "print(num[4:])"
      ]
    },
    {
      "cell_type": "markdown",
      "metadata": {
        "id": "Fxef17pguKAl"
      },
      "source": [
        "## Reassigning Values\n",
        "\n",
        "You can change values of any index of a list.\n"
      ]
    },
    {
      "cell_type": "code",
      "execution_count": null,
      "metadata": {
        "id": "MIWArpr2uKAm",
        "outputId": "b07c5df1-6a4d-46cc-9c22-70b76070ddad",
        "colab": {
          "base_uri": "https://localhost:8080/"
        }
      },
      "outputs": [
        {
          "output_type": "stream",
          "name": "stdout",
          "text": [
            "[10, 1, 2, 3, 4, 5, 6, 7, 8, 9]\n"
          ]
        }
      ],
      "source": [
        "num[0] = 10\n",
        "\n",
        "print(num)"
      ]
    },
    {
      "cell_type": "markdown",
      "metadata": {
        "id": "eAc9gc6TuKAm"
      },
      "source": [
        "But you cannot assign values to a index which is more than the length of the list."
      ]
    },
    {
      "cell_type": "code",
      "execution_count": null,
      "metadata": {
        "id": "btdkOGIkuKAn",
        "outputId": "f15d336a-f4ed-4c49-8b59-b52030abd08b",
        "colab": {
          "base_uri": "https://localhost:8080/",
          "height": 197
        }
      },
      "outputs": [
        {
          "output_type": "error",
          "ename": "IndexError",
          "evalue": "ignored",
          "traceback": [
            "\u001b[0;31m---------------------------------------------------------------------------\u001b[0m",
            "\u001b[0;31mIndexError\u001b[0m                                Traceback (most recent call last)",
            "\u001b[0;32m<ipython-input-19-0e0f8f458fa5>\u001b[0m in \u001b[0;36m<cell line: 1>\u001b[0;34m()\u001b[0m\n\u001b[0;32m----> 1\u001b[0;31m \u001b[0mnum\u001b[0m\u001b[0;34m[\u001b[0m\u001b[0;36m11\u001b[0m\u001b[0;34m]\u001b[0m \u001b[0;34m=\u001b[0m \u001b[0;36m11\u001b[0m\u001b[0;34m\u001b[0m\u001b[0;34m\u001b[0m\u001b[0m\n\u001b[0m\u001b[1;32m      2\u001b[0m \u001b[0mprint\u001b[0m\u001b[0;34m(\u001b[0m\u001b[0mnum\u001b[0m\u001b[0;34m)\u001b[0m\u001b[0;34m\u001b[0m\u001b[0;34m\u001b[0m\u001b[0m\n",
            "\u001b[0;31mIndexError\u001b[0m: list assignment index out of range"
          ]
        }
      ],
      "source": [
        "num[11] = 11\n",
        "print(num)"
      ]
    },
    {
      "cell_type": "markdown",
      "metadata": {
        "id": "25N5Aj03uKAn"
      },
      "source": [
        "To add more values to end of list we can use append(). We show how .append() works below."
      ]
    },
    {
      "cell_type": "markdown",
      "metadata": {
        "id": "vlDOZfW1uKAn"
      },
      "source": [
        "## Built in List Functions\n",
        "\n",
        "A **function** is a set of statements that take inputs, do some specific computation and produces output. Python provides **built-in functions** like print(), etc. but we can also create your own functions. These functions are called **user-defined functions**.\n",
        "\n",
        "Python list has a number of functions that are built in which are always available. Some of the most used ones are:\n",
        "- len()\n",
        "- max() or min()\n",
        "- sum()\n",
        "- append()\n",
        "- sort()"
      ]
    },
    {
      "cell_type": "markdown",
      "metadata": {
        "id": "XsNF0z_-uKAn"
      },
      "source": [
        "len(): To get the length of the list."
      ]
    },
    {
      "cell_type": "code",
      "execution_count": null,
      "metadata": {
        "id": "Vtpo-bsLuKAn",
        "outputId": "a18489c5-f2e0-42e9-fd18-078871d034bf",
        "colab": {
          "base_uri": "https://localhost:8080/"
        }
      },
      "outputs": [
        {
          "output_type": "execute_result",
          "data": {
            "text/plain": [
              "10"
            ]
          },
          "metadata": {},
          "execution_count": 20
        }
      ],
      "source": [
        "num = [0,1,2,3,4,5,6,7,8,9]\n",
        "\n",
        "len(num)"
      ]
    },
    {
      "cell_type": "markdown",
      "metadata": {
        "id": "QbRVN9MguKAn"
      },
      "source": [
        "max(), min(): To get maximum and minimum values in the list."
      ]
    },
    {
      "cell_type": "code",
      "execution_count": null,
      "metadata": {
        "id": "yMP-fmmCuKAn",
        "outputId": "2357c2e8-a4a1-44b6-ddcf-ea210af3b79a",
        "colab": {
          "base_uri": "https://localhost:8080/"
        }
      },
      "outputs": [
        {
          "output_type": "stream",
          "name": "stdout",
          "text": [
            "9\n",
            "0\n"
          ]
        }
      ],
      "source": [
        "print(max(num))\n",
        "\n",
        "print(min(num))"
      ]
    },
    {
      "cell_type": "markdown",
      "metadata": {
        "id": "w47boPEEuKAn"
      },
      "source": [
        "sum(): To calculate sum of all elements in the list."
      ]
    },
    {
      "cell_type": "code",
      "execution_count": null,
      "metadata": {
        "id": "uWRILXY3uKAo",
        "outputId": "20e693ac-0097-4e62-a500-c87e5ddb3f51",
        "colab": {
          "base_uri": "https://localhost:8080/"
        }
      },
      "outputs": [
        {
          "output_type": "stream",
          "name": "stdout",
          "text": [
            "45\n"
          ]
        }
      ],
      "source": [
        "print(sum(num))"
      ]
    },
    {
      "cell_type": "markdown",
      "metadata": {
        "id": "DZFB6mq5uKAo"
      },
      "source": [
        "Remember we tried to add 11 to num list but got an error. We can use .append() instead.\n",
        "\n",
        "append(): Insert an element at the end of a list."
      ]
    },
    {
      "cell_type": "code",
      "execution_count": null,
      "metadata": {
        "id": "BrVDU8OauKAo",
        "outputId": "5b78eb82-8e0b-4d81-8adf-8383969e890d",
        "colab": {
          "base_uri": "https://localhost:8080/"
        }
      },
      "outputs": [
        {
          "output_type": "stream",
          "name": "stdout",
          "text": [
            "[0, 1, 2, 3, 4, 5, 6, 7, 8, 9, 11]\n"
          ]
        }
      ],
      "source": [
        "num.append(11)\n",
        "print(num)"
      ]
    },
    {
      "cell_type": "markdown",
      "metadata": {
        "id": "9tj66CMwuKAo"
      },
      "source": [
        "sort(): To arrange the elements in ascending order."
      ]
    },
    {
      "cell_type": "code",
      "execution_count": null,
      "metadata": {
        "id": "uFC-X5fOuKAo",
        "outputId": "7230efbe-c6a7-429f-b3c0-a53cd619678a",
        "colab": {
          "base_uri": "https://localhost:8080/"
        }
      },
      "outputs": [
        {
          "output_type": "stream",
          "name": "stdout",
          "text": [
            "[0, 1, 2, 3, 4, 5, 6, 7, 8, 9, 11]\n"
          ]
        }
      ],
      "source": [
        "num.sort()\n",
        "print(num)"
      ]
    },
    {
      "cell_type": "markdown",
      "metadata": {
        "id": "u1841zrpuKAo"
      },
      "source": [
        "## Exercise\n",
        "\n",
        "Print the second item in the fruits list."
      ]
    },
    {
      "cell_type": "code",
      "execution_count": null,
      "metadata": {
        "id": "qnPTTgKOuKAp",
        "outputId": "ce1117f9-4558-4cf9-d74a-dc61d2d3bfc1",
        "colab": {
          "base_uri": "https://localhost:8080/"
        }
      },
      "outputs": [
        {
          "output_type": "stream",
          "name": "stdout",
          "text": [
            "banana\n"
          ]
        }
      ],
      "source": [
        "fruits = [\"apple\", \"banana\", \"cherry\"]\n",
        "\n",
        "# print second item of the list\n",
        "print(fruits[1])"
      ]
    },
    {
      "cell_type": "markdown",
      "metadata": {
        "id": "D_Ub5DSruKAq"
      },
      "source": [
        "Add another fruit to the fruits list. Print the updated list.\n"
      ]
    },
    {
      "cell_type": "code",
      "execution_count": null,
      "metadata": {
        "id": "GwgLvR8FuKAq",
        "outputId": "0d495c66-fbab-488c-e3f7-b6c2a7746287",
        "colab": {
          "base_uri": "https://localhost:8080/"
        }
      },
      "outputs": [
        {
          "output_type": "stream",
          "name": "stdout",
          "text": [
            "['apple', 'banana', 'cherry', 'mango']\n"
          ]
        }
      ],
      "source": [
        "# add another fruit\n",
        "fruits.append(\"mango\")\n",
        "# print the updated list\n",
        "print(fruits)"
      ]
    },
    {
      "cell_type": "markdown",
      "source": [
        "\n",
        "Using a combination of list subsetting and variable assignment, create a new variable, eat_sleep_area, that contains the sum of the area of the kitchen and the area of the bedroom. Print the new variable eat_sleep_area.\n"
      ],
      "metadata": {
        "id": "_BJmzw6cLkDX"
      }
    },
    {
      "cell_type": "code",
      "source": [
        "# Create the areas list\n",
        "areas = [\"hallway\", 11.25, \"kitchen\", 18.0, \"living room\", 20.0, \"bedroom\", 10.75, \"bathroom\", 9.50]\n",
        "\n",
        "# Sum of kitchen and bedroom area: eat_sleep_area\n",
        "eat_sleep_area = areas[3] + areas[7]\n",
        "\n",
        "# Print the variable eat_sleep_area\n",
        "print(eat_sleep_area)"
      ],
      "metadata": {
        "id": "hK9bE7IWL692",
        "outputId": "6b6af63b-fa74-4df3-eb60-a4856b05330f",
        "colab": {
          "base_uri": "https://localhost:8080/"
        }
      },
      "execution_count": null,
      "outputs": [
        {
          "output_type": "stream",
          "name": "stdout",
          "text": [
            "28.75\n"
          ]
        }
      ]
    },
    {
      "cell_type": "markdown",
      "source": [
        "\n",
        "- Use slicing to create a list, downstairs, that contains the first 6 elements of areas.\n",
        "- Do a similar thing to create a new variable, upstairs, that contains the last 4 elements of areas.\n",
        "- Print both downstairs and upstairs using print()."
      ],
      "metadata": {
        "id": "jVDXW-wSMBG2"
      }
    },
    {
      "cell_type": "code",
      "source": [
        "# Create the areas list\n",
        "areas = [\"hallway\", 11.25, \"kitchen\", 18.0, \"living room\", 20.0, \"bedroom\", 10.75, \"bathroom\", 9.50]\n",
        "\n",
        "# Use slicing to create downstairs\n",
        "downstairs = areas[:6]\n",
        "\n",
        "# Use slicing to create upstairs\n",
        "upstairs = areas[-4:]\n",
        "\n",
        "# Print out downstairs and upstairs\n",
        "print(downstairs)\n",
        "print(upstairs)"
      ],
      "metadata": {
        "id": "yOKeqWwCMHW-",
        "outputId": "7b1a05a2-136e-4284-f25b-995dbaeec81f",
        "colab": {
          "base_uri": "https://localhost:8080/"
        }
      },
      "execution_count": null,
      "outputs": [
        {
          "output_type": "stream",
          "name": "stdout",
          "text": [
            "['hallway', 11.25, 'kitchen', 18.0, 'living room', 20.0]\n",
            "['bedroom', 10.75, 'bathroom', 9.5]\n"
          ]
        }
      ]
    },
    {
      "cell_type": "markdown",
      "source": [
        "\n",
        "- Update the area of the bathroom area to be 10.50 square meters instead of 9.50.\n",
        "- Make the areas list more trendy! Change \"living room\" to \"chill zone\"."
      ],
      "metadata": {
        "id": "SjfDWhwaMRl3"
      }
    },
    {
      "cell_type": "code",
      "source": [
        "# Create the areas list\n",
        "areas = [\"hallway\", 11.25, \"kitchen\", 18.0, \"living room\", 20.0, \"bedroom\", 10.75, \"bathroom\", 9.50]\n",
        "\n",
        "# Correct the bathroom area\n",
        "areas[-1] = 10.50\n",
        "\n",
        "# Change \"living room\" to \"chill zone\"\n",
        "areas[4] = \"chill zone\"\n",
        "\n",
        "print(areas)"
      ],
      "metadata": {
        "id": "E_YSYjAqMTjG",
        "outputId": "98acff18-1c5d-4962-b716-1d427130e982",
        "colab": {
          "base_uri": "https://localhost:8080/"
        }
      },
      "execution_count": null,
      "outputs": [
        {
          "output_type": "stream",
          "name": "stdout",
          "text": [
            "['hallway', 11.25, 'kitchen', 18.0, 'chill zone', 20.0, 'bedroom', 10.75, 'bathroom', 10.5]\n"
          ]
        }
      ]
    },
    {
      "cell_type": "markdown",
      "metadata": {
        "id": "qmSs2gb9uKAu"
      },
      "source": [
        "# User-defined Functions\n",
        "\n",
        "User-defined Functions can represent mathematical functions. More importantly, in programmming functions are a mechansim to allow code to be re-used so that complex programs can be built up out of simpler parts."
      ]
    },
    {
      "cell_type": "code",
      "execution_count": null,
      "metadata": {
        "id": "ZGnG3m39uKAu",
        "outputId": "515a2ddd-570c-4de8-ff8b-9667a61d978a",
        "colab": {
          "base_uri": "https://localhost:8080/"
        }
      },
      "outputs": [
        {
          "output_type": "stream",
          "name": "stdout",
          "text": [
            "Hello!\n",
            "How are you?\n"
          ]
        }
      ],
      "source": [
        "def firstfunc():\n",
        "    print(\"Hello!\")\n",
        "    print(\"How are you?\")\n",
        "firstfunc() # execute the function"
      ]
    },
    {
      "cell_type": "markdown",
      "metadata": {
        "id": "l5kpdDiJuKAu"
      },
      "source": [
        "We can make our function firstfunc() to accept arguements which will store the name and then prints respective to that accepted name. To do so, add a argument within the function as shown."
      ]
    },
    {
      "cell_type": "code",
      "execution_count": null,
      "metadata": {
        "id": "8S9BUWzDuKAu",
        "outputId": "1f2ac0ff-3fa4-4649-fd26-a5d3464954f2",
        "colab": {
          "base_uri": "https://localhost:8080/"
        }
      },
      "outputs": [
        {
          "output_type": "stream",
          "name": "stdout",
          "text": [
            "Hello Tobias.\n"
          ]
        }
      ],
      "source": [
        "def firstfunc(username):\n",
        "    print(\"Hello {}.\" .format(username))\n",
        "\n",
        "firstfunc(\"Tobias\")"
      ]
    },
    {
      "cell_type": "markdown",
      "metadata": {
        "id": "dE4Dbo5tuKAv"
      },
      "source": [
        "## Return Statement\n",
        "\n",
        "When the function results in some value and that value has to be stored in a variable or needs to be sent back or returned for further operation to the main algorithm, a return statement is used."
      ]
    },
    {
      "cell_type": "code",
      "execution_count": null,
      "metadata": {
        "id": "3Q86gf0XuKAv",
        "outputId": "7cd49630-7084-4b12-f843-2f2fe09b2b39",
        "colab": {
          "base_uri": "https://localhost:8080/"
        }
      },
      "outputs": [
        {
          "output_type": "stream",
          "name": "stdout",
          "text": [
            "20\n"
          ]
        }
      ],
      "source": [
        "def times(x,y):\n",
        "    z = x*y\n",
        "    return z\n",
        "\n",
        "c = times(4,5)\n",
        "print(c)"
      ]
    },
    {
      "cell_type": "markdown",
      "metadata": {
        "id": "a5eX5dhMuKAv"
      },
      "source": [
        "## Exercise\n",
        "\n",
        "Write a function to calculate Body Mass Index:\n",
        "\n",
        "Inputs are:\n",
        "- weight (kg)\n",
        "- height (m)\n",
        "\n",
        "Formula: $weight/(height)^2$"
      ]
    },
    {
      "cell_type": "code",
      "execution_count": null,
      "metadata": {
        "id": "ji-HjqsGuKAv",
        "outputId": "1b7a4b2b-d6bf-4d91-a1e7-c696ac0e0ac5",
        "colab": {
          "base_uri": "https://localhost:8080/"
        }
      },
      "outputs": [
        {
          "output_type": "stream",
          "name": "stdout",
          "text": [
            "Your BMI is: 17.301038062283737\n"
          ]
        }
      ],
      "source": [
        "BMI = None\n",
        "# Write your own function\n",
        "def calculate_bmi(weight, height):\n",
        "    return weight/(height**2)\n",
        "\n",
        "BMI = calculate_bmi(50, 1.70)\n",
        "\n",
        "print(\"Your BMI is: {}\".format(BMI))"
      ]
    },
    {
      "cell_type": "markdown",
      "metadata": {
        "id": "Jebhxy_-uKAr"
      },
      "source": [
        "# Dictionary\n",
        "\n",
        "A dictionary is a collection which is unordered, changeable and indexed.\n",
        "\n",
        "In Python dictionaries are written with curly brackets, and they have keys and values."
      ]
    },
    {
      "cell_type": "code",
      "execution_count": null,
      "metadata": {
        "id": "BsEyVeeAuKAr",
        "colab": {
          "base_uri": "https://localhost:8080/"
        },
        "outputId": "8509a32d-850c-4902-8a08-1d13cac90c5d"
      },
      "outputs": [
        {
          "output_type": "stream",
          "name": "stdout",
          "text": [
            "{'brand': 'Ford', 'model': 'Mustang', 'year': 1964}\n"
          ]
        }
      ],
      "source": [
        "mydict ={\n",
        "  \"brand\": \"Ford\",\n",
        "  \"model\": \"Mustang\",\n",
        "  \"year\": 1964\n",
        "}\n",
        "print(mydict)"
      ]
    },
    {
      "cell_type": "markdown",
      "metadata": {
        "id": "xVzBvg3TuKAr"
      },
      "source": [
        "## Accessing items\n",
        "\n",
        "You can access the items of a dictionary by referring to its key name, inside square brackets:"
      ]
    },
    {
      "cell_type": "code",
      "execution_count": null,
      "metadata": {
        "id": "J4cl6YxBuKAr",
        "colab": {
          "base_uri": "https://localhost:8080/"
        },
        "outputId": "5c2fba38-97e1-4052-90d9-2c1e7ab28b48"
      },
      "outputs": [
        {
          "output_type": "stream",
          "name": "stdout",
          "text": [
            "Mustang\n"
          ]
        }
      ],
      "source": [
        "x = mydict[\"model\"]\n",
        "print(x)"
      ]
    },
    {
      "cell_type": "markdown",
      "metadata": {
        "id": "0Uu3BxJ7uKAr"
      },
      "source": [
        "## Change Values\n",
        "\n",
        "You can change the value of a specific item by referring to its key name:"
      ]
    },
    {
      "cell_type": "code",
      "execution_count": null,
      "metadata": {
        "id": "GFiMJ-IcuKAs",
        "outputId": "ba349b45-2e4d-4393-9835-cb2bf7207767",
        "colab": {
          "base_uri": "https://localhost:8080/"
        }
      },
      "outputs": [
        {
          "output_type": "stream",
          "name": "stdout",
          "text": [
            "{'brand': 'Ford', 'model': 'Mustang', 'year': 2018}\n"
          ]
        }
      ],
      "source": [
        "mydict[\"year\"] = 2018\n",
        "\n",
        "print(mydict)"
      ]
    },
    {
      "cell_type": "markdown",
      "metadata": {
        "id": "aUCmkn5wuKAt"
      },
      "source": [
        "## Adding/ removing Items\n",
        "\n",
        "Adding an item to the dictionary is done by using a new index key and assigning a value to it. Removing works similiar:"
      ]
    },
    {
      "cell_type": "code",
      "execution_count": null,
      "metadata": {
        "id": "HVTa4_jRuKAt",
        "outputId": "f3bdf6c7-2ffb-4ea7-b2e7-c1fff9042e26",
        "colab": {
          "base_uri": "https://localhost:8080/"
        }
      },
      "outputs": [
        {
          "output_type": "stream",
          "name": "stdout",
          "text": [
            "{'brand': 'Ford', 'model': 'Mustang', 'year': 1964, 'color': 'red'}\n"
          ]
        }
      ],
      "source": [
        "mydict ={\n",
        "  \"brand\": \"Ford\",\n",
        "  \"model\": \"Mustang\",\n",
        "  \"year\": 1964\n",
        "}\n",
        "\n",
        "mydict[\"color\"] = \"red\"\n",
        "print(mydict)"
      ]
    },
    {
      "cell_type": "code",
      "source": [
        "del(mydict[\"color\"])\n",
        "print(mydict)"
      ],
      "metadata": {
        "id": "wrJXBuf2eFWK",
        "outputId": "10c7f4fc-e3a6-4559-a482-618ba7acaae5",
        "colab": {
          "base_uri": "https://localhost:8080/"
        }
      },
      "execution_count": null,
      "outputs": [
        {
          "output_type": "stream",
          "name": "stdout",
          "text": [
            "{'brand': 'Ford', 'model': 'Mustang', 'year': 1964}\n"
          ]
        }
      ]
    },
    {
      "cell_type": "markdown",
      "metadata": {
        "id": "uOoGwNbduKAt"
      },
      "source": [
        "## Exercise\n",
        "\n",
        "Construct a dictionary named car with the characteristics, Brand is \"Audi\", Model of the car: \"Q3\" and Year of construction: 2001.\n",
        "\n",
        "Then perform the following tasks:\n",
        "- Get its model\n",
        "- Change the year to 2019\n",
        "- Add Colour of car as Blue"
      ]
    },
    {
      "cell_type": "code",
      "execution_count": null,
      "metadata": {
        "id": "a1ssRcCHuKAt"
      },
      "outputs": [],
      "source": [
        "car ={\"brand\": \"Aufi\",\n",
        "  \"model\": \"Q3\",\n",
        "  \"year\": 2001\n",
        "\n",
        "}"
      ]
    },
    {
      "cell_type": "code",
      "execution_count": null,
      "metadata": {
        "id": "ezg7ERuEuKAu",
        "outputId": "8071ee59-4658-4ec7-aa85-2db3f9f2fe61",
        "colab": {
          "base_uri": "https://localhost:8080/"
        }
      },
      "outputs": [
        {
          "output_type": "stream",
          "name": "stdout",
          "text": [
            "The model of car is: Q3\n"
          ]
        }
      ],
      "source": [
        "# get the model\n",
        "model = car[\"model\"]\n",
        "print(\"The model of car is: {}\".format(model))"
      ]
    },
    {
      "cell_type": "code",
      "execution_count": null,
      "metadata": {
        "id": "ZW7ei6zjuKAu",
        "outputId": "d77a7282-92ac-4f5c-beda-409ba051e23c",
        "colab": {
          "base_uri": "https://localhost:8080/"
        }
      },
      "outputs": [
        {
          "output_type": "stream",
          "name": "stdout",
          "text": [
            "{'brand': 'Aufi', 'model': 'Q3', 'year': 1999}\n"
          ]
        }
      ],
      "source": [
        "# change the year\n",
        "car[\"year\"]=1999\n",
        "\n",
        "# print the entire dictionary\n",
        "print(car)"
      ]
    },
    {
      "cell_type": "code",
      "execution_count": null,
      "metadata": {
        "id": "-QgR5UTjuKAu",
        "outputId": "e49d0aa8-0f12-479e-c154-7ebfb0f884d1",
        "colab": {
          "base_uri": "https://localhost:8080/"
        }
      },
      "outputs": [
        {
          "output_type": "stream",
          "name": "stdout",
          "text": [
            "{'brand': 'Aufi', 'model': 'Q3', 'year': 1999, 'colour': 'red'}\n"
          ]
        }
      ],
      "source": [
        "# add colour\n",
        "car[\"colour\"] = \"red\"\n",
        "\n",
        "# print the entire dictionary\n",
        "print(car)"
      ]
    },
    {
      "cell_type": "markdown",
      "metadata": {
        "id": "IiFzHRxAuKAh"
      },
      "source": [
        "# Control Flow Statements\n",
        "\n",
        "The key thing to note about Python's control flow statements and program structure is that it uses indentation to mark blocks. Hence the amount of white space (space or tab characters) at the start of a line is very important."
      ]
    },
    {
      "cell_type": "markdown",
      "metadata": {
        "id": "16FjQnkZuKAh"
      },
      "source": [
        "## If - else\n",
        "\n",
        "An *if* statement consists of a boolean expression followed by one or more statements, and these statements are executed if the boolean condition is true.\n",
        "If the condition is not satisfied, the statements below *else* are executed."
      ]
    },
    {
      "cell_type": "code",
      "execution_count": null,
      "metadata": {
        "id": "kR_n26PGuKAi",
        "outputId": "4e69d419-3cf1-4680-cd4e-7275ca4568f4",
        "colab": {
          "base_uri": "https://localhost:8080/"
        }
      },
      "outputs": [
        {
          "output_type": "stream",
          "name": "stdout",
          "text": [
            "Hello\n"
          ]
        }
      ],
      "source": [
        "x = 12\n",
        "if x > 10:\n",
        "    print(\"Hello\")\n",
        "else:\n",
        "    print(\"Bye\")"
      ]
    },
    {
      "cell_type": "markdown",
      "metadata": {
        "id": "w4PTyfBDuKAi"
      },
      "source": [
        "## Elif\n",
        "\n",
        "To check for multiple conditions, the *elif* is used."
      ]
    },
    {
      "cell_type": "code",
      "execution_count": null,
      "metadata": {
        "id": "CetTPchOuKAi",
        "outputId": "2c4042cb-c916-4156-d0be-3ff7a377ce49",
        "colab": {
          "base_uri": "https://localhost:8080/"
        }
      },
      "outputs": [
        {
          "output_type": "stream",
          "name": "stdout",
          "text": [
            "x<y\n"
          ]
        }
      ],
      "source": [
        "x = 10\n",
        "y = 12\n",
        "if x > y:\n",
        "    print(\"x>y\")\n",
        "elif x < y:\n",
        "    print(\"x<y\")\n",
        "else:\n",
        "    print(\"x=y\")"
      ]
    },
    {
      "cell_type": "markdown",
      "metadata": {
        "id": "YhnSH1A6uKAi"
      },
      "source": [
        "## For loop\n",
        "\n",
        "The *for* loops are used when you have a block of code which you want to repeat a fixed number of times. The Python *for* statement iterates over the members of a sequence in order, executing the block each time.\n",
        "\n",
        "When looping over integers the *range()* function is useful. It can be of two types.\n",
        "- The function *range(stop)* has parameter *stop* which is the number of integers (whole numbers) to generate, starting from zero. For example, **range(3) == [0, 1, 2].**\n",
        "So, in general, range(n) =  0, 1, ..., n-1\n",
        "\n",
        "\n",
        "- range(m,n)= m, m+1, ..., n-1\n",
        ". For example, **range(3, 6) === [3, 4, 5].**\n",
        "\n",
        "\n",
        "- range(m,n,step) = m, m+step, m+step+step, ..., n-1\n",
        ". For example, **range(3, 10, 2) === [3, 5, 7, 9].**\n",
        "\n",
        "\n",
        "Here, += operator is used. This operator adds right operand to the left operand and assign the result to left operand.\n",
        "For example, c += a is equivalent to c = c + a"
      ]
    },
    {
      "cell_type": "code",
      "execution_count": null,
      "metadata": {
        "id": "0M8OM0iDuKAi",
        "outputId": "a05e0205-df4c-437e-b663-d50f4e1bd82a",
        "colab": {
          "base_uri": "https://localhost:8080/"
        }
      },
      "outputs": [
        {
          "output_type": "stream",
          "name": "stdout",
          "text": [
            "0\n",
            "1\n",
            "2\n",
            "3\n",
            "4\n",
            "total = 10\n"
          ]
        }
      ],
      "source": [
        "total = 0\n",
        "for i in range(5):\n",
        "    print(i)\n",
        "    total += i\n",
        "\n",
        "print(\"total =\",total)"
      ]
    },
    {
      "cell_type": "markdown",
      "metadata": {
        "id": "vH-SThiCuKAj"
      },
      "source": [
        "## While Loop\n",
        "\n",
        "The *while* loop loops through a block of code as long as a specified condition is true.\n",
        "\n",
        "while (condition) {\n",
        "\n",
        "  // code block to be executed\n",
        "\n",
        "}\n",
        "\n",
        "We display the squares of first two natural numbers.\n",
        "\n",
        "The ****** operator in Python denotes the power operator. For example, c**2 is equivalent to c to the power of 2 (= c x c)"
      ]
    },
    {
      "cell_type": "code",
      "execution_count": null,
      "metadata": {
        "id": "zuIiHUAduKAj",
        "outputId": "daeeeb05-9e5a-461e-ed3e-82c95063e435",
        "colab": {
          "base_uri": "https://localhost:8080/"
        }
      },
      "outputs": [
        {
          "output_type": "stream",
          "name": "stdout",
          "text": [
            "1\n",
            "4\n",
            "Bye\n"
          ]
        }
      ],
      "source": [
        "i = 1\n",
        "while i < 3:\n",
        "    print(i ** 2)\n",
        "    i = i+1\n",
        "print('Bye')"
      ]
    },
    {
      "cell_type": "markdown",
      "metadata": {
        "id": "V3sBZmzDuKAj"
      },
      "source": [
        "## Exercise\n",
        "\n",
        "Try to print all the greetings by changing the time variable."
      ]
    },
    {
      "cell_type": "code",
      "execution_count": null,
      "metadata": {
        "id": "r02Hyo9ZuKAj",
        "outputId": "03b692dd-5574-4f67-9b3d-dda85ed30af3",
        "colab": {
          "base_uri": "https://localhost:8080/"
        }
      },
      "outputs": [
        {
          "output_type": "stream",
          "name": "stdout",
          "text": [
            "Guten Abend\n"
          ]
        }
      ],
      "source": [
        "time = 18\n",
        "\n",
        "if time < 12:\n",
        "    print(\"Guten Morgen\")\n",
        "elif time>17:\n",
        "    print(\"Guten Abend\")\n",
        "else:\n",
        "    print(\"Guten Tag\")"
      ]
    },
    {
      "cell_type": "markdown",
      "metadata": {
        "id": "64c3pylPuKAk"
      },
      "source": [
        "## Exercise\n",
        "Calculate the average of first 20 numbers, that is between 0 to 20. Use any of the Loop statements.\n"
      ]
    },
    {
      "cell_type": "code",
      "execution_count": null,
      "metadata": {
        "id": "l_kTlbB6uKAk",
        "outputId": "2550c430-fc42-4edb-dd89-21790b09c87f",
        "colab": {
          "base_uri": "https://localhost:8080/"
        }
      },
      "outputs": [
        {
          "output_type": "stream",
          "name": "stdout",
          "text": [
            "Average of first 20 numbers: 9.5\n"
          ]
        }
      ],
      "source": [
        "average = None\n",
        "# write your code here\n",
        "sums=0\n",
        "for i in range(20):\n",
        "    sums+=i\n",
        "average = sums/20\n",
        "\n",
        "print(\"Average of first 20 numbers: {}\".format(average))"
      ]
    },
    {
      "cell_type": "markdown",
      "source": [
        "# Wiederholung und Übung\n",
        "\n"
      ],
      "metadata": {
        "id": "MOMyQfasIaSi"
      }
    },
    {
      "cell_type": "markdown",
      "source": [
        "Beim letzten Wahlfachtermin haben wir die wichtigsten Grundlagen in Python kennengelernt, nämlich\n",
        "- Variabeln\n",
        "- Kontrollstrukturen: Verzweigungen (if) und Schleifen (while)\n",
        "- Funktionen\n",
        "- Listen\n",
        "- Dictionaries\n",
        "\n",
        "Heute runden wir unseren Python Crash-Kurs ab und lernen zwei wichtige libraries kennnen: Matplotlib und Pandas.\n",
        "\n",
        "Doch davor eine kleine Übung zum Einstieg:"
      ],
      "metadata": {
        "id": "EdZ-BNKdIlt5"
      }
    },
    {
      "cell_type": "markdown",
      "metadata": {
        "id": "H_up8anmkUOj"
      },
      "source": [
        "## Atherogenic index\n",
        "\n",
        "For the risk assessment in diseases of the cardiovascular system, the serum concentrations of the lipoproteins LDL and HDL are significant parameters in addition to the total cholesterol concentration. The ratio of the concentration of pro-atherogenic LDL to anti-atherogenic HDL is referred to as atherogenic index.\n",
        "\n",
        ">atherogenic_index = LDL/HDL; LDL and HDL are in mg/dl.\n",
        "\n",
        "The result of the index is as follows:\n",
        "\n",
        "    <2.0 : No risk\n",
        "    2.0 - 4.0 : Moderate risk\n",
        "    >4.0 : Highest risk"
      ]
    },
    {
      "cell_type": "markdown",
      "metadata": {
        "id": "Tw1aaGuTkUOk"
      },
      "source": [
        "The task is to calculate the atherogenic index of a patient and decide how much risk the patient has of a cardiovascular disease.\n",
        "\n",
        "Input will be a dicionary with LDL and HDL of patient: {\"LDL\": , \"HDL\": }\n",
        "\n",
        "Output will give the risk level."
      ]
    },
    {
      "cell_type": "code",
      "execution_count": null,
      "metadata": {
        "id": "fx9wbTMOkUOk",
        "outputId": "19f2405f-8f4c-45fa-a897-4b1c6882d06d",
        "colab": {
          "base_uri": "https://localhost:8080/"
        }
      },
      "outputs": [
        {
          "output_type": "stream",
          "name": "stdout",
          "text": [
            " No Risk\n"
          ]
        }
      ],
      "source": [
        "def calculate_artherogenic_index(patient_data):\n",
        "    arth_index = patient_data[\"LDL\"]/patient_data[\"HDL\"]\n",
        "\n",
        "    if arth_index < 2.0:\n",
        "        print(\" No Risk\")\n",
        "    elif arth_index > 2.0 and arth_index < 4.0:\n",
        "        print(\" Moderate Risk\")\n",
        "    else:\n",
        "        print(\" High Risk\")\n",
        "\n",
        "patient_input = {\"LDL\": 4.0,\n",
        "                \"HDL\": 3.5}\n",
        "\n",
        "calculate_artherogenic_index(patient_data=patient_input)"
      ]
    },
    {
      "cell_type": "code",
      "execution_count": null,
      "metadata": {
        "id": "Dt-QSEV6kUOl",
        "outputId": "51835603-fc7e-494a-8e3c-18c52f6690ea",
        "colab": {
          "base_uri": "https://localhost:8080/"
        }
      },
      "outputs": [
        {
          "output_type": "stream",
          "name": "stdout",
          "text": [
            " High Risk\n"
          ]
        }
      ],
      "source": [
        "patient_input = {\"LDL\": 12.0,\n",
        "                \"HDL\": 2.5}\n",
        "\n",
        "calculate_artherogenic_index(patient_data=patient_input)"
      ]
    },
    {
      "cell_type": "markdown",
      "metadata": {
        "id": "f75daEuA7_wZ"
      },
      "source": [
        "## GFR\n",
        "\n",
        "Glomerular filtration rate (GFR) is a test used to check how well the kidneys are working. Specifically, it estimates how much blood passes through the glomeruli each minute. Glomeruli are the tiny filters in the kidneys that filter waste from the blood.\n",
        "\n",
        "These are about 120 milliliters per minute or about 170 liters per day in an adult human with normal blood pressure levels.\n",
        "\n",
        "The Score is calculated by:\n",
        ">$GFR = \\displaystyle\\frac{140 - age}{72 \\cdot serum\\_kreatinin}\\cdot body\\_weight$\n",
        "\n",
        "where body_weight is in kg, age in years and serum_kreatinin is in mg/dl.\n",
        "\n",
        "**Note, for woman the score needs to be mulitplied by 0.85.**\n"
      ]
    },
    {
      "cell_type": "markdown",
      "metadata": {
        "id": "g6RYp0wE7_wa"
      },
      "source": [
        "The input will be for a patient,\n",
        "> Patient = {\"age\":, \"weight\":, \"kreatinin\":, \"gender\":}\n",
        "\n",
        "Output will be the GFR of the patient.\n",
        "\n",
        "Inputs to try:\n",
        "- Patient1 = {\"age\":20, \"weight\":85, \"kreatinin\":12, \"gender\":male}\n",
        "- Patient1 = {\"age\":20, \"weight\":85, \"kreatinin\":12, \"gender\":female}\n",
        "\n",
        "Corresponding Ouputs:\n",
        "- Patient1_GFR: 11.8\n",
        "- Patient2_GFR: 10.0"
      ]
    },
    {
      "cell_type": "code",
      "execution_count": null,
      "metadata": {
        "id": "9RdE-kxl7_wa"
      },
      "outputs": [],
      "source": [
        "patient1 =  {\"age\" : 20, \"weight\" : 85, \"kreatinin\" : 12, \"gender\" : \"male\"}\n",
        "patient2 = {\"age\" : 20, \"weight\" : 85, \"kreatinin\" : 12, \"gender\" : \"female\"}\n",
        "\n",
        "def calculate_gfr(patient_data):\n",
        "    gfr = ((140-patient_data[\"age\"]) * patient_data[\"weight\"])/(72 * patient_data[\"kreatinin\"])\n",
        "    if patient_data[\"gender\"] == \"female\":\n",
        "        gfr = gfr * 0.85\n",
        "    return gfr\n",
        "\n",
        "print(\"GFR of Patient1 is : {0:.1f}\".format(calculate_gfr(patient1)))\n",
        "\n",
        "print(\"GFR of Patient2 is : {0:.1f}\".format(calculate_gfr(patient2)))\n"
      ]
    },
    {
      "cell_type": "markdown",
      "metadata": {
        "id": "o8lbHm_dkUOo"
      },
      "source": [
        "## Child-Pugh Score\n",
        "\n",
        "The Child-Pugh score is a system for assessing the prognosis — including the required strength of treatment and necessity of liver transplant — of chronic liver disease, primarily cirrhosis. It provides a forecast of the increasing severity of your liver disease and your expected survival rate.\n",
        "\n",
        "The Score has 5 parameters:\n",
        "\n",
        "![grafik.png](data:image/png;base64,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)\n",
        "\n",
        "Then, the Child-Pugh Score is:\n",
        "> Score = Bilirubin + Albumin + INR + Aszites + Enzephalopathie"
      ]
    },
    {
      "cell_type": "markdown",
      "metadata": {
        "id": "7Ehl8g2lkUOo"
      },
      "source": [
        "The inputs will be a dictionary with the key as the parameters for a single patient. For eg.\n",
        ">Patient1 = {\"Bilirubin\": , \"Albumin\": ,        \"INR\": ,            \"Aszites\": ,  \" Enzephalophatie\": }\n",
        "\n",
        "Output will the Child-Pugh Score of the patient and the corresponding Class.\n",
        "\n",
        "Inputs to try:\n",
        "- Patient1 = {\"Bilirubin\": 1.9, \"Albumin\": 2.4 ,        \"INR\": 1.2,            \"Aszites\": No,  \" Enzephalophatie\": no}\n",
        "- Patient2= {\"Bilirubin\": 2.2, \"Albumin\": 3.4 ,        \"INR\": 2.0,            \"Aszites\": Mild,  \" Enzephalophatie\": no}\n",
        "- Patient3 = {\"Bilirubin\": 3.9, \"Albumin\": 3.4 ,        \"INR\": 2.5,            \"Aszites\": Moderate ,  \" Enzephalophatie\": Grade III-IV}\n",
        "\n",
        "Corresponding Outputs:\n",
        "- Patient1 : B\n",
        "- Patient2 : B\n",
        "- Patient3 : C"
      ]
    },
    {
      "cell_type": "code",
      "execution_count": null,
      "metadata": {
        "id": "0Zh0oCcekUOp",
        "outputId": "985e4196-034f-4d8c-cdcc-a32f07312ec8",
        "colab": {
          "base_uri": "https://localhost:8080/"
        }
      },
      "outputs": [
        {
          "output_type": "stream",
          "name": "stdout",
          "text": [
            "Child Pugh Score Scale for patient1 is : B\n",
            "Child Pugh Score Scale for patient1 is : B\n",
            "Child Pugh Score Scale for patient1 is : C\n"
          ]
        }
      ],
      "source": [
        "patient1 = {\"Bilirubin\": 1.9, \"Albumin\": 2.4 , \"INR\": 1.2, \"Aszites\": \"No\", \"Enzephalophatie\": \"No\"}\n",
        "patient2= {\"Bilirubin\": 2.2, \"Albumin\": 3.4 , \"INR\": 2.0, \"Aszites\": \"Mild\", \"Enzephalophatie\": \"No\"}\n",
        "patient3 = {\"Bilirubin\": 3.9, \"Albumin\": 3.4 , \"INR\": 2.5, \"Aszites\": \"Moderate\" , \"Enzephalophatie\": \"Grade III-IV\"}\n",
        "\n",
        "def calculate_child_pugh(patient_data):\n",
        "    cp_score = 0\n",
        "\n",
        "    # Bilirubin scores\n",
        "    if patient_data[\"Bilirubin\"]< 2.0:\n",
        "        cp_score += 1\n",
        "    elif patient_data[\"Bilirubin\"]>= 2.0 and patient_data[\"Bilirubin\"]<= 3.0:\n",
        "        cp_score += 2\n",
        "    elif patient_data[\"Bilirubin\"]> 3.0:\n",
        "        cp_score += 3\n",
        "\n",
        "    # Albumin scores\n",
        "    if patient_data[\"Albumin\"]> 3.5:\n",
        "        cp_score += 1\n",
        "    elif patient_data[\"Albumin\"]>= 2.8 and patient_data[\"Albumin\"]<= 3.5:\n",
        "        cp_score += 2\n",
        "    elif patient_data[\"Albumin\"]< 2.8:\n",
        "        cp_score += 3\n",
        "\n",
        "    # INR scores\n",
        "    if patient_data[\"INR\"]< 1.7:\n",
        "        cp_score += 1\n",
        "    elif patient_data[\"INR\"]>= 1.7 and patient_data[\"INR\"]<= 2.20:\n",
        "        cp_score += 2\n",
        "    elif patient_data[\"INR\"]> 2.20:\n",
        "        cp_score += 3\n",
        "\n",
        "    # Aszites scores\n",
        "    if patient_data[\"Aszites\"] == \"No\":\n",
        "        cp_score += 1\n",
        "    elif patient_data[\"Aszites\"] == \"Mild\":\n",
        "        cp_score += 2\n",
        "    elif patient_data[\"Aszites\"]== \"Moderate\":\n",
        "        cp_score += 3\n",
        "\n",
        "    # Enzephalophatie scores\n",
        "    if patient_data[\"Enzephalophatie\"] == \"No\":\n",
        "        cp_score += 1\n",
        "    elif patient_data[\"Enzephalophatie\"] == \"Grade I-II\":\n",
        "        cp_score += 2\n",
        "    elif patient_data[\"Enzephalophatie\"]== \"Grade III-IV\":\n",
        "        cp_score += 3\n",
        "\n",
        "    if cp_score >= 5 and cp_score <= 6:\n",
        "        scale = \"A\"\n",
        "    elif cp_score >= 7 and cp_score <= 9:\n",
        "        scale = \"B\"\n",
        "    elif cp_score >= 10 and cp_score <= 15:\n",
        "        scale = \"C\"\n",
        "\n",
        "    return scale\n",
        "\n",
        "print(\"Child Pugh Score Scale for patient1 is : {}\".format(calculate_child_pugh(patient1)))\n",
        "\n",
        "print(\"Child Pugh Score Scale for patient1 is : {}\".format(calculate_child_pugh(patient2)))\n",
        "\n",
        "print(\"Child Pugh Score Scale for patient1 is : {}\".format(calculate_child_pugh(patient3)))"
      ]
    },
    {
      "cell_type": "markdown",
      "source": [
        "# Matplotlib"
      ],
      "metadata": {
        "id": "TqwSryb15u3b"
      }
    },
    {
      "cell_type": "markdown",
      "source": [
        "Data visualization is a key skill for aspiring data scientists. Matplotlib makes it easy to create meaningful and insightful plots. In this chapter, you’ll learn how to build various types of plots, and customize them to be more visually appealing and interpretable."
      ],
      "metadata": {
        "id": "bkf0J8EDRsjB"
      }
    },
    {
      "cell_type": "markdown",
      "source": [
        "Ignore the following code as it loads the dataset."
      ],
      "metadata": {
        "id": "TIviOpWPSCqI"
      }
    },
    {
      "cell_type": "code",
      "source": [
        "year = [1950, 1951, 1952, 1953, 1954, 1955, 1956, 1957, 1958, 1959, 1960, 1961, 1962, 1963, 1964, 1965, 1966, 1967, 1968, 1969, 1970, 1971, 1972, 1973, 1974, 1975, 1976, 1977, 1978, 1979, 1980, 1981, 1982, 1983, 1984, 1985, 1986, 1987, 1988, 1989, 1990, 1991, 1992, 1993, 1994, 1995, 1996, 1997, 1998, 1999, 2000, 2001, 2002, 2003, 2004, 2005, 2006, 2007, 2008, 2009, 2010, 2011, 2012, 2013, 2014, 2015, 2016, 2017, 2018, 2019, 2020, 2021, 2022, 2023, 2024, 2025, 2026, 2027, 2028, 2029, 2030, 2031, 2032, 2033, 2034, 2035, 2036, 2037, 2038, 2039, 2040, 2041, 2042, 2043, 2044, 2045, 2046, 2047, 2048, 2049, 2050, 2051, 2052, 2053, 2054, 2055, 2056, 2057, 2058, 2059, 2060, 2061, 2062, 2063, 2064, 2065, 2066, 2067, 2068, 2069, 2070, 2071, 2072, 2073, 2074, 2075, 2076, 2077, 2078, 2079, 2080, 2081, 2082, 2083, 2084, 2085, 2086, 2087, 2088, 2089, 2090, 2091, 2092, 2093, 2094, 2095, 2096, 2097, 2098, 2099, 2100]\n",
        "pop = [2.53, 2.57, 2.62, 2.67, 2.71, 2.76, 2.81, 2.86, 2.92, 2.97, 3.03, 3.08, 3.14, 3.2, 3.26, 3.33, 3.4, 3.47, 3.54, 3.62, 3.69, 3.77, 3.84, 3.92, 4.0, 4.07, 4.15, 4.22, 4.3, 4.37, 4.45, 4.53, 4.61, 4.69, 4.78, 4.86, 4.95, 5.05, 5.14, 5.23, 5.32, 5.41, 5.49, 5.58, 5.66, 5.74, 5.82, 5.9, 5.98, 6.05, 6.13, 6.2, 6.28, 6.36, 6.44, 6.51, 6.59, 6.67, 6.75, 6.83, 6.92, 7.0, 7.08, 7.16, 7.24, 7.32, 7.4, 7.48, 7.56, 7.64, 7.72, 7.79, 7.87, 7.94, 8.01, 8.08, 8.15, 8.22, 8.29, 8.36, 8.42, 8.49, 8.56, 8.62, 8.68, 8.74, 8.8, 8.86, 8.92, 8.98, 9.04, 9.09, 9.15, 9.2, 9.26, 9.31, 9.36, 9.41, 9.46, 9.5, 9.55, 9.6, 9.64, 9.68, 9.73, 9.77, 9.81, 9.85, 9.88, 9.92, 9.96, 9.99, 10.03, 10.06, 10.09, 10.13, 10.16, 10.19, 10.22, 10.25, 10.28, 10.31, 10.33, 10.36, 10.38, 10.41, 10.43, 10.46, 10.48, 10.5, 10.52, 10.55, 10.57, 10.59, 10.61, 10.63, 10.65, 10.66, 10.68, 10.7, 10.72, 10.73, 10.75, 10.77, 10.78, 10.79, 10.81, 10.82, 10.83, 10.84, 10.85]\n",
        "gdp_cap = [974.5803384, 5937.029525999999, 6223.367465, 4797.231267, 12779.37964, 34435.367439999995, 36126.4927, 29796.04834, 1391.253792, 33692.60508, 1441.284873, 3822.137084, 7446.298803, 12569.85177, 9065.800825, 10680.79282, 1217.032994, 430.0706916, 1713.778686, 2042.09524, 36319.23501, 706.016537, 1704.063724, 13171.63885, 4959.114854, 7006.580419, 986.1478792, 277.5518587, 3632.557798, 9645.06142, 1544.750112, 14619.222719999998, 8948.102923, 22833.30851, 35278.41874, 2082.4815670000003, 6025.374752000001, 6873.262326000001, 5581.180998, 5728.353514, 12154.08975, 641.3695236000001, 690.8055759, 33207.0844, 30470.0167, 13206.48452, 752.7497265, 32170.37442, 1327.60891, 27538.41188, 5186.050003, 942.6542111, 579.2317429999999, 1201.637154, 3548.3308460000003, 39724.97867, 18008.94444, 36180.78919, 2452.210407, 3540.651564, 11605.71449, 4471.061906, 40675.99635, 25523.2771, 28569.7197, 7320.880262000001, 31656.06806, 4519.461171, 1463.249282, 1593.06548, 23348.139730000003, 47306.98978, 10461.05868, 1569.331442, 414.5073415, 12057.49928, 1044.770126, 759.3499101, 12451.6558, 1042.581557, 1803.151496, 10956.99112, 11977.57496, 3095.7722710000003, 9253.896111, 3820.17523, 823.6856205, 944.0, 4811.060429, 1091.359778, 36797.93332, 25185.00911, 2749.320965, 619.6768923999999, 2013.977305, 49357.19017, 22316.19287, 2605.94758, 9809.185636, 4172.838464, 7408.905561, 3190.481016, 15389.924680000002, 20509.64777, 19328.70901, 7670.122558, 10808.47561, 863.0884639000001, 1598.435089, 21654.83194, 1712.472136, 9786.534714, 862.5407561000001, 47143.17964, 18678.31435, 25768.25759, 926.1410683, 9269.657808, 28821.0637, 3970.095407, 2602.394995, 4513.480643, 33859.74835, 37506.41907, 4184.548089, 28718.27684, 1107.482182, 7458.396326999999, 882.9699437999999, 18008.50924, 7092.923025, 8458.276384, 1056.380121, 33203.26128, 42951.65309, 10611.46299, 11415.80569, 2441.576404, 3025.349798, 2280.769906, 1271.211593, 469.70929810000007]\n",
        "life_exp = [43.828, 76.423, 72.301, 42.731, 75.32, 81.235, 79.829, 75.635, 64.062, 79.441, 56.728, 65.554, 74.852, 50.728, 72.39, 73.005, 52.295, 49.58, 59.723, 50.43, 80.653, 44.74100000000001, 50.651, 78.553, 72.961, 72.889, 65.152, 46.462, 55.322, 78.782, 48.328, 75.748, 78.273, 76.486, 78.332, 54.791, 72.235, 74.994, 71.33800000000001, 71.878, 51.57899999999999, 58.04, 52.947, 79.313, 80.657, 56.735, 59.448, 79.406, 60.022, 79.483, 70.259, 56.007, 46.388000000000005, 60.916, 70.19800000000001, 82.208, 73.33800000000001, 81.757, 64.69800000000001, 70.65, 70.964, 59.545, 78.885, 80.745, 80.546, 72.567, 82.603, 72.535, 54.11, 67.297, 78.623, 77.58800000000001, 71.993, 42.592, 45.678, 73.952, 59.443000000000005, 48.303, 74.241, 54.467, 64.164, 72.801, 76.195, 66.803, 74.543, 71.164, 42.082, 62.069, 52.906000000000006, 63.785, 79.762, 80.204, 72.899, 56.867, 46.859, 80.196, 75.64, 65.483, 75.53699999999999, 71.752, 71.421, 71.688, 75.563, 78.098, 78.74600000000001, 76.442, 72.476, 46.242, 65.528, 72.777, 63.062, 74.002, 42.568000000000005, 79.972, 74.663, 77.926, 48.159, 49.339, 80.941, 72.396, 58.556, 39.613, 80.884, 81.70100000000001, 74.143, 78.4, 52.517, 70.616, 58.42, 69.819, 73.923, 71.777, 51.542, 79.425, 78.242, 76.384, 73.747, 74.249, 73.422, 62.698, 42.38399999999999, 43.487]"
      ],
      "metadata": {
        "id": "NNQIy75KSD3_"
      },
      "execution_count": 1,
      "outputs": []
    },
    {
      "cell_type": "markdown",
      "source": [
        "## Line plot\n",
        "\n",
        "In this chapter you will analyze the dynamics of world population growth. The world bank has estimates of the world population for the years 1950 up to 2100. The years are loaded in your workspace as a list called year, and the corresponding populations as a list called pop."
      ],
      "metadata": {
        "id": "HoEFK1oCXUYh"
      }
    },
    {
      "cell_type": "markdown",
      "source": [
        "\n",
        "- `print()` the last item from both the year and the pop list to see what the predicted population for the year 2100 is. Use two `print()` functions.\n",
        "- Before you can start, you should import `matplotlib.pyplot` as plt. pyplot is a sub-package of matplotlib, hence the dot.\n",
        "- Use `plt.plot()` to build a line plot. year should be mapped on the horizontal axis, pop on the vertical axis. Don't forget to finish off with the `plt.show()` function to actually display the plot.\n",
        "- Based on the plot, in approximately what year will there be more than ten billion human beings on this planet?\n"
      ],
      "metadata": {
        "id": "ggDpcpQ9YDvw"
      }
    },
    {
      "cell_type": "code",
      "source": [
        "# Print the last item from year and pop\n",
        "print(year[-1])\n",
        "print(pop[-1])\n",
        "\n",
        "# Import matplotlib.pyplot as plt\n",
        "import matplotlib.pyplot as plt\n",
        "\n",
        "# Make a line plot: year on the x-axis, pop on the y-axis\n",
        "plt.plot(year, pop)\n",
        "\n",
        "# Display the plot with plt.show()\n",
        "plt.show()"
      ],
      "metadata": {
        "id": "3DGnyCZSYbro",
        "outputId": "12be434f-3e35-4f5b-b3ec-88e277e2567b",
        "colab": {
          "base_uri": "https://localhost:8080/",
          "height": 466
        }
      },
      "execution_count": 2,
      "outputs": [
        {
          "output_type": "stream",
          "name": "stdout",
          "text": [
            "2100\n",
            "10.85\n"
          ]
        },
        {
          "output_type": "display_data",
          "data": {
            "text/plain": [
              "<Figure size 640x480 with 1 Axes>"
            ],
            "image/png": "[encoded data removed]"
          },
          "metadata": {}
        }
      ]
    },
    {
      "cell_type": "markdown",
      "source": [
        "## Scatter plot\n",
        "When you have a time scale along the horizontal axis, the line plot is your friend. But in many other cases, when you're trying to assess if there's a correlation between two variables, for example, the scatter plot is the better choice. Below is an example of how to build a scatter plot."
      ],
      "metadata": {
        "id": "EphZCIVnZtE5"
      }
    },
    {
      "cell_type": "code",
      "source": [
        "import matplotlib.pyplot as plt\n",
        "plt.scatter(x,y)\n",
        "plt.show()"
      ],
      "metadata": {
        "id": "T4FTkZerZ2e4"
      },
      "execution_count": null,
      "outputs": []
    },
    {
      "cell_type": "markdown",
      "source": [
        "Let's continue with a gdp_cap versus life_exp plot, the GDP and life expectancy data for different countries in 2007.\n",
        "- import matplotlib.pyplot package as plt\n",
        "- Print the last item from both the list gdp_cap, and the list life_exp; it is information about Zimbabwe.\n",
        "- Build a scatter plot, with gdp_cap on the x-axis, and life_exp on the y-axis.\n",
        "- A correlation will become clear when you display the GDP per capita on a logarithmic scale. Add the line plt.xscale('log').\n",
        "- Finish off your script with plt.show() to display the plot."
      ],
      "metadata": {
        "id": "fhHX4BwQZ6NQ"
      }
    },
    {
      "cell_type": "code",
      "source": [
        "# Import matplotlib.pyplot as plt\n",
        "import matplotlib.pyplot as plt\n",
        "\n",
        "# Print the last item of gdp_cap and life_exp\n",
        "print(gdp_cap[-1])\n",
        "print(life_exp[-1])\n",
        "\n",
        "# Make a scatter plot, gdp_cap on the x-axis, life_exp on the y-axis\n",
        "plt.scatter(gdp_cap, life_exp)\n",
        "\n",
        "# Put the x-axis on a logarithmic scale\n",
        "plt.xscale(\"log\")\n",
        "\n",
        "# Show plot\n",
        "plt.show()"
      ],
      "metadata": {
        "colab": {
          "base_uri": "https://localhost:8080/",
          "height": 470
        },
        "id": "L6otPjJ5azQY",
        "outputId": "17a0db26-9d92-4337-ccb8-649fa6f8758c"
      },
      "execution_count": 4,
      "outputs": [
        {
          "output_type": "stream",
          "name": "stdout",
          "text": [
            "469.70929810000007\n",
            "43.487\n"
          ]
        },
        {
          "output_type": "display_data",
          "data": {
            "text/plain": [
              "<Figure size 640x480 with 1 Axes>"
            ],
            "image/png": "[encoded data removed]"
          },
          "metadata": {}
        }
      ]
    },
    {
      "cell_type": "markdown",
      "source": [
        "## Customization\n",
        "\n",
        "It's time to customize your own plot. This is the fun part, you will see your plot come to life!"
      ],
      "metadata": {
        "id": "E20EtxmmbNk4"
      }
    },
    {
      "cell_type": "markdown",
      "source": [
        "### Labels\n",
        "\n",
        "As a first step, let's add axis labels and a title to the plot. You can do this with the xlabel(), ylabel() and title() functions, available in `matplotlib.pyplot`. This sub-package is already imported as plt.\n",
        "- The strings xlab and ylab are already set for you. Use these variables to set the label of the x- and y-axis.\n",
        "- The string title is also coded for you. Use it to add a title to the plot.\n",
        "- After these customizations, finish the script with plt.show() to actually display the plot.\n"
      ],
      "metadata": {
        "id": "rNMKr7J0blP5"
      }
    },
    {
      "cell_type": "code",
      "source": [
        "# Basic scatter plot, log scale\n",
        "plt.scatter(gdp_cap, life_exp)\n",
        "plt.xscale('log')\n",
        "\n",
        "# Strings\n",
        "xlab = 'GDP per Capita [in USD]'\n",
        "ylab = 'Life Expectancy [in years]'\n",
        "title = 'World Development in 2007'\n",
        "\n",
        "# Add axis labels\n",
        "plt.xlabel(xlab)\n",
        "plt.ylabel(ylab)\n",
        "\n",
        "# Add title\n",
        "plt.title(title)\n",
        "\n",
        "# After customizing, display the plot\n",
        "plt.show()"
      ],
      "metadata": {
        "colab": {
          "base_uri": "https://localhost:8080/",
          "height": 476
        },
        "id": "3gSQuN51bp4h",
        "outputId": "9872a3db-4a86-42c2-839c-bab0616430ad"
      },
      "execution_count": 25,
      "outputs": [
        {
          "output_type": "display_data",
          "data": {
            "text/plain": [
              "<Figure size 640x480 with 1 Axes>"
            ],
            "image/png": "[encoded data removed]"
          },
          "metadata": {}
        }
      ]
    },
    {
      "cell_type": "markdown",
      "source": [
        "### Ticks\n",
        "The customizations you've coded up to now are available in the script, in a more concise form.\n",
        "\n",
        "You can control the y-ticks by specifying two arguments:\n",
        "\n",
        "`plt.yticks([0,1,2], [\"one\",\"two\",\"three\"])`\n",
        "\n",
        "In this example, the ticks corresponding to the numbers 0, 1 and 2 will be replaced by one, two and three, respectively.\n",
        "Let's do a similar thing for the x-axis of your world development chart, with the `xticks()` function. The tick values 1000, 10000 and 100000 should be replaced by 1k, 10k and 100k. To this end, two lists have already been created for you: tick_val and tick_lab.\n",
        "\n",
        "\n",
        "- Use tick_val and tick_lab as inputs to the xticks() function to make the the plot more readable.\n",
        "- As usual, display the plot with plt.show() after you've added the customizations.\n"
      ],
      "metadata": {
        "id": "ChbUDHi9b5Mw"
      }
    },
    {
      "cell_type": "code",
      "source": [
        "# Scatter plot\n",
        "plt.scatter(gdp_cap, life_exp)\n",
        "\n",
        "# Previous customizations\n",
        "plt.xscale('log')\n",
        "plt.xlabel('GDP per Capita [in USD]')\n",
        "plt.ylabel('Life Expectancy [in years]')\n",
        "plt.title('World Development in 2007')\n",
        "\n",
        "# Definition of tick_val and tick_lab\n",
        "tick_val = [1000, 10000, 100000]\n",
        "tick_lab = ['1k', '10k', '100k']\n",
        "\n",
        "# Adapt the ticks on the x-axis\n",
        "plt.xticks(tick_val, tick_lab)\n",
        "\n",
        "# After customizing, display the plot\n",
        "plt.show()"
      ],
      "metadata": {
        "colab": {
          "base_uri": "https://localhost:8080/",
          "height": 472
        },
        "id": "uHqPBV2rcbcn",
        "outputId": "160d2e8c-1f63-4c03-97fd-f01c5ff4d811"
      },
      "execution_count": 26,
      "outputs": [
        {
          "output_type": "display_data",
          "data": {
            "text/plain": [
              "<Figure size 640x480 with 1 Axes>"
            ],
            "image/png": "[encoded data removed]"
          },
          "metadata": {}
        }
      ]
    },
    {
      "cell_type": "markdown",
      "source": [
        "# Pandas\n",
        "Pandas is an open source library, providing high-performance, easy-to-use data structures and data analysis tools for Python."
      ],
      "metadata": {
        "id": "lZdy_OnXekvR"
      }
    },
    {
      "cell_type": "markdown",
      "source": [
        "## From a dictionary to a DataFrame\n",
        "The DataFrame is one of Pandas' most important data structures. It's basically a way to store tabular data where you can label the rows and the columns. One way to build a DataFrame is from a dictionary."
      ],
      "metadata": {
        "id": "9PHT3MDYe1pl"
      }
    },
    {
      "cell_type": "markdown",
      "source": [
        "In the exercises that follow you will be working with vehicle data from different countries. Each observation corresponds to a country and the columns give information about the number of vehicles per capita, whether people drive left or right, and so on."
      ],
      "metadata": {
        "id": "MatjCW9GjAST"
      }
    },
    {
      "cell_type": "markdown",
      "source": [
        "\n",
        "1. Import pandas as pd.\n",
        "2. Use the pre-defined lists to create a dictionary called `my_dict`. There should be three key value pairs:\n",
        "- key `'country'` and value `names`.\n",
        "- key `'drives_right'` and value `dr`.\n",
        "- key `'cars_per_cap'` and value `cpc`.\n",
        "3. Use `pd.DataFrame()` to turn your dict into a DataFrame called `cars`.\n",
        "4. Print out `cars` and see how beautiful it is."
      ],
      "metadata": {
        "id": "4N32Fbv1hS8B"
      }
    },
    {
      "cell_type": "code",
      "source": [
        "# Pre-defined lists\n",
        "names = ['United States', 'Australia', 'Japan', 'India', 'Russia', 'Morocco', 'Egypt']\n",
        "dr =  [True, False, False, False, True, True, True]\n",
        "cpc = [809, 731, 588, 18, 200, 70, 45]\n",
        "\n",
        "# Import pandas as pd\n",
        "import pandas as pd\n",
        "\n",
        "# Create dictionary my_dict with three key:value pairs: my_dict\n",
        "my_dict = {\"country\":names, \"drives_right\":dr, \"cars_per_cap\": cpc}\n",
        "\n",
        "# Build a DataFrame cars from my_dict: cars\n",
        "cars = pd.DataFrame(my_dict)\n",
        "\n",
        "# Print cars\n",
        "print(cars)"
      ],
      "metadata": {
        "id": "gK4uC1fNh59K",
        "colab": {
          "base_uri": "https://localhost:8080/"
        },
        "outputId": "208a5562-0ca0-461e-daec-2dda11f42107"
      },
      "execution_count": 7,
      "outputs": [
        {
          "output_type": "stream",
          "name": "stdout",
          "text": [
            "         country  drives_right  cars_per_cap\n",
            "0  United States          True           809\n",
            "1      Australia         False           731\n",
            "2          Japan         False           588\n",
            "3          India         False            18\n",
            "4         Russia          True           200\n",
            "5        Morocco          True            70\n",
            "6          Egypt          True            45\n"
          ]
        }
      ]
    },
    {
      "cell_type": "markdown",
      "source": [
        "Have you noticed that the row labels (i.e. the labels for the different observations) were automatically set to integers from 0 up to 6?\n",
        "\n",
        "To solve this a list `row_labels` has been created. You can use it to specify the row labels of the `cars` DataFrame. You do this by setting the index attribute of cars, that you can access as `cars.index`.\n",
        "- Specify the row labels by setting cars.index equal to row_labels.\n",
        "- Print out cars again and check if the row labels are correct this time."
      ],
      "metadata": {
        "id": "urHWAy88jKlS"
      }
    },
    {
      "cell_type": "code",
      "source": [
        "import pandas as pd\n",
        "\n",
        "# Build cars DataFrame\n",
        "names = ['United States', 'Australia', 'Japan', 'India', 'Russia', 'Morocco', 'Egypt']\n",
        "dr =  [True, False, False, False, True, True, True]\n",
        "cpc = [809, 731, 588, 18, 200, 70, 45]\n",
        "cars_dict = { 'country':names, 'drives_right':dr, 'cars_per_cap':cpc }\n",
        "cars = pd.DataFrame(cars_dict)\n",
        "\n",
        "# Definition of row_labels\n",
        "row_labels = ['US', 'AUS', 'JPN', 'IN', 'RU', 'MOR', 'EG']\n",
        "\n",
        "# Specify row labels of cars\n",
        "cars.index = row_labels\n",
        "\n",
        "# Print cars again\n",
        "print(cars)"
      ],
      "metadata": {
        "colab": {
          "base_uri": "https://localhost:8080/"
        },
        "id": "EoniuYvEjVC7",
        "outputId": "3d4a5a32-356f-4eb7-fbb9-aadb2ec0e3b5"
      },
      "execution_count": 8,
      "outputs": [
        {
          "output_type": "stream",
          "name": "stdout",
          "text": [
            "           country  drives_right  cars_per_cap\n",
            "US   United States          True           809\n",
            "AUS      Australia         False           731\n",
            "JPN          Japan         False           588\n",
            "IN           India         False            18\n",
            "RU          Russia          True           200\n",
            "MOR        Morocco          True            70\n",
            "EG           Egypt          True            45\n"
          ]
        }
      ]
    },
    {
      "cell_type": "markdown",
      "source": [
        "## Square Brackets\n",
        "\n",
        "There are many different ways to index and select Pandas DataFrames. The simplest, but not the most powerful way, is to use square brackets.\n",
        "\n",
        "To select only the cars_per_cap column from cars, you can use:\n",
        "\n",
        "`cars['cars_per_cap']`\n",
        "\n",
        "`cars[['cars_per_cap']]`\n",
        "\n",
        "The single bracket version gives a Pandas Series, the double bracket version gives a Pandas DataFrame."
      ],
      "metadata": {
        "id": "SFgKRMRhjn-i"
      }
    },
    {
      "cell_type": "markdown",
      "source": [
        "Time for some excercise!\n",
        "\n",
        "- Use single square brackets to print out the country column of cars as a Pandas Series.\n",
        "- Use double square brackets to print out the country column of cars as a Pandas DataFrame.\n",
        "- Use double square brackets to print out a DataFrame with both the country and drives_right columns of cars, in this order."
      ],
      "metadata": {
        "id": "XTdB3M41kJ-b"
      }
    },
    {
      "cell_type": "code",
      "source": [
        "# Print out country column as Pandas Series\n",
        "print(cars[\"country\"])\n",
        "\n",
        "# Print out country column as Pandas DataFrame\n",
        "print(cars[[\"country\"]])\n",
        "\n",
        "# Print out DataFrame with country and drives_right columns\n",
        "print(cars[[\"country\", \"drives_right\"]])"
      ],
      "metadata": {
        "id": "ldjRmsOdkUlD",
        "colab": {
          "base_uri": "https://localhost:8080/"
        },
        "outputId": "f87be7c0-4ffb-42e3-81b0-3c2700a12be8"
      },
      "execution_count": 9,
      "outputs": [
        {
          "output_type": "stream",
          "name": "stdout",
          "text": [
            "US     United States\n",
            "AUS        Australia\n",
            "JPN            Japan\n",
            "IN             India\n",
            "RU            Russia\n",
            "MOR          Morocco\n",
            "EG             Egypt\n",
            "Name: country, dtype: object\n",
            "           country\n",
            "US   United States\n",
            "AUS      Australia\n",
            "JPN          Japan\n",
            "IN           India\n",
            "RU          Russia\n",
            "MOR        Morocco\n",
            "EG           Egypt\n",
            "           country  drives_right\n",
            "US   United States          True\n",
            "AUS      Australia         False\n",
            "JPN          Japan         False\n",
            "IN           India         False\n",
            "RU          Russia          True\n",
            "MOR        Morocco          True\n",
            "EG           Egypt          True\n"
          ]
        }
      ]
    },
    {
      "cell_type": "markdown",
      "source": [
        "Square brackets can do more than just selecting columns. You can also use them to get rows, or observations, from a DataFrame. The following call selects the first five rows from the cars DataFrame:\n",
        "\n",
        "`cars[0:5]`\n",
        "\n",
        "The result is another DataFrame containing only the rows you specified.\n",
        "\n",
        "Pay attention: You can only select rows using square brackets if you specify a slice, like `0:4`. Also, you're using the integer indexes of the rows here, not the row labels!\n",
        "\n",
        "Let's practise that!\n",
        "\n",
        "- Select the first 3 observations from cars and print them out.\n",
        "- Select the fourth, fifth and sixth observation, corresponding to row indexes 3, 4 and 5, and print them out.\n"
      ],
      "metadata": {
        "id": "34I3AxmSkhGi"
      }
    },
    {
      "cell_type": "code",
      "source": [
        "# Print out first 3 observations\n",
        "print(cars[0:4])\n",
        "\n",
        "# Print out fourth, fifth and sixth observation\n",
        "print(cars[3:6])"
      ],
      "metadata": {
        "id": "_jgBmVwHkzhl",
        "colab": {
          "base_uri": "https://localhost:8080/"
        },
        "outputId": "f4fd80fe-2265-44dc-f628-ae271357f9b6"
      },
      "execution_count": 10,
      "outputs": [
        {
          "output_type": "stream",
          "name": "stdout",
          "text": [
            "           country  drives_right  cars_per_cap\n",
            "US   United States          True           809\n",
            "AUS      Australia         False           731\n",
            "JPN          Japan         False           588\n",
            "IN           India         False            18\n",
            "     country  drives_right  cars_per_cap\n",
            "IN     India         False            18\n",
            "RU    Russia          True           200\n",
            "MOR  Morocco          True            70\n"
          ]
        }
      ]
    },
    {
      "cell_type": "markdown",
      "source": [
        "## loc and iloc\n",
        "\n",
        "With `loc` and `iloc` you can do practically any data selection operation on DataFrames you can think of. `loc` is label-based, which means that you have to specify rows and columns based on their row and column labels. `iloc` is integer index based, so you have to specify rows and columns by their integer index like you did in the previous exercise."
      ],
      "metadata": {
        "id": "gWc33_6sk9UC"
      }
    },
    {
      "cell_type": "markdown",
      "source": [
        "Try out the following commands in the IPython Shell to experiment with loc and iloc to select observations. Each pair of commands here gives the same result."
      ],
      "metadata": {
        "id": "1myZC8WNlOH7"
      }
    },
    {
      "cell_type": "code",
      "source": [
        "cars.loc['RU']\n",
        "cars.iloc[4]"
      ],
      "metadata": {
        "id": "3Um4xHFGlSgD",
        "colab": {
          "base_uri": "https://localhost:8080/"
        },
        "outputId": "dafa7e28-2788-4d10-8666-fb8dff578092"
      },
      "execution_count": 27,
      "outputs": [
        {
          "output_type": "execute_result",
          "data": {
            "text/plain": [
              "country         Russia\n",
              "drives_right      True\n",
              "cars_per_cap       200\n",
              "COUNTRY         RUSSIA\n",
              "Name: RU, dtype: object"
            ]
          },
          "metadata": {},
          "execution_count": 27
        }
      ]
    },
    {
      "cell_type": "code",
      "source": [
        "cars.loc[['RU']]\n",
        "cars.iloc[[4]]"
      ],
      "metadata": {
        "id": "PESxN74Klt2z",
        "colab": {
          "base_uri": "https://localhost:8080/",
          "height": 81
        },
        "outputId": "f2666396-af5b-4203-8dd4-a808ed5d5060"
      },
      "execution_count": 28,
      "outputs": [
        {
          "output_type": "execute_result",
          "data": {
            "text/plain": [
              "   country  drives_right  cars_per_cap COUNTRY\n",
              "RU  Russia          True           200  RUSSIA"
            ],
            "text/html": [
              "\n",
              "  <div id=\"df-472de58c-bb7f-4c00-8024-b5771b4e4f31\" class=\"colab-df-container\">\n",
              "    <div>\n",
              "<style scoped>\n",
              "    .dataframe tbody tr th:only-of-type {\n",
              "        vertical-align: middle;\n",
              "    }\n",
              "\n",
              "    .dataframe tbody tr th {\n",
              "        vertical-align: top;\n",
              "    }\n",
              "\n",
              "    .dataframe thead th {\n",
              "        text-align: right;\n",
              "    }\n",
              "</style>\n",
              "<table border=\"1\" class=\"dataframe\">\n",
              "  <thead>\n",
              "    <tr style=\"text-align: right;\">\n",
              "      <th></th>\n",
              "      <th>country</th>\n",
              "      <th>drives_right</th>\n",
              "      <th>cars_per_cap</th>\n",
              "      <th>COUNTRY</th>\n",
              "    </tr>\n",
              "  </thead>\n",
              "  <tbody>\n",
              "    <tr>\n",
              "      <th>RU</th>\n",
              "      <td>Russia</td>\n",
              "      <td>True</td>\n",
              "      <td>200</td>\n",
              "      <td>RUSSIA</td>\n",
              "    </tr>\n",
              "  </tbody>\n",
              "</table>\n",
              "</div>\n",
              "    <div class=\"colab-df-buttons\">\n",
              "\n",
              "  <div class=\"colab-df-container\">\n",
              "    <button class=\"colab-df-convert\" onclick=\"convertToInteractive('df-472de58c-bb7f-4c00-8024-b5771b4e4f31')\"\n",
              "            title=\"Convert this dataframe to an interactive table.\"\n",
              "            style=\"display:none;\">\n",
              "\n",
              "  <svg xmlns=\"http://www.w3.org/2000/svg\" height=\"24px\" viewBox=\"0 -960 960 960\">\n",
              "    <path d=\"M120-120v-720h720v720H120Zm60-500h600v-160H180v160Zm220 220h160v-160H400v160Zm0 220h160v-160H400v160ZM180-400h160v-160H180v160Zm440 0h160v-160H620v160ZM180-180h160v-160H180v160Zm440 0h160v-160H620v160Z\"/>\n",
              "  </svg>\n",
              "    </button>\n",
              "\n",
              "  <style>\n",
              "    .colab-df-container {\n",
              "      display:flex;\n",
              "      gap: 12px;\n",
              "    }\n",
              "\n",
              "    .colab-df-convert {\n",
              "      background-color: #E8F0FE;\n",
              "      border: none;\n",
              "      border-radius: 50%;\n",
              "      cursor: pointer;\n",
              "      display: none;\n",
              "      fill: #1967D2;\n",
              "      height: 32px;\n",
              "      padding: 0 0 0 0;\n",
              "      width: 32px;\n",
              "    }\n",
              "\n",
              "    .colab-df-convert:hover {\n",
              "      background-color: #E2EBFA;\n",
              "      box-shadow: 0px 1px 2px rgba(60, 64, 67, 0.3), 0px 1px 3px 1px rgba(60, 64, 67, 0.15);\n",
              "      fill: #174EA6;\n",
              "    }\n",
              "\n",
              "    .colab-df-buttons div {\n",
              "      margin-bottom: 4px;\n",
              "    }\n",
              "\n",
              "    [theme=dark] .colab-df-convert {\n",
              "      background-color: #3B4455;\n",
              "      fill: #D2E3FC;\n",
              "    }\n",
              "\n",
              "    [theme=dark] .colab-df-convert:hover {\n",
              "      background-color: #434B5C;\n",
              "      box-shadow: 0px 1px 3px 1px rgba(0, 0, 0, 0.15);\n",
              "      filter: drop-shadow(0px 1px 2px rgba(0, 0, 0, 0.3));\n",
              "      fill: #FFFFFF;\n",
              "    }\n",
              "  </style>\n",
              "\n",
              "    <script>\n",
              "      const buttonEl =\n",
              "        document.querySelector('#df-472de58c-bb7f-4c00-8024-b5771b4e4f31 button.colab-df-convert');\n",
              "      buttonEl.style.display =\n",
              "        google.colab.kernel.accessAllowed ? 'block' : 'none';\n",
              "\n",
              "      async function convertToInteractive(key) {\n",
              "        const element = document.querySelector('#df-472de58c-bb7f-4c00-8024-b5771b4e4f31');\n",
              "        const dataTable =\n",
              "          await google.colab.kernel.invokeFunction('convertToInteractive',\n",
              "                                                    [key], {});\n",
              "        if (!dataTable) return;\n",
              "\n",
              "        const docLinkHtml = 'Like what you see? Visit the ' +\n",
              "          '<a target=\"_blank\" href=https://colab.research.google.com/notebooks/data_table.ipynb>data table notebook</a>'\n",
              "          + ' to learn more about interactive tables.';\n",
              "        element.innerHTML = '';\n",
              "        dataTable['output_type'] = 'display_data';\n",
              "        await google.colab.output.renderOutput(dataTable, element);\n",
              "        const docLink = document.createElement('div');\n",
              "        docLink.innerHTML = docLinkHtml;\n",
              "        element.appendChild(docLink);\n",
              "      }\n",
              "    </script>\n",
              "  </div>\n",
              "\n",
              "    </div>\n",
              "  </div>\n"
            ]
          },
          "metadata": {},
          "execution_count": 28
        }
      ]
    },
    {
      "cell_type": "code",
      "source": [
        "cars.loc[['RU', 'AUS']]\n",
        "cars.iloc[[4, 1]]"
      ],
      "metadata": {
        "id": "_8Kg6_x3lt9J",
        "colab": {
          "base_uri": "https://localhost:8080/",
          "height": 112
        },
        "outputId": "dd4209c8-f740-4edb-9a1b-48ab9d84a0f4"
      },
      "execution_count": 29,
      "outputs": [
        {
          "output_type": "execute_result",
          "data": {
            "text/plain": [
              "       country  drives_right  cars_per_cap    COUNTRY\n",
              "RU      Russia          True           200     RUSSIA\n",
              "AUS  Australia         False           731  AUSTRALIA"
            ],
            "text/html": [
              "\n",
              "  <div id=\"df-d182ae32-0647-4f9b-a934-e4ddc59c0a74\" class=\"colab-df-container\">\n",
              "    <div>\n",
              "<style scoped>\n",
              "    .dataframe tbody tr th:only-of-type {\n",
              "        vertical-align: middle;\n",
              "    }\n",
              "\n",
              "    .dataframe tbody tr th {\n",
              "        vertical-align: top;\n",
              "    }\n",
              "\n",
              "    .dataframe thead th {\n",
              "        text-align: right;\n",
              "    }\n",
              "</style>\n",
              "<table border=\"1\" class=\"dataframe\">\n",
              "  <thead>\n",
              "    <tr style=\"text-align: right;\">\n",
              "      <th></th>\n",
              "      <th>country</th>\n",
              "      <th>drives_right</th>\n",
              "      <th>cars_per_cap</th>\n",
              "      <th>COUNTRY</th>\n",
              "    </tr>\n",
              "  </thead>\n",
              "  <tbody>\n",
              "    <tr>\n",
              "      <th>RU</th>\n",
              "      <td>Russia</td>\n",
              "      <td>True</td>\n",
              "      <td>200</td>\n",
              "      <td>RUSSIA</td>\n",
              "    </tr>\n",
              "    <tr>\n",
              "      <th>AUS</th>\n",
              "      <td>Australia</td>\n",
              "      <td>False</td>\n",
              "      <td>731</td>\n",
              "      <td>AUSTRALIA</td>\n",
              "    </tr>\n",
              "  </tbody>\n",
              "</table>\n",
              "</div>\n",
              "    <div class=\"colab-df-buttons\">\n",
              "\n",
              "  <div class=\"colab-df-container\">\n",
              "    <button class=\"colab-df-convert\" onclick=\"convertToInteractive('df-d182ae32-0647-4f9b-a934-e4ddc59c0a74')\"\n",
              "            title=\"Convert this dataframe to an interactive table.\"\n",
              "            style=\"display:none;\">\n",
              "\n",
              "  <svg xmlns=\"http://www.w3.org/2000/svg\" height=\"24px\" viewBox=\"0 -960 960 960\">\n",
              "    <path d=\"M120-120v-720h720v720H120Zm60-500h600v-160H180v160Zm220 220h160v-160H400v160Zm0 220h160v-160H400v160ZM180-400h160v-160H180v160Zm440 0h160v-160H620v160ZM180-180h160v-160H180v160Zm440 0h160v-160H620v160Z\"/>\n",
              "  </svg>\n",
              "    </button>\n",
              "\n",
              "  <style>\n",
              "    .colab-df-container {\n",
              "      display:flex;\n",
              "      gap: 12px;\n",
              "    }\n",
              "\n",
              "    .colab-df-convert {\n",
              "      background-color: #E8F0FE;\n",
              "      border: none;\n",
              "      border-radius: 50%;\n",
              "      cursor: pointer;\n",
              "      display: none;\n",
              "      fill: #1967D2;\n",
              "      height: 32px;\n",
              "      padding: 0 0 0 0;\n",
              "      width: 32px;\n",
              "    }\n",
              "\n",
              "    .colab-df-convert:hover {\n",
              "      background-color: #E2EBFA;\n",
              "      box-shadow: 0px 1px 2px rgba(60, 64, 67, 0.3), 0px 1px 3px 1px rgba(60, 64, 67, 0.15);\n",
              "      fill: #174EA6;\n",
              "    }\n",
              "\n",
              "    .colab-df-buttons div {\n",
              "      margin-bottom: 4px;\n",
              "    }\n",
              "\n",
              "    [theme=dark] .colab-df-convert {\n",
              "      background-color: #3B4455;\n",
              "      fill: #D2E3FC;\n",
              "    }\n",
              "\n",
              "    [theme=dark] .colab-df-convert:hover {\n",
              "      background-color: #434B5C;\n",
              "      box-shadow: 0px 1px 3px 1px rgba(0, 0, 0, 0.15);\n",
              "      filter: drop-shadow(0px 1px 2px rgba(0, 0, 0, 0.3));\n",
              "      fill: #FFFFFF;\n",
              "    }\n",
              "  </style>\n",
              "\n",
              "    <script>\n",
              "      const buttonEl =\n",
              "        document.querySelector('#df-d182ae32-0647-4f9b-a934-e4ddc59c0a74 button.colab-df-convert');\n",
              "      buttonEl.style.display =\n",
              "        google.colab.kernel.accessAllowed ? 'block' : 'none';\n",
              "\n",
              "      async function convertToInteractive(key) {\n",
              "        const element = document.querySelector('#df-d182ae32-0647-4f9b-a934-e4ddc59c0a74');\n",
              "        const dataTable =\n",
              "          await google.colab.kernel.invokeFunction('convertToInteractive',\n",
              "                                                    [key], {});\n",
              "        if (!dataTable) return;\n",
              "\n",
              "        const docLinkHtml = 'Like what you see? Visit the ' +\n",
              "          '<a target=\"_blank\" href=https://colab.research.google.com/notebooks/data_table.ipynb>data table notebook</a>'\n",
              "          + ' to learn more about interactive tables.';\n",
              "        element.innerHTML = '';\n",
              "        dataTable['output_type'] = 'display_data';\n",
              "        await google.colab.output.renderOutput(dataTable, element);\n",
              "        const docLink = document.createElement('div');\n",
              "        docLink.innerHTML = docLinkHtml;\n",
              "        element.appendChild(docLink);\n",
              "      }\n",
              "    </script>\n",
              "  </div>\n",
              "\n",
              "\n",
              "<div id=\"df-7a80f3ce-b7d7-4201-a72d-54ed0f2db8e7\">\n",
              "  <button class=\"colab-df-quickchart\" onclick=\"quickchart('df-7a80f3ce-b7d7-4201-a72d-54ed0f2db8e7')\"\n",
              "            title=\"Suggest charts\"\n",
              "            style=\"display:none;\">\n",
              "\n",
              "<svg xmlns=\"http://www.w3.org/2000/svg\" height=\"24px\"viewBox=\"0 0 24 24\"\n",
              "     width=\"24px\">\n",
              "    <g>\n",
              "        <path d=\"M19 3H5c-1.1 0-2 .9-2 2v14c0 1.1.9 2 2 2h14c1.1 0 2-.9 2-2V5c0-1.1-.9-2-2-2zM9 17H7v-7h2v7zm4 0h-2V7h2v10zm4 0h-2v-4h2v4z\"/>\n",
              "    </g>\n",
              "</svg>\n",
              "  </button>\n",
              "\n",
              "<style>\n",
              "  .colab-df-quickchart {\n",
              "      --bg-color: #E8F0FE;\n",
              "      --fill-color: #1967D2;\n",
              "      --hover-bg-color: #E2EBFA;\n",
              "      --hover-fill-color: #174EA6;\n",
              "      --disabled-fill-color: #AAA;\n",
              "      --disabled-bg-color: #DDD;\n",
              "  }\n",
              "\n",
              "  [theme=dark] .colab-df-quickchart {\n",
              "      --bg-color: #3B4455;\n",
              "      --fill-color: #D2E3FC;\n",
              "      --hover-bg-color: #434B5C;\n",
              "      --hover-fill-color: #FFFFFF;\n",
              "      --disabled-bg-color: #3B4455;\n",
              "      --disabled-fill-color: #666;\n",
              "  }\n",
              "\n",
              "  .colab-df-quickchart {\n",
              "    background-color: var(--bg-color);\n",
              "    border: none;\n",
              "    border-radius: 50%;\n",
              "    cursor: pointer;\n",
              "    display: none;\n",
              "    fill: var(--fill-color);\n",
              "    height: 32px;\n",
              "    padding: 0;\n",
              "    width: 32px;\n",
              "  }\n",
              "\n",
              "  .colab-df-quickchart:hover {\n",
              "    background-color: var(--hover-bg-color);\n",
              "    box-shadow: 0 1px 2px rgba(60, 64, 67, 0.3), 0 1px 3px 1px rgba(60, 64, 67, 0.15);\n",
              "    fill: var(--button-hover-fill-color);\n",
              "  }\n",
              "\n",
              "  .colab-df-quickchart-complete:disabled,\n",
              "  .colab-df-quickchart-complete:disabled:hover {\n",
              "    background-color: var(--disabled-bg-color);\n",
              "    fill: var(--disabled-fill-color);\n",
              "    box-shadow: none;\n",
              "  }\n",
              "\n",
              "  .colab-df-spinner {\n",
              "    border: 2px solid var(--fill-color);\n",
              "    border-color: transparent;\n",
              "    border-bottom-color: var(--fill-color);\n",
              "    animation:\n",
              "      spin 1s steps(1) infinite;\n",
              "  }\n",
              "\n",
              "  @keyframes spin {\n",
              "    0% {\n",
              "      border-color: transparent;\n",
              "      border-bottom-color: var(--fill-color);\n",
              "      border-left-color: var(--fill-color);\n",
              "    }\n",
              "    20% {\n",
              "      border-color: transparent;\n",
              "      border-left-color: var(--fill-color);\n",
              "      border-top-color: var(--fill-color);\n",
              "    }\n",
              "    30% {\n",
              "      border-color: transparent;\n",
              "      border-left-color: var(--fill-color);\n",
              "      border-top-color: var(--fill-color);\n",
              "      border-right-color: var(--fill-color);\n",
              "    }\n",
              "    40% {\n",
              "      border-color: transparent;\n",
              "      border-right-color: var(--fill-color);\n",
              "      border-top-color: var(--fill-color);\n",
              "    }\n",
              "    60% {\n",
              "      border-color: transparent;\n",
              "      border-right-color: var(--fill-color);\n",
              "    }\n",
              "    80% {\n",
              "      border-color: transparent;\n",
              "      border-right-color: var(--fill-color);\n",
              "      border-bottom-color: var(--fill-color);\n",
              "    }\n",
              "    90% {\n",
              "      border-color: transparent;\n",
              "      border-bottom-color: var(--fill-color);\n",
              "    }\n",
              "  }\n",
              "</style>\n",
              "\n",
              "  <script>\n",
              "    async function quickchart(key) {\n",
              "      const quickchartButtonEl =\n",
              "        document.querySelector('#' + key + ' button');\n",
              "      quickchartButtonEl.disabled = true;  // To prevent multiple clicks.\n",
              "      quickchartButtonEl.classList.add('colab-df-spinner');\n",
              "      try {\n",
              "        const charts = await google.colab.kernel.invokeFunction(\n",
              "            'suggestCharts', [key], {});\n",
              "      } catch (error) {\n",
              "        console.error('Error during call to suggestCharts:', error);\n",
              "      }\n",
              "      quickchartButtonEl.classList.remove('colab-df-spinner');\n",
              "      quickchartButtonEl.classList.add('colab-df-quickchart-complete');\n",
              "    }\n",
              "    (() => {\n",
              "      let quickchartButtonEl =\n",
              "        document.querySelector('#df-7a80f3ce-b7d7-4201-a72d-54ed0f2db8e7 button');\n",
              "      quickchartButtonEl.style.display =\n",
              "        google.colab.kernel.accessAllowed ? 'block' : 'none';\n",
              "    })();\n",
              "  </script>\n",
              "</div>\n",
              "    </div>\n",
              "  </div>\n"
            ]
          },
          "metadata": {},
          "execution_count": 29
        }
      ]
    },
    {
      "cell_type": "markdown",
      "source": [
        "`loc` and `iloc` also allow you to select both rows and columns from a DataFrame. To experiment, try out the following commands in the IPython Shell. Again, paired commands produce the same result."
      ],
      "metadata": {
        "id": "8Sdk7H1Fl-k9"
      }
    },
    {
      "cell_type": "code",
      "source": [
        "cars.loc['IN', 'cars_per_cap']\n",
        "cars.iloc[3, 0]"
      ],
      "metadata": {
        "id": "q-LrDIhJmBti",
        "colab": {
          "base_uri": "https://localhost:8080/",
          "height": 35
        },
        "outputId": "698e00e1-117a-41a8-cbbe-90cdf62993ff"
      },
      "execution_count": 30,
      "outputs": [
        {
          "output_type": "execute_result",
          "data": {
            "text/plain": [
              "'India'"
            ],
            "application/vnd.google.colaboratory.intrinsic+json": {
              "type": "string"
            }
          },
          "metadata": {},
          "execution_count": 30
        }
      ]
    },
    {
      "cell_type": "code",
      "source": [
        "#cars.loc[['IN', 'RU'], 'cars_per_cap']\n",
        "cars.iloc[[3, 4], 0]"
      ],
      "metadata": {
        "id": "1KyV_GoYmB1S",
        "colab": {
          "base_uri": "https://localhost:8080/"
        },
        "outputId": "67d69d5f-163d-4336-d1fa-0e72348af600"
      },
      "execution_count": 31,
      "outputs": [
        {
          "output_type": "execute_result",
          "data": {
            "text/plain": [
              "IN     India\n",
              "RU    Russia\n",
              "Name: country, dtype: object"
            ]
          },
          "metadata": {},
          "execution_count": 31
        }
      ]
    },
    {
      "cell_type": "code",
      "source": [
        "cars.loc[['IN', 'RU'], ['cars_per_cap', 'country']]\n",
        "cars.iloc[[3, 4], [0, 1]]"
      ],
      "metadata": {
        "id": "2bcpaPeDmB7a",
        "colab": {
          "base_uri": "https://localhost:8080/",
          "height": 112
        },
        "outputId": "f57bd776-78ec-4c05-a50e-dcf91c0e41b6"
      },
      "execution_count": 32,
      "outputs": [
        {
          "output_type": "execute_result",
          "data": {
            "text/plain": [
              "   country  drives_right\n",
              "IN   India         False\n",
              "RU  Russia          True"
            ],
            "text/html": [
              "\n",
              "  <div id=\"df-72bc4449-de8e-4c79-b9b3-64dc6591cde9\" class=\"colab-df-container\">\n",
              "    <div>\n",
              "<style scoped>\n",
              "    .dataframe tbody tr th:only-of-type {\n",
              "        vertical-align: middle;\n",
              "    }\n",
              "\n",
              "    .dataframe tbody tr th {\n",
              "        vertical-align: top;\n",
              "    }\n",
              "\n",
              "    .dataframe thead th {\n",
              "        text-align: right;\n",
              "    }\n",
              "</style>\n",
              "<table border=\"1\" class=\"dataframe\">\n",
              "  <thead>\n",
              "    <tr style=\"text-align: right;\">\n",
              "      <th></th>\n",
              "      <th>country</th>\n",
              "      <th>drives_right</th>\n",
              "    </tr>\n",
              "  </thead>\n",
              "  <tbody>\n",
              "    <tr>\n",
              "      <th>IN</th>\n",
              "      <td>India</td>\n",
              "      <td>False</td>\n",
              "    </tr>\n",
              "    <tr>\n",
              "      <th>RU</th>\n",
              "      <td>Russia</td>\n",
              "      <td>True</td>\n",
              "    </tr>\n",
              "  </tbody>\n",
              "</table>\n",
              "</div>\n",
              "    <div class=\"colab-df-buttons\">\n",
              "\n",
              "  <div class=\"colab-df-container\">\n",
              "    <button class=\"colab-df-convert\" onclick=\"convertToInteractive('df-72bc4449-de8e-4c79-b9b3-64dc6591cde9')\"\n",
              "            title=\"Convert this dataframe to an interactive table.\"\n",
              "            style=\"display:none;\">\n",
              "\n",
              "  <svg xmlns=\"http://www.w3.org/2000/svg\" height=\"24px\" viewBox=\"0 -960 960 960\">\n",
              "    <path d=\"M120-120v-720h720v720H120Zm60-500h600v-160H180v160Zm220 220h160v-160H400v160Zm0 220h160v-160H400v160ZM180-400h160v-160H180v160Zm440 0h160v-160H620v160ZM180-180h160v-160H180v160Zm440 0h160v-160H620v160Z\"/>\n",
              "  </svg>\n",
              "    </button>\n",
              "\n",
              "  <style>\n",
              "    .colab-df-container {\n",
              "      display:flex;\n",
              "      gap: 12px;\n",
              "    }\n",
              "\n",
              "    .colab-df-convert {\n",
              "      background-color: #E8F0FE;\n",
              "      border: none;\n",
              "      border-radius: 50%;\n",
              "      cursor: pointer;\n",
              "      display: none;\n",
              "      fill: #1967D2;\n",
              "      height: 32px;\n",
              "      padding: 0 0 0 0;\n",
              "      width: 32px;\n",
              "    }\n",
              "\n",
              "    .colab-df-convert:hover {\n",
              "      background-color: #E2EBFA;\n",
              "      box-shadow: 0px 1px 2px rgba(60, 64, 67, 0.3), 0px 1px 3px 1px rgba(60, 64, 67, 0.15);\n",
              "      fill: #174EA6;\n",
              "    }\n",
              "\n",
              "    .colab-df-buttons div {\n",
              "      margin-bottom: 4px;\n",
              "    }\n",
              "\n",
              "    [theme=dark] .colab-df-convert {\n",
              "      background-color: #3B4455;\n",
              "      fill: #D2E3FC;\n",
              "    }\n",
              "\n",
              "    [theme=dark] .colab-df-convert:hover {\n",
              "      background-color: #434B5C;\n",
              "      box-shadow: 0px 1px 3px 1px rgba(0, 0, 0, 0.15);\n",
              "      filter: drop-shadow(0px 1px 2px rgba(0, 0, 0, 0.3));\n",
              "      fill: #FFFFFF;\n",
              "    }\n",
              "  </style>\n",
              "\n",
              "    <script>\n",
              "      const buttonEl =\n",
              "        document.querySelector('#df-72bc4449-de8e-4c79-b9b3-64dc6591cde9 button.colab-df-convert');\n",
              "      buttonEl.style.display =\n",
              "        google.colab.kernel.accessAllowed ? 'block' : 'none';\n",
              "\n",
              "      async function convertToInteractive(key) {\n",
              "        const element = document.querySelector('#df-72bc4449-de8e-4c79-b9b3-64dc6591cde9');\n",
              "        const dataTable =\n",
              "          await google.colab.kernel.invokeFunction('convertToInteractive',\n",
              "                                                    [key], {});\n",
              "        if (!dataTable) return;\n",
              "\n",
              "        const docLinkHtml = 'Like what you see? Visit the ' +\n",
              "          '<a target=\"_blank\" href=https://colab.research.google.com/notebooks/data_table.ipynb>data table notebook</a>'\n",
              "          + ' to learn more about interactive tables.';\n",
              "        element.innerHTML = '';\n",
              "        dataTable['output_type'] = 'display_data';\n",
              "        await google.colab.output.renderOutput(dataTable, element);\n",
              "        const docLink = document.createElement('div');\n",
              "        docLink.innerHTML = docLinkHtml;\n",
              "        element.appendChild(docLink);\n",
              "      }\n",
              "    </script>\n",
              "  </div>\n",
              "\n",
              "\n",
              "<div id=\"df-0c32c22e-b038-44a8-b1fb-94905598d00b\">\n",
              "  <button class=\"colab-df-quickchart\" onclick=\"quickchart('df-0c32c22e-b038-44a8-b1fb-94905598d00b')\"\n",
              "            title=\"Suggest charts\"\n",
              "            style=\"display:none;\">\n",
              "\n",
              "<svg xmlns=\"http://www.w3.org/2000/svg\" height=\"24px\"viewBox=\"0 0 24 24\"\n",
              "     width=\"24px\">\n",
              "    <g>\n",
              "        <path d=\"M19 3H5c-1.1 0-2 .9-2 2v14c0 1.1.9 2 2 2h14c1.1 0 2-.9 2-2V5c0-1.1-.9-2-2-2zM9 17H7v-7h2v7zm4 0h-2V7h2v10zm4 0h-2v-4h2v4z\"/>\n",
              "    </g>\n",
              "</svg>\n",
              "  </button>\n",
              "\n",
              "<style>\n",
              "  .colab-df-quickchart {\n",
              "      --bg-color: #E8F0FE;\n",
              "      --fill-color: #1967D2;\n",
              "      --hover-bg-color: #E2EBFA;\n",
              "      --hover-fill-color: #174EA6;\n",
              "      --disabled-fill-color: #AAA;\n",
              "      --disabled-bg-color: #DDD;\n",
              "  }\n",
              "\n",
              "  [theme=dark] .colab-df-quickchart {\n",
              "      --bg-color: #3B4455;\n",
              "      --fill-color: #D2E3FC;\n",
              "      --hover-bg-color: #434B5C;\n",
              "      --hover-fill-color: #FFFFFF;\n",
              "      --disabled-bg-color: #3B4455;\n",
              "      --disabled-fill-color: #666;\n",
              "  }\n",
              "\n",
              "  .colab-df-quickchart {\n",
              "    background-color: var(--bg-color);\n",
              "    border: none;\n",
              "    border-radius: 50%;\n",
              "    cursor: pointer;\n",
              "    display: none;\n",
              "    fill: var(--fill-color);\n",
              "    height: 32px;\n",
              "    padding: 0;\n",
              "    width: 32px;\n",
              "  }\n",
              "\n",
              "  .colab-df-quickchart:hover {\n",
              "    background-color: var(--hover-bg-color);\n",
              "    box-shadow: 0 1px 2px rgba(60, 64, 67, 0.3), 0 1px 3px 1px rgba(60, 64, 67, 0.15);\n",
              "    fill: var(--button-hover-fill-color);\n",
              "  }\n",
              "\n",
              "  .colab-df-quickchart-complete:disabled,\n",
              "  .colab-df-quickchart-complete:disabled:hover {\n",
              "    background-color: var(--disabled-bg-color);\n",
              "    fill: var(--disabled-fill-color);\n",
              "    box-shadow: none;\n",
              "  }\n",
              "\n",
              "  .colab-df-spinner {\n",
              "    border: 2px solid var(--fill-color);\n",
              "    border-color: transparent;\n",
              "    border-bottom-color: var(--fill-color);\n",
              "    animation:\n",
              "      spin 1s steps(1) infinite;\n",
              "  }\n",
              "\n",
              "  @keyframes spin {\n",
              "    0% {\n",
              "      border-color: transparent;\n",
              "      border-bottom-color: var(--fill-color);\n",
              "      border-left-color: var(--fill-color);\n",
              "    }\n",
              "    20% {\n",
              "      border-color: transparent;\n",
              "      border-left-color: var(--fill-color);\n",
              "      border-top-color: var(--fill-color);\n",
              "    }\n",
              "    30% {\n",
              "      border-color: transparent;\n",
              "      border-left-color: var(--fill-color);\n",
              "      border-top-color: var(--fill-color);\n",
              "      border-right-color: var(--fill-color);\n",
              "    }\n",
              "    40% {\n",
              "      border-color: transparent;\n",
              "      border-right-color: var(--fill-color);\n",
              "      border-top-color: var(--fill-color);\n",
              "    }\n",
              "    60% {\n",
              "      border-color: transparent;\n",
              "      border-right-color: var(--fill-color);\n",
              "    }\n",
              "    80% {\n",
              "      border-color: transparent;\n",
              "      border-right-color: var(--fill-color);\n",
              "      border-bottom-color: var(--fill-color);\n",
              "    }\n",
              "    90% {\n",
              "      border-color: transparent;\n",
              "      border-bottom-color: var(--fill-color);\n",
              "    }\n",
              "  }\n",
              "</style>\n",
              "\n",
              "  <script>\n",
              "    async function quickchart(key) {\n",
              "      const quickchartButtonEl =\n",
              "        document.querySelector('#' + key + ' button');\n",
              "      quickchartButtonEl.disabled = true;  // To prevent multiple clicks.\n",
              "      quickchartButtonEl.classList.add('colab-df-spinner');\n",
              "      try {\n",
              "        const charts = await google.colab.kernel.invokeFunction(\n",
              "            'suggestCharts', [key], {});\n",
              "      } catch (error) {\n",
              "        console.error('Error during call to suggestCharts:', error);\n",
              "      }\n",
              "      quickchartButtonEl.classList.remove('colab-df-spinner');\n",
              "      quickchartButtonEl.classList.add('colab-df-quickchart-complete');\n",
              "    }\n",
              "    (() => {\n",
              "      let quickchartButtonEl =\n",
              "        document.querySelector('#df-0c32c22e-b038-44a8-b1fb-94905598d00b button');\n",
              "      quickchartButtonEl.style.display =\n",
              "        google.colab.kernel.accessAllowed ? 'block' : 'none';\n",
              "    })();\n",
              "  </script>\n",
              "</div>\n",
              "    </div>\n",
              "  </div>\n"
            ]
          },
          "metadata": {},
          "execution_count": 32
        }
      ]
    },
    {
      "cell_type": "markdown",
      "source": [
        "It's also possible to select only columns with loc and iloc. In both cases, you simply put a slice going from beginning to end in front of the comma:"
      ],
      "metadata": {
        "id": "e6ENoh4jmKYr"
      }
    },
    {
      "cell_type": "code",
      "source": [
        "cars.loc[:, 'country']\n",
        "#cars.iloc[:, 1]"
      ],
      "metadata": {
        "colab": {
          "base_uri": "https://localhost:8080/"
        },
        "id": "cL6Jgc18mO7D",
        "outputId": "8c8e21ac-2b0b-4e04-ac4d-0d8ebfb87470"
      },
      "execution_count": 33,
      "outputs": [
        {
          "output_type": "execute_result",
          "data": {
            "text/plain": [
              "US     United States\n",
              "AUS        Australia\n",
              "JPN            Japan\n",
              "IN             India\n",
              "RU            Russia\n",
              "MOR          Morocco\n",
              "EG             Egypt\n",
              "Name: country, dtype: object"
            ]
          },
          "metadata": {},
          "execution_count": 33
        }
      ]
    },
    {
      "cell_type": "code",
      "source": [
        "cars.loc[:, ['country','drives_right']]\n",
        "cars.iloc[:, [1, 2]]"
      ],
      "metadata": {
        "colab": {
          "base_uri": "https://localhost:8080/",
          "height": 269
        },
        "id": "L2LqZqaHmQy7",
        "outputId": "22dd4b37-fa19-4b26-cc45-22cc7ed9657a"
      },
      "execution_count": 34,
      "outputs": [
        {
          "output_type": "execute_result",
          "data": {
            "text/plain": [
              "     drives_right  cars_per_cap\n",
              "US           True           809\n",
              "AUS         False           731\n",
              "JPN         False           588\n",
              "IN          False            18\n",
              "RU           True           200\n",
              "MOR          True            70\n",
              "EG           True            45"
            ],
            "text/html": [
              "\n",
              "  <div id=\"df-4f643753-a3bb-4eb8-8e79-0c44b87c46c8\" class=\"colab-df-container\">\n",
              "    <div>\n",
              "<style scoped>\n",
              "    .dataframe tbody tr th:only-of-type {\n",
              "        vertical-align: middle;\n",
              "    }\n",
              "\n",
              "    .dataframe tbody tr th {\n",
              "        vertical-align: top;\n",
              "    }\n",
              "\n",
              "    .dataframe thead th {\n",
              "        text-align: right;\n",
              "    }\n",
              "</style>\n",
              "<table border=\"1\" class=\"dataframe\">\n",
              "  <thead>\n",
              "    <tr style=\"text-align: right;\">\n",
              "      <th></th>\n",
              "      <th>drives_right</th>\n",
              "      <th>cars_per_cap</th>\n",
              "    </tr>\n",
              "  </thead>\n",
              "  <tbody>\n",
              "    <tr>\n",
              "      <th>US</th>\n",
              "      <td>True</td>\n",
              "      <td>809</td>\n",
              "    </tr>\n",
              "    <tr>\n",
              "      <th>AUS</th>\n",
              "      <td>False</td>\n",
              "      <td>731</td>\n",
              "    </tr>\n",
              "    <tr>\n",
              "      <th>JPN</th>\n",
              "      <td>False</td>\n",
              "      <td>588</td>\n",
              "    </tr>\n",
              "    <tr>\n",
              "      <th>IN</th>\n",
              "      <td>False</td>\n",
              "      <td>18</td>\n",
              "    </tr>\n",
              "    <tr>\n",
              "      <th>RU</th>\n",
              "      <td>True</td>\n",
              "      <td>200</td>\n",
              "    </tr>\n",
              "    <tr>\n",
              "      <th>MOR</th>\n",
              "      <td>True</td>\n",
              "      <td>70</td>\n",
              "    </tr>\n",
              "    <tr>\n",
              "      <th>EG</th>\n",
              "      <td>True</td>\n",
              "      <td>45</td>\n",
              "    </tr>\n",
              "  </tbody>\n",
              "</table>\n",
              "</div>\n",
              "    <div class=\"colab-df-buttons\">\n",
              "\n",
              "  <div class=\"colab-df-container\">\n",
              "    <button class=\"colab-df-convert\" onclick=\"convertToInteractive('df-4f643753-a3bb-4eb8-8e79-0c44b87c46c8')\"\n",
              "            title=\"Convert this dataframe to an interactive table.\"\n",
              "            style=\"display:none;\">\n",
              "\n",
              "  <svg xmlns=\"http://www.w3.org/2000/svg\" height=\"24px\" viewBox=\"0 -960 960 960\">\n",
              "    <path d=\"M120-120v-720h720v720H120Zm60-500h600v-160H180v160Zm220 220h160v-160H400v160Zm0 220h160v-160H400v160ZM180-400h160v-160H180v160Zm440 0h160v-160H620v160ZM180-180h160v-160H180v160Zm440 0h160v-160H620v160Z\"/>\n",
              "  </svg>\n",
              "    </button>\n",
              "\n",
              "  <style>\n",
              "    .colab-df-container {\n",
              "      display:flex;\n",
              "      gap: 12px;\n",
              "    }\n",
              "\n",
              "    .colab-df-convert {\n",
              "      background-color: #E8F0FE;\n",
              "      border: none;\n",
              "      border-radius: 50%;\n",
              "      cursor: pointer;\n",
              "      display: none;\n",
              "      fill: #1967D2;\n",
              "      height: 32px;\n",
              "      padding: 0 0 0 0;\n",
              "      width: 32px;\n",
              "    }\n",
              "\n",
              "    .colab-df-convert:hover {\n",
              "      background-color: #E2EBFA;\n",
              "      box-shadow: 0px 1px 2px rgba(60, 64, 67, 0.3), 0px 1px 3px 1px rgba(60, 64, 67, 0.15);\n",
              "      fill: #174EA6;\n",
              "    }\n",
              "\n",
              "    .colab-df-buttons div {\n",
              "      margin-bottom: 4px;\n",
              "    }\n",
              "\n",
              "    [theme=dark] .colab-df-convert {\n",
              "      background-color: #3B4455;\n",
              "      fill: #D2E3FC;\n",
              "    }\n",
              "\n",
              "    [theme=dark] .colab-df-convert:hover {\n",
              "      background-color: #434B5C;\n",
              "      box-shadow: 0px 1px 3px 1px rgba(0, 0, 0, 0.15);\n",
              "      filter: drop-shadow(0px 1px 2px rgba(0, 0, 0, 0.3));\n",
              "      fill: #FFFFFF;\n",
              "    }\n",
              "  </style>\n",
              "\n",
              "    <script>\n",
              "      const buttonEl =\n",
              "        document.querySelector('#df-4f643753-a3bb-4eb8-8e79-0c44b87c46c8 button.colab-df-convert');\n",
              "      buttonEl.style.display =\n",
              "        google.colab.kernel.accessAllowed ? 'block' : 'none';\n",
              "\n",
              "      async function convertToInteractive(key) {\n",
              "        const element = document.querySelector('#df-4f643753-a3bb-4eb8-8e79-0c44b87c46c8');\n",
              "        const dataTable =\n",
              "          await google.colab.kernel.invokeFunction('convertToInteractive',\n",
              "                                                    [key], {});\n",
              "        if (!dataTable) return;\n",
              "\n",
              "        const docLinkHtml = 'Like what you see? Visit the ' +\n",
              "          '<a target=\"_blank\" href=https://colab.research.google.com/notebooks/data_table.ipynb>data table notebook</a>'\n",
              "          + ' to learn more about interactive tables.';\n",
              "        element.innerHTML = '';\n",
              "        dataTable['output_type'] = 'display_data';\n",
              "        await google.colab.output.renderOutput(dataTable, element);\n",
              "        const docLink = document.createElement('div');\n",
              "        docLink.innerHTML = docLinkHtml;\n",
              "        element.appendChild(docLink);\n",
              "      }\n",
              "    </script>\n",
              "  </div>\n",
              "\n",
              "\n",
              "<div id=\"df-08f0f71d-80ca-4ec5-bd60-a3fbd5077232\">\n",
              "  <button class=\"colab-df-quickchart\" onclick=\"quickchart('df-08f0f71d-80ca-4ec5-bd60-a3fbd5077232')\"\n",
              "            title=\"Suggest charts\"\n",
              "            style=\"display:none;\">\n",
              "\n",
              "<svg xmlns=\"http://www.w3.org/2000/svg\" height=\"24px\"viewBox=\"0 0 24 24\"\n",
              "     width=\"24px\">\n",
              "    <g>\n",
              "        <path d=\"M19 3H5c-1.1 0-2 .9-2 2v14c0 1.1.9 2 2 2h14c1.1 0 2-.9 2-2V5c0-1.1-.9-2-2-2zM9 17H7v-7h2v7zm4 0h-2V7h2v10zm4 0h-2v-4h2v4z\"/>\n",
              "    </g>\n",
              "</svg>\n",
              "  </button>\n",
              "\n",
              "<style>\n",
              "  .colab-df-quickchart {\n",
              "      --bg-color: #E8F0FE;\n",
              "      --fill-color: #1967D2;\n",
              "      --hover-bg-color: #E2EBFA;\n",
              "      --hover-fill-color: #174EA6;\n",
              "      --disabled-fill-color: #AAA;\n",
              "      --disabled-bg-color: #DDD;\n",
              "  }\n",
              "\n",
              "  [theme=dark] .colab-df-quickchart {\n",
              "      --bg-color: #3B4455;\n",
              "      --fill-color: #D2E3FC;\n",
              "      --hover-bg-color: #434B5C;\n",
              "      --hover-fill-color: #FFFFFF;\n",
              "      --disabled-bg-color: #3B4455;\n",
              "      --disabled-fill-color: #666;\n",
              "  }\n",
              "\n",
              "  .colab-df-quickchart {\n",
              "    background-color: var(--bg-color);\n",
              "    border: none;\n",
              "    border-radius: 50%;\n",
              "    cursor: pointer;\n",
              "    display: none;\n",
              "    fill: var(--fill-color);\n",
              "    height: 32px;\n",
              "    padding: 0;\n",
              "    width: 32px;\n",
              "  }\n",
              "\n",
              "  .colab-df-quickchart:hover {\n",
              "    background-color: var(--hover-bg-color);\n",
              "    box-shadow: 0 1px 2px rgba(60, 64, 67, 0.3), 0 1px 3px 1px rgba(60, 64, 67, 0.15);\n",
              "    fill: var(--button-hover-fill-color);\n",
              "  }\n",
              "\n",
              "  .colab-df-quickchart-complete:disabled,\n",
              "  .colab-df-quickchart-complete:disabled:hover {\n",
              "    background-color: var(--disabled-bg-color);\n",
              "    fill: var(--disabled-fill-color);\n",
              "    box-shadow: none;\n",
              "  }\n",
              "\n",
              "  .colab-df-spinner {\n",
              "    border: 2px solid var(--fill-color);\n",
              "    border-color: transparent;\n",
              "    border-bottom-color: var(--fill-color);\n",
              "    animation:\n",
              "      spin 1s steps(1) infinite;\n",
              "  }\n",
              "\n",
              "  @keyframes spin {\n",
              "    0% {\n",
              "      border-color: transparent;\n",
              "      border-bottom-color: var(--fill-color);\n",
              "      border-left-color: var(--fill-color);\n",
              "    }\n",
              "    20% {\n",
              "      border-color: transparent;\n",
              "      border-left-color: var(--fill-color);\n",
              "      border-top-color: var(--fill-color);\n",
              "    }\n",
              "    30% {\n",
              "      border-color: transparent;\n",
              "      border-left-color: var(--fill-color);\n",
              "      border-top-color: var(--fill-color);\n",
              "      border-right-color: var(--fill-color);\n",
              "    }\n",
              "    40% {\n",
              "      border-color: transparent;\n",
              "      border-right-color: var(--fill-color);\n",
              "      border-top-color: var(--fill-color);\n",
              "    }\n",
              "    60% {\n",
              "      border-color: transparent;\n",
              "      border-right-color: var(--fill-color);\n",
              "    }\n",
              "    80% {\n",
              "      border-color: transparent;\n",
              "      border-right-color: var(--fill-color);\n",
              "      border-bottom-color: var(--fill-color);\n",
              "    }\n",
              "    90% {\n",
              "      border-color: transparent;\n",
              "      border-bottom-color: var(--fill-color);\n",
              "    }\n",
              "  }\n",
              "</style>\n",
              "\n",
              "  <script>\n",
              "    async function quickchart(key) {\n",
              "      const quickchartButtonEl =\n",
              "        document.querySelector('#' + key + ' button');\n",
              "      quickchartButtonEl.disabled = true;  // To prevent multiple clicks.\n",
              "      quickchartButtonEl.classList.add('colab-df-spinner');\n",
              "      try {\n",
              "        const charts = await google.colab.kernel.invokeFunction(\n",
              "            'suggestCharts', [key], {});\n",
              "      } catch (error) {\n",
              "        console.error('Error during call to suggestCharts:', error);\n",
              "      }\n",
              "      quickchartButtonEl.classList.remove('colab-df-spinner');\n",
              "      quickchartButtonEl.classList.add('colab-df-quickchart-complete');\n",
              "    }\n",
              "    (() => {\n",
              "      let quickchartButtonEl =\n",
              "        document.querySelector('#df-08f0f71d-80ca-4ec5-bd60-a3fbd5077232 button');\n",
              "      quickchartButtonEl.style.display =\n",
              "        google.colab.kernel.accessAllowed ? 'block' : 'none';\n",
              "    })();\n",
              "  </script>\n",
              "</div>\n",
              "    </div>\n",
              "  </div>\n"
            ]
          },
          "metadata": {},
          "execution_count": 34
        }
      ]
    },
    {
      "cell_type": "markdown",
      "source": [
        "## Filtering pandas DataFrames\n",
        "Now we want to learn a step-by-step approach to filter observations from a DataFrame based on boolean arrays."
      ],
      "metadata": {
        "id": "9hsv7XE9oLy8"
      }
    },
    {
      "cell_type": "markdown",
      "source": [
        "Let's start simple and try to find all observations in cars where `drives_right` is True.\n",
        "\n",
        "`drives_right` is a boolean column, so you'll have to extract it as a Series and then use this boolean Series to select observations from `cars`.\n",
        "\n",
        "\n",
        "- Extract the `drives_right` column as a Pandas Series and store it as `dr`.\n",
        "- Use `dr`, a boolean Series, to subset the `cars` DataFrame. Store the resulting selection in `sel`.\n",
        "- Print `sel`, and assert that `drives_right` is `True` for all observations.\n"
      ],
      "metadata": {
        "id": "DnvRDry_ofqc"
      }
    },
    {
      "cell_type": "code",
      "source": [
        "# Extract drives_right column as Series: dr\n",
        "dr = cars[\"drives_right\"]\n",
        "\n",
        "# Use dr to subset cars: sel\n",
        "sel = cars[dr == True]\n",
        "\n",
        "# Print sel\n",
        "print(sel)"
      ],
      "metadata": {
        "id": "Q6FUy_oqo5u0",
        "colab": {
          "base_uri": "https://localhost:8080/"
        },
        "outputId": "5f80b41a-2887-445c-f122-dda183bf85d1"
      },
      "execution_count": 19,
      "outputs": [
        {
          "output_type": "stream",
          "name": "stdout",
          "text": [
            "           country  drives_right  cars_per_cap\n",
            "US   United States          True           809\n",
            "RU          Russia          True           200\n",
            "MOR        Morocco          True            70\n",
            "EG           Egypt          True            45\n"
          ]
        }
      ]
    },
    {
      "cell_type": "markdown",
      "source": [
        "The code in the previous example worked fine, but you actually unnecessarily created a new variable dr. You can achieve the same result without this intermediate variable. Put the code that computes dr straight into the square brackets that select observations from cars.\n",
        "- Convert the code to a one-liner that calculates the variable sel as before."
      ],
      "metadata": {
        "id": "2TWSPLsFpO2V"
      }
    },
    {
      "cell_type": "code",
      "source": [
        "# Convert code to a one-liner\n",
        "sel = cars[cars['drives_right']]\n",
        "\n",
        "# Print sel\n",
        "print(sel)"
      ],
      "metadata": {
        "id": "xI4FlBCcpRy7",
        "colab": {
          "base_uri": "https://localhost:8080/"
        },
        "outputId": "cfc3e078-d478-40d6-91b3-679adfde0398"
      },
      "execution_count": 20,
      "outputs": [
        {
          "output_type": "stream",
          "name": "stdout",
          "text": [
            "           country  drives_right  cars_per_cap\n",
            "US   United States          True           809\n",
            "RU          Russia          True           200\n",
            "MOR        Morocco          True            70\n",
            "EG           Egypt          True            45\n"
          ]
        }
      ]
    },
    {
      "cell_type": "markdown",
      "source": [
        "This time you want to find out which countries have a high cars per capita figure. In other words, in which countries do many people have a car, or maybe multiple cars.\n",
        "\n",
        "Similar to the previous example, you'll want to build up a boolean Series, that you can then use to subset the cars DataFrame to select certain observations.\n",
        "\n",
        "\n",
        "- Select the `cars_per_cap` column from `cars` as a Pandas Series and store it as `cpc`.\n",
        "- Use `cpc` in combination with a comparison operator and `500`. You want to end up with a boolean Series that's `True` if the corresponding country has a `cars_per_cap` of more than `500` and `False` otherwise. Store this boolean Series as `many_cars`.\n",
        "- Use `many_cars` to subset `cars`, similar to what you did before. Store the result as `car_maniac`.\n",
        "- Print out `car_maniac` to see if you got it right.\n"
      ],
      "metadata": {
        "id": "DuRUbhQzpTTs"
      }
    },
    {
      "cell_type": "code",
      "source": [
        "# Create car_maniac: observations that have a cars_per_cap over 500\n",
        "cpc = cars[\"cars_per_cap\"]\n",
        "many_cars = cpc > 500\n",
        "car_maniac = cars[many_cars]\n",
        "\n",
        "# Print car_maniac\n",
        "print(car_maniac)"
      ],
      "metadata": {
        "colab": {
          "base_uri": "https://localhost:8080/"
        },
        "id": "9bJv0KSfp4-b",
        "outputId": "ca1f38f4-7d3f-4306-8d80-774392f9101e"
      },
      "execution_count": 21,
      "outputs": [
        {
          "output_type": "stream",
          "name": "stdout",
          "text": [
            "           country  drives_right  cars_per_cap\n",
            "US   United States          True           809\n",
            "AUS      Australia         False           731\n",
            "JPN          Japan         False           588\n"
          ]
        }
      ]
    },
    {
      "cell_type": "markdown",
      "source": [
        "## Looping\n",
        "\n",
        "Iterating over a Pandas DataFrame is typically done with the `iterrows()` method. Used in a for loop, every observation is iterated over and on every iteration the row label and actual row contents are available:\n",
        "\n",
        "```\n",
        "for lab, row in cars.iterrows() :\n",
        "    ...\n",
        "```"
      ],
      "metadata": {
        "id": "e5nYckqNqeoE"
      }
    },
    {
      "cell_type": "markdown",
      "source": [
        "- Write a for loop that iterates over the rows of cars and on each iteration perform two print() calls: one to print out the row label and one to print out all of the rows contents."
      ],
      "metadata": {
        "id": "msNlYtiCq22E"
      }
    },
    {
      "cell_type": "code",
      "source": [
        "# Iterate over rows of cars\n",
        "for row, lab in cars.iterrows():\n",
        "    print(row)\n",
        "    print(lab)"
      ],
      "metadata": {
        "id": "WNSB9YKmq8vF",
        "colab": {
          "base_uri": "https://localhost:8080/"
        },
        "outputId": "fe75186c-fd5f-493f-eb33-f7f94955f27d"
      },
      "execution_count": 22,
      "outputs": [
        {
          "output_type": "stream",
          "name": "stdout",
          "text": [
            "US\n",
            "country         United States\n",
            "drives_right             True\n",
            "cars_per_cap              809\n",
            "Name: US, dtype: object\n",
            "AUS\n",
            "country         Australia\n",
            "drives_right        False\n",
            "cars_per_cap          731\n",
            "Name: AUS, dtype: object\n",
            "JPN\n",
            "country         Japan\n",
            "drives_right    False\n",
            "cars_per_cap      588\n",
            "Name: JPN, dtype: object\n",
            "IN\n",
            "country         India\n",
            "drives_right    False\n",
            "cars_per_cap       18\n",
            "Name: IN, dtype: object\n",
            "RU\n",
            "country         Russia\n",
            "drives_right      True\n",
            "cars_per_cap       200\n",
            "Name: RU, dtype: object\n",
            "MOR\n",
            "country         Morocco\n",
            "drives_right       True\n",
            "cars_per_cap         70\n",
            "Name: MOR, dtype: object\n",
            "EG\n",
            "country         Egypt\n",
            "drives_right     True\n",
            "cars_per_cap       45\n",
            "Name: EG, dtype: object\n"
          ]
        }
      ]
    },
    {
      "cell_type": "markdown",
      "source": [
        "The row data that's generated by iterrows() on every run is a Pandas Series. This format is not very convenient to print out. Luckily, you can easily select variables from the Pandas Series using square brackets:\n",
        "\n",
        "```\n",
        "for lab, row in cars.iterrows() :\n",
        "    print(row['country'])\n",
        "```"
      ],
      "metadata": {
        "id": "WuC31N3vrFNc"
      }
    },
    {
      "cell_type": "markdown",
      "source": [
        "\n",
        "- Using the iterators lab and row, adapt the code in the for loop such that the first iteration prints out `\"US: 809\"`, the second iteration `\"AUS: 731\"`, and so on.\n",
        "- The output should be in the form `\"country: cars_per_cap\"`. Make sure to print out this exact string (with the correct spacing).\n",
        "You can use `str()` to convert your integer data to a string so that you can print it in conjunction with the country label.\n"
      ],
      "metadata": {
        "id": "EyRIkx6LrKt7"
      }
    },
    {
      "cell_type": "code",
      "source": [
        "# Adapt for loop\n",
        "for lab, row in cars.iterrows() :\n",
        "    print(lab + \": \" + str(row[\"cars_per_cap\"]))"
      ],
      "metadata": {
        "id": "kqMqSrjVrW9l",
        "colab": {
          "base_uri": "https://localhost:8080/"
        },
        "outputId": "a9554e65-03e5-41e3-f2ee-a262ad6d6eeb"
      },
      "execution_count": 23,
      "outputs": [
        {
          "output_type": "stream",
          "name": "stdout",
          "text": [
            "US: 809\n",
            "AUS: 731\n",
            "JPN: 588\n",
            "IN: 18\n",
            "RU: 200\n",
            "MOR: 70\n",
            "EG: 45\n"
          ]
        }
      ]
    },
    {
      "cell_type": "markdown",
      "source": [
        "You can add the length of the country names of the cars DataFrame in a new column like this:\n",
        "\n",
        "```\n",
        "for lab, row in cars.iterrows() :\n",
        "    cars.loc[lab, \"name_length\"] = len(row[\"country\"])\n",
        "```\n",
        "\n",
        "- Use a `for` loop to add a new column, named `COUNTRY`, that contains a uppercase version of the country names in the `\"country\"` column. You can use the string method `upper()` for this.\n",
        "- To see if your code worked, print out `cars`. Don't indent this code, so that it's not part of the `for` loop.\n",
        "\n",
        "\n"
      ],
      "metadata": {
        "id": "RSZbzGfNrcFt"
      }
    },
    {
      "cell_type": "code",
      "source": [
        "# Code for loop that adds COUNTRY column\n",
        "for lab, row in cars.iterrows() :\n",
        "    cars.loc[lab, \"COUNTRY\"] = row[\"country\"].upper()\n",
        "\n",
        "# Print cars\n",
        "print(cars)"
      ],
      "metadata": {
        "colab": {
          "base_uri": "https://localhost:8080/"
        },
        "id": "f2VtRT3HsBUy",
        "outputId": "e4d34445-e860-41e8-e368-7330d277b463"
      },
      "execution_count": 24,
      "outputs": [
        {
          "output_type": "stream",
          "name": "stdout",
          "text": [
            "           country  drives_right  cars_per_cap        COUNTRY\n",
            "US   United States          True           809  UNITED STATES\n",
            "AUS      Australia         False           731      AUSTRALIA\n",
            "JPN          Japan         False           588          JAPAN\n",
            "IN           India         False            18          INDIA\n",
            "RU          Russia          True           200         RUSSIA\n",
            "MOR        Morocco          True            70        MOROCCO\n",
            "EG           Egypt          True            45          EGYPT\n"
          ]
        }
      ]
    }
  ]
}