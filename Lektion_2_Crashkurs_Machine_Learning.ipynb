{
  "nbformat": 4,
  "nbformat_minor": 0,
  "metadata": {
    "colab": {
      "provenance": [],
      "collapsed_sections": [
        "HFeaM-1W3Dwx"
      ],
      "toc_visible": true,
      "authorship_tag": "ABX9TyM6wyl1LmjCcE4dqerFgpsQ",
      "include_colab_link": true
    },
    "kernelspec": {
      "name": "python3",
      "display_name": "Python 3"
    },
    "language_info": {
      "name": "python"
    }
  },
  "cells": [
    {
      "cell_type": "markdown",
      "metadata": {
        "id": "view-in-github",
        "colab_type": "text"
      },
      "source": [
        "<a href=\"https://colab.research.google.com/github/VanishingRasengan/WahlfachKIWiSe2324/blob/main/Lektion_2_Crashkurs_Machine_Learning.ipynb\" target=\"_parent\"><img src=\"https://colab.research.google.com/assets/colab-badge.svg\" alt=\"Open In Colab\"/></a>"
      ]
    },
    {
      "cell_type": "markdown",
      "source": [
        "# Supervised Learning with scikit-learn\n",
        "\n",
        "Supervised learning is a type of machine learning where the values to be predicted are already known, and a model is built with the aim of accurately predicting values of previously unseen data. Supervised learning uses features to predict the value of a target variable, such as predicting a basketball player's position based on their points per game. Today we will exclusively focus on supervised learning."
      ],
      "metadata": {
        "id": "2fmi9Yhj1fUU"
      }
    },
    {
      "cell_type": "markdown",
      "source": [
        "## What is supervised learning?\n",
        "There are two types of supervised learning.\n",
        "- Classification is used to predict the label, or category, of an observation. For example, we can predict whether a bank transaction is fraudulent or not. As there are two outcomes here - a fraudulent transaction, or non-fraudulent transaction, this is known as binary classification.\n",
        "- Regression is used to predict continuous values. For example, a model can use features such as number of bedrooms, and the size of a property, to predict the target variable, price of the property."
      ],
      "metadata": {
        "id": "WGmCbOZ01v2U"
      }
    },
    {
      "cell_type": "markdown",
      "source": [
        " ## Scikit-learn syntax\n",
        " Let's familiarize ourselves with the general scikit-learn workflow syntax, before we explore using real data later in the chapter.\n",
        " 1. We import a Model, which is a type of algorithm for our supervised learning problem, from an sklearn module.\n",
        " 2. We create a variable named model, and instantiate the Model. A model is fit to the data, where it learns patterns about the features and the target variable.\n",
        " 3. We fit the model to X, an array of our features, and y, an array of our target variable values.\n",
        " 4. We then use the `model.prediction` method, passing new observations, X_new.\n",
        "\n",
        "\n",
        "```\n",
        "from sklearn.module import Model\n",
        "model = Model()\n",
        "model.fit(X,y)\n",
        "predictions = model.predict(X_new)\n",
        "print(predictions)\n",
        "```\n",
        "\n",
        "Let's try it out!"
      ],
      "metadata": {
        "id": "s81UMrp11_h1"
      }
    },
    {
      "cell_type": "markdown",
      "source": [
        "# Classification\n",
        "In this chapter, you'll be introduced to classification problems and learn how to solve them using supervised learning techniques. You'll learn how to split data into training and test sets, fit a model, make predictions, and evaluate accuracy. You’ll discover the relationship between model complexity and performance, applying what you learn to a churn dataset, where you will classify the churn status of a telecom company's customers."
      ],
      "metadata": {
        "id": "HFeaM-1W3Dwx"
      }
    },
    {
      "cell_type": "markdown",
      "source": [
        "## k-Nearest Neighbors: Fit\n",
        "In this exercise, you will build your first classification model using the `churn_df` dataset, which has to be imported:"
      ],
      "metadata": {
        "id": "81GeBctL3fAi"
      }
    },
    {
      "cell_type": "code",
      "execution_count": null,
      "metadata": {
        "id": "OnHN8tIw7ucK"
      },
      "outputs": [],
      "source": [
        "# importing the pathlib module - a handy library for working with the local file system in an object oriented way\n",
        "from pathlib import Path\n",
        "import pandas as pd\n",
        "\n",
        "# creating a path object of our data directory within the mounted Google Drive\n",
        "churn_path = Path('/content/')\n",
        "\n",
        "### to download the .csv file\n",
        "!pip install wget\n",
        "import wget\n",
        "wget.download('https://assets.datacamp.com/production/repositories/5981/datasets/8582db71ec282f17c504c8eb794d54758fd8d5d8/telecom_churn_clean.csv')\n",
        "\n",
        "# create another pathlib object with the path to the csv file\n",
        "churn_csv_path = churn_path / 'telecom_churn_clean.csv'\n",
        "churn_df = pd.read_csv(churn_csv_path)"
      ]
    },
    {
      "cell_type": "markdown",
      "source": [
        "\n",
        "The features to use will be \"account_length\" and \"customer_service_calls\". The target, \"churn\", needs to be a single column with the same number of observations as the feature data.\n",
        "\n",
        "- Import `KNeighborsClassifier` from `sklearn.neighbors`.\n",
        "- Create an array called X containing values from the \"account_length\" and \"customer_service_calls\" columns, and an array called y for the values of the \"churn\" column.\n",
        "- Instantiate a `KNeighborsClassifier` called knn with 6 neighbors.\n",
        "- Fit the classifier to the data using the `.fit()` method.\n"
      ],
      "metadata": {
        "id": "rWRyHqCL31VQ"
      }
    },
    {
      "cell_type": "code",
      "source": [
        "# Import KNeighborsClassifier\n",
        "from ____.____ import ____\n",
        "\n",
        "# Create arrays for the features and the target variable\n",
        "y = ____[\"____\"].values\n",
        "X = ____[[\"____\", \"____\"]].values\n",
        "\n",
        "# Create a KNN classifier with 6 neighbors\n",
        "knn = ____\n",
        "\n",
        "# Fit the classifier to the data\n",
        "knn.____(____, ____)"
      ],
      "metadata": {
        "id": "bzyEJc6i_krX"
      },
      "execution_count": null,
      "outputs": []
    },
    {
      "cell_type": "markdown",
      "source": [
        "## k-Nearest Neighbors: Predict\n",
        "Now you have fit a KNN classifier, you can use it to predict the label of new data points. All available data was used for training, however, fortunately, there are new observations available. These have been preloaded for you as X_new.\n",
        " You will use your classifier to predict the labels of a set of new data points:\n",
        "\n",
        "- Create y_pred by predicting the target values of the unseen features X_new.\n",
        "- Print the predicted labels for the set of predictions."
      ],
      "metadata": {
        "id": "HjrBtyAm4FSo"
      }
    },
    {
      "cell_type": "code",
      "source": [
        "X_new = np.array([[30.0, 17.5],\n",
        "                  [107.0, 24.1],\n",
        "                  [213.0, 10.9]])\n",
        "\n",
        "# Predict the labels for the X_new\n",
        "y_pred = ____\n",
        "\n",
        "# Print the predictions for X_new\n",
        "print(\"Predictions: {}\".format(____))"
      ],
      "metadata": {
        "id": "7_MZ-OdwK2OS"
      },
      "execution_count": null,
      "outputs": []
    },
    {
      "cell_type": "markdown",
      "source": [
        "## Train/test split + computing accuracy\n",
        "NumPy arrays have been created for you containing the features as X and the target variable as y. You will split them into training and test sets, fit a KNN classifier to the training data, and then compute its accuracy on the test data using the `.score()` method.\n",
        "\n",
        "- Import train_test_split from sklearn.model_selection.\n",
        "- Split X and y into training and test sets, setting test_size equal to 20%, random_state to 42, and ensuring the target label proportions reflect that of the original dataset.\n",
        "- Fit the knn model to the training data.\n",
        "- Compute and print the model's accuracy for the test data."
      ],
      "metadata": {
        "id": "ULLnl57H4fPy"
      }
    },
    {
      "cell_type": "code",
      "source": [
        "# Import the module\n",
        "____\n",
        "\n",
        "X = churn_df.drop(\"churn\", axis=1).values\n",
        "y = churn_df[\"churn\"].values\n",
        "\n",
        "# Split into training and test sets\n",
        "X_train, X_test, y_train, y_test = ____(____, ____, test_size=____, random_state=____, stratify=____)\n",
        "knn = KNeighborsClassifier(n_neighbors=5)\n",
        "\n",
        "# Fit the classifier to the training data\n",
        "____\n",
        "\n",
        "# Print the accuracy\n",
        "print(knn.score(____, ____))"
      ],
      "metadata": {
        "id": "JwoThWdZK4XJ"
      },
      "execution_count": null,
      "outputs": []
    },
    {
      "cell_type": "markdown",
      "source": [
        "## Overfitting and underfitting\n",
        "Interpreting model complexity is a great way to evaluate performance when utilizing supervised learning. Your aim is to produce a model that can interpret the relationship between features and the target variable, as well as generalize well when exposed to new observations.\n",
        "\n",
        "You will generate accuracy scores for the training and test sets using a KNN classifier with different `n_neighbor` values, which you will plot in the next exercise.\n",
        "\n",
        "- Create neighbors as a numpy array of values from 1 up to and including 12.\n",
        "- Instantiate a KNN classifier, with the number of neighbors equal to the neighbor iterator.\n",
        "- Fit the model to the training data.\n",
        "- Calculate accuracy scores for the training set and test set separately using the .score() method, and assign the results to the index of the train_accuracies and test_accuracies dictionaries, respectively.\n"
      ],
      "metadata": {
        "id": "I7JiHKM_5AWM"
      }
    },
    {
      "cell_type": "code",
      "source": [
        "# Create neighbors\n",
        "neighbors = np.arange(____, ____)\n",
        "train_accuracies = {}\n",
        "test_accuracies = {}\n",
        "\n",
        "for neighbor in neighbors:\n",
        "\n",
        "\t# Set up a KNN Classifier\n",
        "\tknn = ____(____=____)\n",
        "\n",
        "\t# Fit the model\n",
        "\tknn.____(____, ____)\n",
        "\n",
        "\t# Compute accuracy\n",
        "\ttrain_accuracies[____] = knn.____(____, ____)\n",
        "\ttest_accuracies[____] = knn.____(____, ____)\n",
        "print(neighbors, '\\n', train_accuracies, '\\n', test_accuracies)"
      ],
      "metadata": {
        "id": "7Rf6BBTPK7EJ"
      },
      "execution_count": null,
      "outputs": []
    },
    {
      "cell_type": "markdown",
      "source": [
        "Notice how training accuracy decreases as the number of neighbors initially gets larger, and vice versa for the testing accuracy? These scores would be much easier to interpret in a line plot, so let's produce a model complexity curve of these results."
      ],
      "metadata": {
        "id": "_HV72iANKP3C"
      }
    },
    {
      "cell_type": "markdown",
      "source": [
        "## Visualizing model complexity\n",
        "Now you have calculated the accuracy of the KNN model on the training and test sets using various values of n_neighbors, you can create a model complexity curve to visualize how performance changes as the model becomes less complex! You will plot the results to aid in finding the optimal number of neighbors for your model:\n",
        "\n",
        "- Add a title \"KNN: Varying Number of Neighbors\".\n",
        "- Plot the .values() method of train_accuracies on the y-axis against neighbors on the x-axis, with a label of \"Training Accuracy\".\n",
        "- Plot the .values() method of test_accuracies on the y-axis against neighbors on the x-axis, with a label of \"Testing Accuracy\".\n",
        "- Display the plot.\n"
      ],
      "metadata": {
        "id": "O2QswFCY5XZE"
      }
    },
    {
      "cell_type": "code",
      "source": [
        "import matplotlib.pyplot as plt\n",
        "\n",
        "# Add a title\n",
        "plt.title(\"____\")\n",
        "\n",
        "# Plot training accuracies\n",
        "plt.plot(____, ____, label=\"____\")\n",
        "\n",
        "# Plot test accuracies\n",
        "plt.plot(____, ____, label=\"____\")\n",
        "\n",
        "plt.legend()\n",
        "plt.xlabel(\"Number of Neighbors\")\n",
        "plt.ylabel(\"Accuracy\")\n",
        "\n",
        "# Display the plot\n",
        "____"
      ],
      "metadata": {
        "id": "woIYVGTDK-ca"
      },
      "execution_count": null,
      "outputs": []
    },
    {
      "cell_type": "markdown",
      "source": [
        "Great work! See how training accuracy decreases and test accuracy increases as the number of neighbors gets larger. For the test set, accuracy peaks with 7 neighbors, suggesting it is the optimal value for our model. Now let's explore regression models!"
      ],
      "metadata": {
        "id": "D-ZApG965mkV"
      }
    },
    {
      "cell_type": "markdown",
      "source": [
        "# Regression\n",
        "Now we're going to check out the other type of supervised learning: regression. In regression tasks, the target variable typically has continuous values, such as a country's GDP, or the price of a house."
      ],
      "metadata": {
        "id": "IV0sydD_5wOc"
      }
    },
    {
      "cell_type": "markdown",
      "source": [
        "In this chapter, you will work with a dataset called sales_df, which contains information on advertising campaign expenditure across different media types, and the number of dollars generated in sales for the respective campaign. First we import the dataset."
      ],
      "metadata": {
        "id": "U6IkrdmN8fVB"
      }
    },
    {
      "cell_type": "code",
      "source": [
        "# importing the pathlib module - a handy library for working with the local file system in an object oriented way\n",
        "from pathlib import Path\n",
        "import pandas as pd\n",
        "\n",
        "# creating a path object of our data directory within the mounted Google Drive\n",
        "sales_path = Path('/content/')\n",
        "\n",
        "### to download the .csv file\n",
        "import wget\n",
        "wget.download('https://assets.datacamp.com/production/repositories/5981/datasets/0013cbcdf127f3b44e855eb1df754b9dc3526d02/advertising_and_sales_clean.csv')\n",
        "\n",
        "# create another pathlib object with the path to the csv file\n",
        "sales_csv_path = sales_path / 'advertising_and_sales_clean.csv'\n",
        "sales_df = pd.read_csv(sales_csv_path)\n",
        "sales_df = sales_df.drop(columns=\"influencer\")"
      ],
      "metadata": {
        "id": "87LCw3zc81OR"
      },
      "execution_count": null,
      "outputs": []
    },
    {
      "cell_type": "markdown",
      "source": [
        "## Creating features\n",
        "You will use the advertising expenditure as features to predict sales values, initially working with the \"radio\" column. However, before you make any predictions you will need to create the feature and target arrays, reshaping them to the correct format for scikit-learn."
      ],
      "metadata": {
        "id": "nG6HXU-r9u60"
      }
    },
    {
      "cell_type": "markdown",
      "source": [
        "\n",
        "- Create X, an array of the values from the sales_df DataFrame's \"radio\" column.\n",
        "- Create y, an array of the values from the sales_df DataFrame's \"sales\" column.\n",
        "- Reshape X into a two-dimensional NumPy array.\n",
        "    Print the shape of X and y.\n"
      ],
      "metadata": {
        "id": "y1LZTAEZ94wk"
      }
    },
    {
      "cell_type": "code",
      "source": [
        "import numpy as np\n",
        "\n",
        "# Create X from the radio column's values\n",
        "X = ____\n",
        "\n",
        "# Create y from the sales column's values\n",
        "y = ____\n",
        "\n",
        "# Reshape X\n",
        "X = ____\n",
        "\n",
        "# Check the shape of the features and targets\n",
        "print(____)"
      ],
      "metadata": {
        "id": "OX6Oy9KDLo-S"
      },
      "execution_count": null,
      "outputs": []
    },
    {
      "cell_type": "markdown",
      "source": [
        "## Building a linear regression model\n",
        "Now you have created your feature and target arrays, you will train a linear regression model on all feature and target values.\n",
        "\n",
        "As the goal is to assess the relationship between the feature and target values there is no need to split the data into training and test sets.\n",
        "\n",
        "- Import LinearRegression.\n",
        "- Instantiate a linear regression model.\n",
        "- Predict sales values using X, storing as predictions.\n"
      ],
      "metadata": {
        "id": "fiZni14P-EHj"
      }
    },
    {
      "cell_type": "code",
      "source": [
        "# Import LinearRegression\n",
        "from ____.____ import ____\n",
        "\n",
        "# Create the model\n",
        "reg = ____()\n",
        "\n",
        "# Fit the model to the data\n",
        "____\n",
        "\n",
        "# Make predictions\n",
        "predictions = ____\n",
        "\n",
        "print(predictions[:5])"
      ],
      "metadata": {
        "id": "nhi_FVu6LrgB"
      },
      "execution_count": null,
      "outputs": []
    },
    {
      "cell_type": "markdown",
      "source": [
        "## Visualizing a linear regression model\n",
        "Now you have built your linear regression model and trained it using all available observations, you can visualize how well the model fits the data. This allows you to interpret the relationship between `radio` advertising expenditure and `sales` values.\n",
        "\n",
        "- Import matplotlib.pyplot as plt.\n",
        "- Create a scatter plot visualizing y against X, with observations in blue.\n",
        "- Draw a red line plot displaying the predictions against X.\n",
        "- Display the plot.\n"
      ],
      "metadata": {
        "id": "gJmOVN2N-iAc"
      }
    },
    {
      "cell_type": "code",
      "source": [
        "# Import matplotlib.pyplot\n",
        "import ____.____ as ____\n",
        "\n",
        "# Create scatter plot\n",
        "plt.scatter(____, ____, color=\"____\")\n",
        "\n",
        "# Create line plot\n",
        "plt.plot(____, ____, color=\"____\")\n",
        "plt.xlabel(\"Radio Expenditure ($)\")\n",
        "plt.ylabel(\"Sales ($)\")\n",
        "\n",
        "# Display the plot\n",
        "plt.____()"
      ],
      "metadata": {
        "id": "SOwkGLmILs7i"
      },
      "execution_count": null,
      "outputs": []
    },
    {
      "cell_type": "markdown",
      "source": [
        "## Fit and predict for regression\n",
        "Now you have seen how linear regression works, your task is to create a multiple linear regression model using all of the features in the sales_df dataset. You will then use this model to predict sales based on the values of the test features.\n",
        "\n",
        "- Create X, an array containing values of all features in sales_df, and y, containing all values from the \"sales\" column.\n",
        "- Instantiate a linear regression model.\n",
        "- Fit the model to the training data.\n",
        "- Create `y_pred`, making predictions for sales using the test features.\n"
      ],
      "metadata": {
        "id": "d3Ky5Ug8_eAP"
      }
    },
    {
      "cell_type": "code",
      "source": [
        "# Create X and y arrays\n",
        "X = sales_df.____(\"____\", axis=____).____\n",
        "y = sales_df[\"____\"].____\n",
        "\n",
        "X_train, X_test, y_train, y_test = train_test_split(X, y, test_size=0.3, random_state=42)\n",
        "\n",
        "# Instantiate the model\n",
        "reg = ____\n",
        "\n",
        "# Fit the model to the data\n",
        "____\n",
        "\n",
        "# Make predictions\n",
        "y_pred = reg.____(____)\n",
        "print(\"Predictions: {}, Actual Values: {}\".format(y_pred[:2], y_test[:2]))"
      ],
      "metadata": {
        "id": "gclw8jiELuWj"
      },
      "execution_count": null,
      "outputs": []
    },
    {
      "cell_type": "markdown",
      "source": [
        "## Regression performance\n",
        "Now you have fit a model, reg, using all features from sales_df, and made predictions of sales values, you can evaluate performance using some common regression metrics.\n",
        "\n",
        "Your task is to find out how well the features can explain the variance in the target values, along with assessing the model's ability to make predictions on unseen data.\n",
        "\n",
        "- Import mean_squared_error.\n",
        "- Calculate the model's R-squared score by passing the test feature values and the test target values to an appropriate method.\n",
        "- Calculate the model's root mean squared error using y_test and y_pred.\n",
        "- Print r_squared and rmse.\n"
      ],
      "metadata": {
        "id": "h9vgoepUBTGX"
      }
    },
    {
      "cell_type": "code",
      "source": [
        "# Import mean_squared_error\n",
        "from ____.____ import ____\n",
        "\n",
        "# Compute R-squared\n",
        "r_squared = reg.____(____, ____)\n",
        "\n",
        "# Compute RMSE\n",
        "rmse = ____(____, ____, squared=____)\n",
        "\n",
        "# Print the metrics\n",
        "print(\"R^2: {}\".format(____))\n",
        "print(\"RMSE: {}\".format(____))"
      ],
      "metadata": {
        "id": "OdiHIHmULwO6"
      },
      "execution_count": null,
      "outputs": []
    },
    {
      "cell_type": "markdown",
      "source": [
        "## Cross-validation for R-squared\n",
        "Cross-validation is a vital approach to evaluating a model. It maximizes the amount of data that is available to the model, as the model is not only trained but also tested on all of the available data.\n",
        "\n",
        "In this exercise, you will build a linear regression model, then use 6-fold cross-validation to assess its accuracy for predicting sales using social media advertising expenditure. You will display the individual score for each of the six-folds.\n",
        "\n",
        "\n",
        "- Import KFold and cross_val_score.\n",
        "- Create kf by calling KFold(), setting the number of splits to six, shuffle to True, and setting a seed of 5.\n",
        "- Perform cross-validation using reg on X and y, passing kf to cv.\n",
        "- Print the cv_scores.\n"
      ],
      "metadata": {
        "id": "cJjT05m1DqiR"
      }
    },
    {
      "cell_type": "code",
      "source": [
        "X = sales_df.drop(['tv', 'sales'], axis=1).values\n",
        "y = sales_df[\"sales\"].values"
      ],
      "metadata": {
        "id": "vZhDSgXtIEwX"
      },
      "execution_count": null,
      "outputs": []
    },
    {
      "cell_type": "code",
      "source": [
        "# Import the necessary modules\n",
        "from ____.____ import ____, ____\n",
        "\n",
        "# Create a KFold object\n",
        "kf = ____(n_splits=____, shuffle=____, random_state=____)\n",
        "\n",
        "reg = LinearRegression()\n",
        "\n",
        "# Compute 6-fold cross-validation scores\n",
        "cv_scores = ____(____, ____, ____, cv=____)\n",
        "\n",
        "# Print scores\n",
        "print(____)"
      ],
      "metadata": {
        "id": "nWnLuo6vLxgC"
      },
      "execution_count": null,
      "outputs": []
    },
    {
      "cell_type": "markdown",
      "source": [
        "## Analyzing cross-validation metrics\n",
        "Now you have performed cross-validation, it's time to analyze the results.\n",
        "\n",
        "You will display the mean, standard deviation, and 95% confidence interval for cv_results.\n",
        "\n",
        "\n",
        "- Calculate and print the mean of the results.\n",
        "- Calculate and print the standard deviation of cv_results.\n",
        "- Display the 95% confidence interval for your results using np.quantile().\n"
      ],
      "metadata": {
        "id": "6oggQ0a4I-f0"
      }
    },
    {
      "cell_type": "code",
      "source": [
        "# Print the mean\n",
        "print(____(____))\n",
        "\n",
        "# Print the standard deviation\n",
        "print(____(____))\n",
        "\n",
        "# Print the 95% confidence interval\n",
        "print(____(____, [____, ____]))"
      ],
      "metadata": {
        "id": "5dEckq9hL0Wx"
      },
      "execution_count": null,
      "outputs": []
    },
    {
      "cell_type": "markdown",
      "source": [
        "## Regularized regression: Ridge\n",
        "Ridge regression performs regularization by computing the squared values of the model parameters multiplied by alpha and adding them to the loss function.\n",
        "\n",
        "In this exercise, you will fit ridge regression models over a range of different alpha values, and print their scores. You will use all of the features in the sales_df dataset to predict \"sales\".\n",
        "\n",
        "A variable called alphas has been provided as a list containing different alpha values, which you will loop through to generate scores.\n",
        "\n",
        "- Import Ridge.\n",
        "- Instantiate Ridge, setting alpha equal to alpha.\n",
        "- Fit the model to the training data.\n",
        "- Calculate the R-squared score for each iteration of ridge."
      ],
      "metadata": {
        "id": "l2B4BXWPJS51"
      }
    },
    {
      "cell_type": "code",
      "source": [
        "# Import Ridge\n",
        "from ____.____ import ____\n",
        "alphas = [0.1, 1.0, 10.0, 100.0, 1000.0, 10000.0]\n",
        "ridge_scores = []\n",
        "for alpha in alphas:\n",
        "\n",
        "  # Create a Ridge regression model\n",
        "  ridge = ____\n",
        "\n",
        "  # Fit the data\n",
        "  ____\n",
        "\n",
        "  # Obtain R-squared\n",
        "  score = ____\n",
        "  ridge_scores.append(score)\n",
        "print(ridge_scores)"
      ],
      "metadata": {
        "id": "Gqgqk2SLL17R"
      },
      "execution_count": null,
      "outputs": []
    },
    {
      "cell_type": "markdown",
      "source": [
        " The scores don't appear to change much as alpha increases, which is indicative of how well the features explain the variance in the target—even by heavily penalizing large coefficients, underfitting does not occur!"
      ],
      "metadata": {
        "id": "GFxWC2xPJolN"
      }
    },
    {
      "cell_type": "markdown",
      "source": [
        "## Lasso regression for feature importance\n",
        "Lasso regression can be used to identify important features in a dataset.\n",
        "\n",
        "In this exercise, you will fit a lasso regression model to the sales_df data and plot the model's coefficients.\n",
        "\n",
        "\n",
        "- Import Lasso from sklearn.linear_model.\n",
        "- Instantiate a Lasso regressor with an alpha of 0.3.\n",
        "- Fit the model to the data.\n",
        "- Compute the model's coefficients, storing as lasso_coef.\n"
      ],
      "metadata": {
        "id": "nnTAc9twJqh-"
      }
    },
    {
      "cell_type": "code",
      "source": [
        "X = sales_df.drop(\"sales\", axis=1).values\n",
        "y = sales_df[\"sales\"].values"
      ],
      "metadata": {
        "id": "bXG7U7z_JOy4"
      },
      "execution_count": null,
      "outputs": []
    },
    {
      "cell_type": "code",
      "source": [
        "# Import Lasso\n",
        "from ____.____ import ____\n",
        "\n",
        "# Instantiate a lasso regression model\n",
        "lasso = ____\n",
        "\n",
        "# Fit the model to the data\n",
        "____\n",
        "\n",
        "# Compute and print the coefficients\n",
        "lasso_coef = ____\n",
        "print(lasso_coef)\n",
        "plt.bar(sales_columns, lasso_coef)\n",
        "plt.xticks(rotation=45)\n",
        "plt.show()"
      ],
      "metadata": {
        "id": "G-XagLpPL33R"
      },
      "execution_count": null,
      "outputs": []
    },
    {
      "cell_type": "markdown",
      "source": [
        "See how the figure makes it clear that expenditure on TV advertising is the most important feature in the dataset to predict sales values! In the next chapter, we will learn how to further assess and improve our model's performance!"
      ],
      "metadata": {
        "id": "r2ejsCcSKCsO"
      }
    },
    {
      "cell_type": "markdown",
      "source": [
        "# Fine-Tuning Your Model\n",
        "Having trained models, now you will learn how to evaluate them. In this chapter, you will be introduced to several metrics along with a visualization technique for analyzing classification model performance using scikit-learn. You will also learn how to optimize classification and regression models through the use of hyperparameter tuning."
      ],
      "metadata": {
        "id": "pG2hedVrKIO_"
      }
    },
    {
      "cell_type": "markdown",
      "source": [
        "## Assessing a diabetes prediction classifier\n",
        "\n",
        "In this chapter you'll work with the diabetes_df dataset introduced previously.\n",
        "\n",
        "The goal is to predict whether or not each individual is likely to have diabetes based on the features body mass index (BMI) and age (in years). Therefore, it is a binary classification problem. A target value of 0 indicates that the individual does not have diabetes, while a value of 1 indicates that the individual does have diabetes.\n",
        "\n",
        "First we import the `diabetes_df`:"
      ],
      "metadata": {
        "id": "5OZJGuyIMgLn"
      }
    },
    {
      "cell_type": "code",
      "source": [
        "# importing the pathlib module - a handy library for working with the local file system in an object oriented way\n",
        "from pathlib import Path\n",
        "import pandas as pd\n",
        "\n",
        "# creating a path object of our data directory within the mounted Google Drive\n",
        "diabetes_path = Path('/content/')\n",
        "\n",
        "### to download the .csv file\n",
        "import wget\n",
        "wget.download('https://assets.datacamp.com/production/repositories/5981/datasets/3d7b5bbdc7e91636cb1f9b62d9ca2a3959ce8aab/diabetes_clean.csv')\n",
        "\n",
        "# create another pathlib object with the path to the csv file\n",
        "diabetes_csv_path = diabetes_path / 'diabetes_clean.csv'\n",
        "diabetes_df = pd.read_csv(diabetes_csv_path)"
      ],
      "metadata": {
        "id": "xZItK-yRKoGG"
      },
      "execution_count": null,
      "outputs": []
    },
    {
      "cell_type": "markdown",
      "source": [
        "You will fit the model, make predictions on the test set, then produce a confusion matrix and classification report.\n",
        "\n",
        "- Split the dataframe into `X_train`, `X_test`, `y_train`, and `y_test`\n",
        "- Import `confusion_matrix` and `classification_report`.\n",
        "- Fit the model to the training data.\n",
        "- Predict the labels of the test set, storing the results as y_pred.\n",
        "- Compute and print the confusion matrix and classification report for the test labels versus the predicted labels.\n"
      ],
      "metadata": {
        "id": "KseQcj6gK4Bu"
      }
    },
    {
      "cell_type": "code",
      "source": [
        "# Split into X_train, X_test, y_train, and y_test\n",
        "X = diabetes_df.drop(\"diabetes\", axis=1).values\n",
        "y = diabetes_df[\"diabetes\"].values\n",
        "X_train, X_test, y_train, y_test = train_test_split(X, y, test_size=0.3, random_state=42)\n",
        "\n",
        "# Import confusion matrix\n",
        "____\n",
        "\n",
        "knn = KNeighborsClassifier(n_neighbors=6)\n",
        "\n",
        "# Fit the model to the training data\n",
        "____\n",
        "\n",
        "# Predict the labels of the test data: y_pred\n",
        "y_pred = ____\n",
        "\n",
        "# Generate the confusion matrix and classification report\n",
        "print(____(____, ____))\n",
        "print(____(____, ____))"
      ],
      "metadata": {
        "id": "yY383ffTL5RS"
      },
      "execution_count": null,
      "outputs": []
    },
    {
      "cell_type": "markdown",
      "source": [
        "The model produced 38 true positives and 27 false positives, meaning precision was less than 50%, which is confirmed in the classification report. The output also shows a better F1-score for the zero class, which represents individuals who do not have diabetes."
      ],
      "metadata": {
        "id": "GWTuPrF9MLz3"
      }
    },
    {
      "cell_type": "markdown",
      "source": [
        "## Building a logistic regression model\n",
        "\n",
        "In this exercise, you will build a logistic regression model using all features in the diabetes_df dataset. The model will be used to predict the probability of individuals in the test set having a diabetes diagnosis.\n",
        "\n",
        "\n",
        "- Import LogisticRegression.\n",
        "- Instantiate a logistic regression model, logreg.\n",
        "- Fit the model to the training data.\n",
        "- Predict the probabilities of each individual in the test set having a diabetes diagnosis, storing the array of positive probabilities as y_pred_probs.\n"
      ],
      "metadata": {
        "id": "icp0A7N2MmrP"
      }
    },
    {
      "cell_type": "code",
      "source": [
        "# Import LogisticRegression\n",
        "____\n",
        "\n",
        "# Instantiate the model\n",
        "logreg = ____\n",
        "\n",
        "# Fit the model\n",
        "____\n",
        "\n",
        "# Predict probabilities\n",
        "y_pred_probs = logreg.____(____)[____, ____]\n",
        "\n",
        "print(y_pred_probs[:10])"
      ],
      "metadata": {
        "id": "zE5gQhn_L9ry"
      },
      "execution_count": null,
      "outputs": []
    },
    {
      "cell_type": "markdown",
      "source": [
        "## The ROC curve\n",
        "Now you have built a logistic regression model for predicting diabetes status, you can plot the ROC curve to visualize how the true positive rate and false positive rate vary as the decision threshold changes. You will create a ROC curve and then interpret the results.\n",
        "\n",
        "- Import roc_curve.\n",
        "- Calculate the ROC curve values, using y_test and y_pred_probs, and unpacking the results into fpr, tpr, and thresholds.\n",
        "- Plot true positive rate against false positive rate.\n"
      ],
      "metadata": {
        "id": "DB0GCGbJM4QX"
      }
    },
    {
      "cell_type": "code",
      "source": [
        "# Import roc_curve\n",
        "from sklearn.metrics import roc_curve\n",
        "\n",
        "# Generate ROC curve values: fpr, tpr, thresholds\n",
        "fpr, tpr, thresholds = roc_curve(y_test, y_pred_probs)\n",
        "\n",
        "plt.plot([0, 1], [0, 1], 'k--')\n",
        "\n",
        "# Plot tpr against fpr\n",
        "plt.plot(fpr, tpr)\n",
        "plt.xlabel('False Positive Rate')\n",
        "plt.ylabel('True Positive Rate')\n",
        "plt.title('ROC Curve for Diabetes Prediction')\n",
        "plt.show()"
      ],
      "metadata": {
        "id": "ErHs5hZhL_ti"
      },
      "execution_count": null,
      "outputs": []
    },
    {
      "cell_type": "markdown",
      "source": [
        "The ROC curve is above the dotted line, so the model performs better than randomly guessing the class of each observation."
      ],
      "metadata": {
        "id": "SWXJyexINLYy"
      }
    },
    {
      "cell_type": "markdown",
      "source": [
        "## ROC AUC\n",
        "\n",
        "The ROC curve you plotted in the last exercise looked promising.\n",
        "\n",
        "Now you will compute the area under the ROC curve, along with the other classification metrics you have used previously.\n",
        "\n",
        "- Import roc_auc_score.\n",
        "- Calculate and print the ROC AUC score, passing the test labels and the predicted positive class probabilities.\n",
        "- Calculate and print the confusion matrix.\n",
        "- Call classification_report()."
      ],
      "metadata": {
        "id": "V259xaYbMXCL"
      }
    },
    {
      "cell_type": "code",
      "source": [
        "# Import roc_auc_score\n",
        "____\n",
        "\n",
        "# Calculate roc_auc_score\n",
        "print(____(____, ____))\n",
        "\n",
        "# Calculate the confusion matrix\n",
        "print(____(____, ____))\n",
        "\n",
        "# Calculate the classification report\n",
        "print(____(____, ____))"
      ],
      "metadata": {
        "id": "P2fXlJKeKlhR"
      },
      "execution_count": null,
      "outputs": []
    }
  ]
}